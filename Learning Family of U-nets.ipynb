{
 "cells": [
  {
   "cell_type": "code",
   "execution_count": 1,
   "metadata": {
    "_cell_guid": "b1076dfc-b9ad-4769-8c92-a6c4dae69d19",
    "_uuid": "8f2839f25d086af736a60e9eeb907d3b93b6e0e5"
   },
   "outputs": [
    {
     "name": "stdout",
     "output_type": "stream",
     "text": [
      "/kaggle/input/data-science-bowl-2018/stage1_train.zip\n",
      "/kaggle/input/data-science-bowl-2018/stage2_test_final.zip\n",
      "/kaggle/input/data-science-bowl-2018/stage1_train_labels.csv.zip\n",
      "/kaggle/input/data-science-bowl-2018/stage1_sample_submission.csv.zip\n",
      "/kaggle/input/data-science-bowl-2018/stage2_sample_submission_final.csv.zip\n",
      "/kaggle/input/data-science-bowl-2018/stage1_solution.csv.zip\n",
      "/kaggle/input/data-science-bowl-2018/stage1_test.zip\n"
     ]
    }
   ],
   "source": [
    "# This Python 3 environment comes with many helpful analytics libraries installed\n",
    "# It is defined by the kaggle/python Docker image: https://github.com/kaggle/docker-python\n",
    "# For example, here's several helpful packages to load\n",
    "\n",
    "import numpy as np # linear algebra\n",
    "import pandas as pd # data processing, CSV file I/O (e.g. pd.read_csv)\n",
    "\n",
    "# Input data files are available in the read-only \"../input/\" directory\n",
    "# For example, running this (by clicking run or pressing Shift+Enter) will list all files under the input directory\n",
    "\n",
    "import os\n",
    "for dirname, _, filenames in os.walk('/kaggle/input/'):\n",
    "    for filename in filenames:\n",
    "        print(os.path.join(dirname, filename))\n",
    "\n",
    "# You can write up to 5GB to the current directory (/kaggle/working/) that gets preserved as output when you create a version using \"Save & Run All\" \n",
    "# You can also write temporary files to /kaggle/temp/, but they won't be saved outside of the current session"
   ]
  },
  {
   "cell_type": "code",
   "execution_count": 2,
   "metadata": {},
   "outputs": [
    {
     "name": "stdout",
     "output_type": "stream",
     "text": [
      "Extracting all the files now...\n",
      "Done!\n"
     ]
    }
   ],
   "source": [
    "# importing required modules \n",
    "from zipfile import ZipFile \n",
    "  \n",
    "# specifying the zip file name \n",
    "file_name = \"/kaggle/input/data-science-bowl-2018/stage1_train.zip\"\n",
    "  \n",
    "# opening the zip file in READ mode \n",
    "with ZipFile(file_name, 'r') as zip: \n",
    "    # printing all the contents of the zip file \n",
    "    #zip.printdir() \n",
    "  \n",
    "    # extracting all the files \n",
    "    print('Extracting all the files now...') \n",
    "    zip.extractall('dataset') \n",
    "    print('Done!')"
   ]
  },
  {
   "cell_type": "markdown",
   "execution_count": null,
   "metadata": {},
   "source": [
    "### **Importing required modules or libraries**"
   ]
  },
  {
   "cell_type": "code",
   "execution_count": 3,
   "metadata": {},
   "outputs": [
    {
     "name": "stderr",
     "output_type": "stream",
     "text": [
      "Using TensorFlow backend.\n"
     ]
    }
   ],
   "source": [
    "# importing required libraries\n",
    "import numpy as np\n",
    "import matplotlib.pyplot as plt\n",
    "import os\n",
    "import sys\n",
    "import cv2\n",
    "import tensorflow as tf\n",
    "import keras\n",
    "from keras.layers import Conv2D \n",
    "from keras.layers import MaxPooling2D\n",
    "from keras.layers import Conv2DTranspose\n",
    "from keras.layers import Dropout\n",
    "from keras.layers import Input\n",
    "from keras.layers import Concatenate\n",
    "from keras.models import Model"
   ]
  },
  {
   "cell_type": "code",
   "execution_count": 4,
   "metadata": {},
   "outputs": [],
   "source": [
    "#seeding\n",
    "seed = 2019\n",
    "np.random.seed = seed\n",
    "tf.seed = seed"
   ]
  },
  {
   "cell_type": "code",
   "execution_count": 5,
   "metadata": {},
   "outputs": [],
   "source": [
    "#data generator\n",
    "class DataGen(keras.utils.Sequence):\n",
    "    def __init__(self,ids,path,batch_size,image_size):\n",
    "        self.ids = ids\n",
    "        self.path = path\n",
    "        self.batch_size = batch_size\n",
    "        self.image_size = image_size\n",
    "        self.on_epoch_end()\n",
    "        \n",
    "    def __load__(self,id_name):\n",
    "        #path\n",
    "        image_path = os.path.join(self.path,id_name,\"images\",id_name) + '.png'\n",
    "        mask_path = os.path.join(self.path,id_name,\"masks/\")\n",
    "        all_masks = os.listdir(mask_path)\n",
    "        \n",
    "        #reading_images\n",
    "        try:\n",
    "            image = cv2.imread(image_path,1)\n",
    "            image = cv2.resize(image,(self.image_size,self.image_size))\n",
    "        except Exception as e:\n",
    "            print(str(e))\n",
    "        \n",
    "        mask = np.zeros((self.image_size,self.image_size,1))\n",
    "        #reading masks\n",
    "        for name in all_masks:\n",
    "            try:\n",
    "                _mask_path = mask_path +name\n",
    "                _mask_image = cv2.imread(_mask_path,-1)\n",
    "                _mask_image = cv2.resize(_mask_image,(self.image_size,self.image_size))\n",
    "                _mask_image = np.expand_dims(_mask_image,axis = -1)\n",
    "                mask = np.maximum(mask,_mask_image)\n",
    "            except Exception as e:\n",
    "                print(str(e))\n",
    "        \n",
    "        #normalising\n",
    "        image = image/255.\n",
    "        mask = mask/255.\n",
    "        return image,mask\n",
    "    \n",
    "    def __getitem__(self,index):\n",
    "        if (index+1)*self.batch_size > len(self.ids):\n",
    "            self.batch_size = len(self.ids) - index*self.batch_size\n",
    "            \n",
    "        files_batch = self.ids[index*self.batch_size : (index+1)*self.batch_size]\n",
    "        \n",
    "        image = []\n",
    "        mask = []\n",
    "        \n",
    "        for id_name in files_batch:\n",
    "            _img , _mask = self.__load__(id_name)\n",
    "            image.append(_img)\n",
    "            mask.append(_mask)\n",
    "            \n",
    "        image = np.array(image)\n",
    "        mask = np.array(mask)\n",
    "        \n",
    "        return image,mask\n",
    "    \n",
    "    def on_epoch_end(self):\n",
    "        pass\n",
    "    \n",
    "    def __len__(self):\n",
    "        return int(np.ceil(len(self.ids)/float(self.batch_size)))"
   ]
  },
  {
   "cell_type": "markdown",
   "execution_count": null,
   "metadata": {},
   "source": [
    "### **Specify Hyperparameters for networks**"
   ]
  },
  {
   "cell_type": "code",
   "execution_count": 6,
   "metadata": {},
   "outputs": [],
   "source": [
    "image_size = 128\n",
    "batch_size = 8\n",
    "epochs = 10\n",
    "train_path = \"dataset\"\n",
    "train_ids = next(os.walk(train_path))[1]\n",
    "val_data_size = 10\n",
    "valid_ids = train_ids[:val_data_size]\n",
    "train_ids = train_ids[val_data_size:]"
   ]
  },
  {
   "cell_type": "code",
   "execution_count": 7,
   "metadata": {},
   "outputs": [
    {
     "name": "stdout",
     "output_type": "stream",
     "text": [
      "(8, 128, 128, 3) (8, 128, 128, 1)\n"
     ]
    }
   ],
   "source": [
    "# initialize datagenerator\n",
    "gen = DataGen(train_ids,train_path,batch_size = batch_size ,image_size = image_size)\n",
    "x,y = gen.__getitem__(0)\n",
    "print(x.shape,y.shape)"
   ]
  },
  {
   "cell_type": "code",
   "execution_count": 8,
   "metadata": {},
   "outputs": [
    {
     "data": {
      "text/plain": [
       "<matplotlib.image.AxesImage at 0x7fc87e9f5850>"
      ]
     },
     "execution_count": 8,
     "metadata": {},
     "output_type": "execute_result"
    },
    {
     "data": {
      "image/png": "[encoded data removed]",
      "text/plain": [
       "<Figure size 432x288 with 2 Axes>"
      ]
     },
     "metadata": {
      "needs_background": "light"
     },
     "output_type": "display_data"
    }
   ],
   "source": [
    "# visualize dataset\n",
    "r = np.random.randint(0,len(x)-1)\n",
    "fig = plt.figure()\n",
    "fig.subplots_adjust(hspace =0.4 ,wspace =0.4)\n",
    "ax = fig.add_subplot(1,2,1)\n",
    "ax.title.set_text('image')\n",
    "ax.imshow(x[r])\n",
    "ax = fig.add_subplot(1,2,2)\n",
    "ax.title.set_text('mask')\n",
    "ax.imshow(np.reshape(y[r],(image_size , image_size)),cmap = 'gray')"
   ]
  },
  {
   "cell_type": "code",
   "execution_count": 9,
   "metadata": {},
   "outputs": [],
   "source": [
    "# different convolution blocks\n",
    "# 2d standard_unit for downsampling in all models\n",
    "def standard_unit(x, filters, kernel_size=(3, 3), padding=\"same\", strides=1):\n",
    "    c = Conv2D(filters, kernel_size, padding=padding, strides=strides, activation=\"relu\")(x)\n",
    "    c = Conv2D(filters, kernel_size, padding=padding, strides=strides, activation=\"relu\")(c)\n",
    "    p = MaxPooling2D((2,2))(c)\n",
    "    return c,p\n",
    "\n",
    "# upsampling_unit combinataion of deconvolution and skip layer\n",
    "def upsampling_unit(x, skip,filters, kernel_size=(3, 3), padding=\"same\", strides=1):\n",
    "    us = Conv2DTranspose(filters ,(2,2),strides=(2, 2), padding='same')(x)\n",
    "    concat = Concatenate()([us,skip])\n",
    "    c,_ = standard_unit(concat,filters)\n",
    "    return c\n",
    "\n",
    "# bottleneck function for unet\n",
    "def bottleneck(x, filters, kernel_size=(3, 3), padding=\"same\", strides=1):\n",
    "    c = Conv2D(filters, kernel_size, padding=padding, strides=strides, activation=\"relu\")(x)\n",
    "    c = Conv2D(filters, kernel_size, padding=padding, strides=strides, activation=\"relu\")(c)\n",
    "    return c"
   ]
  },
  {
   "cell_type": "code",
   "execution_count": 10,
   "metadata": {},
   "outputs": [],
   "source": [
    "\"\"\"\n",
    "standard u-net \n",
    "\"\"\"\n",
    "\n",
    "# define model for unet segmentation\n",
    "def UNet(image_row,image_col):\n",
    "    f = [16, 32, 64, 128, 256]\n",
    "    inputs = Input((image_row,image_col, 3))\n",
    "    \n",
    "    p0 = inputs\n",
    "    c1, p1 = standard_unit(p0, f[0]) #128 -> 64\n",
    "    c2, p2 = standard_unit(p1, f[1]) #64 -> 32\n",
    "    c3, p3 = standard_unit(p2, f[2]) #32 -> 16\n",
    "    c4, p4 = standard_unit(p3, f[3]) #16->8\n",
    "    \n",
    "    bn = bottleneck(p4, f[4])\n",
    "    \n",
    "    u1 = upsampling_unit(bn, c4, f[3]) #8 -> 16\n",
    "    u2 = upsampling_unit(u1, c3, f[2]) #16 -> 32\n",
    "    u3 = upsampling_unit(u2, c2, f[1]) #32 -> 64\n",
    "    u4 = upsampling_unit(u3, c1, f[0]) #64 -> 128\n",
    "    \n",
    "    outputs = Conv2D(1, (1, 1), padding=\"same\", activation=\"sigmoid\")(u4)\n",
    "    model = Model(inputs, outputs)\n",
    "    return model"
   ]
  },
  {
   "cell_type": "code",
   "execution_count": 11,
   "metadata": {},
   "outputs": [],
   "source": [
    "\"\"\"\n",
    "wide unet \n",
    "\"\"\"\n",
    "\n",
    "# define wide u-net model\n",
    "def W_UNet(image_row,image_col):\n",
    "    #f = [16,32,64,128,256]\n",
    "    f = [35,70,140,280,560]\n",
    "    img_input = Input((image_row , image_col ,3))\n",
    "    \n",
    "    c11,p1 = standard_unit(img_input,f[0])\n",
    "    c21,p2 = standard_unit(p1,f[1])\n",
    "    c31,p3 = standard_unit(p2,f[2])\n",
    "    c41,p4 = standard_unit(p3,f[3])\n",
    "    c51,_ = standard_unit(p4 ,f[4])\n",
    "    \n",
    "    c42 = upsampling_unit(c51,c41,f[3])\n",
    "    c33 = upsampling_unit(c42,c31,f[2])\n",
    "    c24 = upsampling_unit(c33,c21,f[1])\n",
    "    c15 = upsampling_unit(c24,c11,f[0])\n",
    "    \n",
    "    outputs = Conv2D(1,(1,1),activation='sigmoid',padding = 'same',strides =1)(c15)\n",
    "    \n",
    "    model = Model(img_input,outputs)\n",
    "    return model"
   ]
  },
  {
   "cell_type": "code",
   "execution_count": 12,
   "metadata": {},
   "outputs": [],
   "source": [
    "\"\"\"\n",
    "nested u-net or standard unet++\n",
    "\"\"\"\n",
    "\n",
    "# define unet++ model\n",
    "def Nested_Net(image_row,image_col):\n",
    "    f = [16, 32, 64, 128, 256]\n",
    "    img_input = Input((image_row,image_col, 3))\n",
    "\n",
    "    # first downsampling layer\n",
    "    c11,p1 = standard_unit(img_input,f[0])\n",
    "    c21,p2 = standard_unit(p1 , f[1])\n",
    "    c31,p3 = standard_unit(p2,f[2])\n",
    "    c41,p4 = standard_unit(p3,f[3])\n",
    "    c51,_ = standard_unit(p4 ,f[4])\n",
    "    \n",
    "    u12 = Conv2DTranspose(f[0], (2, 2), strides=(2, 2), padding='same')(c21)\n",
    "    concat = Concatenate()([u12, c11])\n",
    "    c12,_ = standard_unit(concat, f[0])\n",
    "\n",
    "    u22 = Conv2DTranspose(f[1], (2, 2), strides=(2, 2), padding='same')(c31)\n",
    "    concat = Concatenate()([u22, c21])\n",
    "    c22,_ = standard_unit(concat, f[1])\n",
    "\n",
    "    u32 = Conv2DTranspose(f[2], (2, 2), strides=(2, 2), padding='same')(c41)\n",
    "    concat = Concatenate()([u32, c31])\n",
    "    c32,_ = standard_unit(concat, f[2])\n",
    "\n",
    "    u42 = Conv2DTranspose(f[3], (2, 2), strides=(2, 2), padding='same')(c51)\n",
    "    concat = Concatenate()([u42, c41])\n",
    "    c42,_ = standard_unit(concat, f[3])\n",
    "    \n",
    "    u13 = Conv2DTranspose(f[0], (2, 2), strides=(2, 2), padding='same')(c22)\n",
    "    concat = Concatenate()([u13, c11,c12])\n",
    "    c13,_ = standard_unit(concat, f[0])\n",
    "\n",
    "    u23 = Conv2DTranspose(f[1], (2, 2), strides=(2, 2), padding='same')(c32)\n",
    "    concat = Concatenate()([u23, c21,c22])\n",
    "    c23,_ = standard_unit(concat, f[1])\n",
    "\n",
    "    u33 = Conv2DTranspose(f[2], (2, 2), strides=(2, 2), padding='same')(c42)\n",
    "    concat = Concatenate()([u33, c31,c32])\n",
    "    c33,_ = standard_unit(concat, f[2])\n",
    "    \n",
    "    u14 = Conv2DTranspose(f[0], (2, 2), strides=(2, 2), padding='same')(c23)\n",
    "    concat = Concatenate()([u14, c11,c12,c13])\n",
    "    c14,_ = standard_unit(concat, f[0])\n",
    "\n",
    "    u24 = Conv2DTranspose(f[1], (2, 2), strides=(2, 2), padding='same')(c33)\n",
    "    concat = Concatenate()([u24, c21,c22,c23])\n",
    "    c24,_ = standard_unit(concat, f[1])\n",
    "    \n",
    "    u15 = Conv2DTranspose(f[0], (2, 2), strides=(2, 2), padding='same')(c24)\n",
    "    concat = Concatenate()([u15, c11,c12,c13,c14])\n",
    "    c15,_ = standard_unit(concat, f[0])\n",
    "    \n",
    "    nestnet_output1 = Conv2D(1,(1,1) ,activation= 'sigmoid',padding ='same' ,strides =1)(c12)\n",
    "    nestnet_output2 = Conv2D(1,(1,1) ,activation= 'sigmoid',padding ='same' ,strides =1)(c13)\n",
    "    nestnet_output3 = Conv2D(1,(1,1) ,activation= 'sigmoid',padding ='same' ,strides =1)(c14)\n",
    "    nestnet_output4 = Conv2D(1,(1,1) ,activation= 'sigmoid',padding ='same' ,strides =1)(c15)\n",
    "    \n",
    "    model = Model(input = img_input ,output = nestnet_output4)\n",
    "    return model"
   ]
  },
  {
   "cell_type": "code",
   "execution_count": 13,
   "metadata": {},
   "outputs": [],
   "source": [
    "train_gen = DataGen(train_ids,train_path,batch_size=batch_size, image_size=image_size)\n",
    "valid_gen = DataGen(valid_ids,train_path,batch_size=batch_size, image_size=image_size)\n",
    "\n",
    "train_steps = len(train_ids)//batch_size\n",
    "valid_steps = len(valid_ids)//batch_size"
   ]
  },
  {
   "cell_type": "code",
   "execution_count": 14,
   "metadata": {},
   "outputs": [
    {
     "name": "stdout",
     "output_type": "stream",
     "text": [
      "Model: \"model_1\"\n",
      "__________________________________________________________________________________________________\n",
      "Layer (type)                    Output Shape         Param #     Connected to                     \n",
      "==================================================================================================\n",
      "input_1 (InputLayer)            (None, 128, 128, 3)  0                                            \n",
      "__________________________________________________________________________________________________\n",
      "conv2d_1 (Conv2D)               (None, 128, 128, 16) 448         input_1[0][0]                    \n",
      "__________________________________________________________________________________________________\n",
      "conv2d_2 (Conv2D)               (None, 128, 128, 16) 2320        conv2d_1[0][0]                   \n",
      "__________________________________________________________________________________________________\n",
      "max_pooling2d_1 (MaxPooling2D)  (None, 64, 64, 16)   0           conv2d_2[0][0]                   \n",
      "__________________________________________________________________________________________________\n",
      "conv2d_3 (Conv2D)               (None, 64, 64, 32)   4640        max_pooling2d_1[0][0]            \n",
      "__________________________________________________________________________________________________\n",
      "conv2d_4 (Conv2D)               (None, 64, 64, 32)   9248        conv2d_3[0][0]                   \n",
      "__________________________________________________________________________________________________\n",
      "max_pooling2d_2 (MaxPooling2D)  (None, 32, 32, 32)   0           conv2d_4[0][0]                   \n",
      "__________________________________________________________________________________________________\n",
      "conv2d_5 (Conv2D)               (None, 32, 32, 64)   18496       max_pooling2d_2[0][0]            \n",
      "__________________________________________________________________________________________________\n",
      "conv2d_6 (Conv2D)               (None, 32, 32, 64)   36928       conv2d_5[0][0]                   \n",
      "__________________________________________________________________________________________________\n",
      "max_pooling2d_3 (MaxPooling2D)  (None, 16, 16, 64)   0           conv2d_6[0][0]                   \n",
      "__________________________________________________________________________________________________\n",
      "conv2d_7 (Conv2D)               (None, 16, 16, 128)  73856       max_pooling2d_3[0][0]            \n",
      "__________________________________________________________________________________________________\n",
      "conv2d_8 (Conv2D)               (None, 16, 16, 128)  147584      conv2d_7[0][0]                   \n",
      "__________________________________________________________________________________________________\n",
      "max_pooling2d_4 (MaxPooling2D)  (None, 8, 8, 128)    0           conv2d_8[0][0]                   \n",
      "__________________________________________________________________________________________________\n",
      "conv2d_9 (Conv2D)               (None, 8, 8, 256)    295168      max_pooling2d_4[0][0]            \n",
      "__________________________________________________________________________________________________\n",
      "conv2d_10 (Conv2D)              (None, 8, 8, 256)    590080      conv2d_9[0][0]                   \n",
      "__________________________________________________________________________________________________\n",
      "conv2d_transpose_1 (Conv2DTrans (None, 16, 16, 128)  131200      conv2d_10[0][0]                  \n",
      "__________________________________________________________________________________________________\n",
      "concatenate_1 (Concatenate)     (None, 16, 16, 256)  0           conv2d_transpose_1[0][0]         \n",
      "                                                                 conv2d_8[0][0]                   \n",
      "__________________________________________________________________________________________________\n",
      "conv2d_11 (Conv2D)              (None, 16, 16, 128)  295040      concatenate_1[0][0]              \n",
      "__________________________________________________________________________________________________\n",
      "conv2d_12 (Conv2D)              (None, 16, 16, 128)  147584      conv2d_11[0][0]                  \n",
      "__________________________________________________________________________________________________\n",
      "conv2d_transpose_2 (Conv2DTrans (None, 32, 32, 64)   32832       conv2d_12[0][0]                  \n",
      "__________________________________________________________________________________________________\n",
      "concatenate_2 (Concatenate)     (None, 32, 32, 128)  0           conv2d_transpose_2[0][0]         \n",
      "                                                                 conv2d_6[0][0]                   \n",
      "__________________________________________________________________________________________________\n",
      "conv2d_13 (Conv2D)              (None, 32, 32, 64)   73792       concatenate_2[0][0]              \n",
      "__________________________________________________________________________________________________\n",
      "conv2d_14 (Conv2D)              (None, 32, 32, 64)   36928       conv2d_13[0][0]                  \n",
      "__________________________________________________________________________________________________\n",
      "conv2d_transpose_3 (Conv2DTrans (None, 64, 64, 32)   8224        conv2d_14[0][0]                  \n",
      "__________________________________________________________________________________________________\n",
      "concatenate_3 (Concatenate)     (None, 64, 64, 64)   0           conv2d_transpose_3[0][0]         \n",
      "                                                                 conv2d_4[0][0]                   \n",
      "__________________________________________________________________________________________________\n",
      "conv2d_15 (Conv2D)              (None, 64, 64, 32)   18464       concatenate_3[0][0]              \n",
      "__________________________________________________________________________________________________\n",
      "conv2d_16 (Conv2D)              (None, 64, 64, 32)   9248        conv2d_15[0][0]                  \n",
      "__________________________________________________________________________________________________\n",
      "conv2d_transpose_4 (Conv2DTrans (None, 128, 128, 16) 2064        conv2d_16[0][0]                  \n",
      "__________________________________________________________________________________________________\n",
      "concatenate_4 (Concatenate)     (None, 128, 128, 32) 0           conv2d_transpose_4[0][0]         \n",
      "                                                                 conv2d_2[0][0]                   \n",
      "__________________________________________________________________________________________________\n",
      "conv2d_17 (Conv2D)              (None, 128, 128, 16) 4624        concatenate_4[0][0]              \n",
      "__________________________________________________________________________________________________\n",
      "conv2d_18 (Conv2D)              (None, 128, 128, 16) 2320        conv2d_17[0][0]                  \n",
      "__________________________________________________________________________________________________\n",
      "conv2d_19 (Conv2D)              (None, 128, 128, 1)  17          conv2d_18[0][0]                  \n",
      "==================================================================================================\n",
      "Total params: 1,941,105\n",
      "Trainable params: 1,941,105\n",
      "Non-trainable params: 0\n",
      "__________________________________________________________________________________________________\n"
     ]
    }
   ],
   "source": [
    "model_unet = UNet(128,128)\n",
    "model_unet.compile(optimizer='adam' ,loss = 'binary_crossentropy',metrics = ['accuracy'])\n",
    "model_unet.summary()"
   ]
  },
  {
   "cell_type": "code",
   "execution_count": 15,
   "metadata": {},
   "outputs": [
    {
     "name": "stdout",
     "output_type": "stream",
     "text": [
      "Epoch 1/10\n",
      "82/82 [==============================] - 21s 253ms/step - loss: 0.4303 - accuracy: 0.8330 - val_loss: 0.2954 - val_accuracy: 0.8345\n",
      "Epoch 2/10\n",
      "82/82 [==============================] - 13s 163ms/step - loss: 0.2747 - accuracy: 0.8538 - val_loss: 0.4060 - val_accuracy: 0.7348\n",
      "Epoch 3/10\n",
      "82/82 [==============================] - 9s 112ms/step - loss: 0.1528 - accuracy: 0.9228 - val_loss: 0.0330 - val_accuracy: 0.9800\n",
      "Epoch 4/10\n",
      "82/82 [==============================] - 11s 136ms/step - loss: 0.1433 - accuracy: 0.9290 - val_loss: 0.1008 - val_accuracy: 0.9449\n",
      "Epoch 5/10\n",
      "82/82 [==============================] - 11s 135ms/step - loss: 0.1259 - accuracy: 0.9365 - val_loss: 0.0549 - val_accuracy: 0.9684\n",
      "Epoch 6/10\n",
      "82/82 [==============================] - 11s 135ms/step - loss: 0.1131 - accuracy: 0.9405 - val_loss: 0.1056 - val_accuracy: 0.9329\n",
      "Epoch 7/10\n",
      "82/82 [==============================] - 12s 141ms/step - loss: 0.1001 - accuracy: 0.9457 - val_loss: 0.0396 - val_accuracy: 0.9807\n",
      "Epoch 8/10\n",
      "82/82 [==============================] - 13s 159ms/step - loss: 0.1034 - accuracy: 0.9425 - val_loss: 0.0222 - val_accuracy: 0.9829\n",
      "Epoch 9/10\n",
      "82/82 [==============================] - 10s 116ms/step - loss: 0.0961 - accuracy: 0.9496 - val_loss: 0.0645 - val_accuracy: 0.9611\n",
      "Epoch 10/10\n",
      "82/82 [==============================] - 10s 125ms/step - loss: 0.0926 - accuracy: 0.9486 - val_loss: 0.0300 - val_accuracy: 0.9789\n"
     ]
    },
    {
     "data": {
      "text/plain": [
       "<keras.callbacks.callbacks.History at 0x7fc7e4f29c50>"
      ]
     },
     "execution_count": 15,
     "metadata": {},
     "output_type": "execute_result"
    }
   ],
   "source": [
    "# fit to unet\n",
    "model_unet.fit_generator(train_gen,\n",
    "                  validation_data = valid_gen,\n",
    "                  steps_per_epoch = train_steps,\n",
    "                  validation_steps= valid_steps,\n",
    "                  epochs = epochs)"
   ]
  },
  {
   "cell_type": "code",
   "execution_count": 16,
   "metadata": {},
   "outputs": [
    {
     "name": "stdout",
     "output_type": "stream",
     "text": [
      "Model: \"model_2\"\n",
      "__________________________________________________________________________________________________\n",
      "Layer (type)                    Output Shape         Param #     Connected to                     \n",
      "==================================================================================================\n",
      "input_2 (InputLayer)            (None, 128, 128, 3)  0                                            \n",
      "__________________________________________________________________________________________________\n",
      "conv2d_20 (Conv2D)              (None, 128, 128, 35) 980         input_2[0][0]                    \n",
      "__________________________________________________________________________________________________\n",
      "conv2d_21 (Conv2D)              (None, 128, 128, 35) 11060       conv2d_20[0][0]                  \n",
      "__________________________________________________________________________________________________\n",
      "max_pooling2d_9 (MaxPooling2D)  (None, 64, 64, 35)   0           conv2d_21[0][0]                  \n",
      "__________________________________________________________________________________________________\n",
      "conv2d_22 (Conv2D)              (None, 64, 64, 70)   22120       max_pooling2d_9[0][0]            \n",
      "__________________________________________________________________________________________________\n",
      "conv2d_23 (Conv2D)              (None, 64, 64, 70)   44170       conv2d_22[0][0]                  \n",
      "__________________________________________________________________________________________________\n",
      "max_pooling2d_10 (MaxPooling2D) (None, 32, 32, 70)   0           conv2d_23[0][0]                  \n",
      "__________________________________________________________________________________________________\n",
      "conv2d_24 (Conv2D)              (None, 32, 32, 140)  88340       max_pooling2d_10[0][0]           \n",
      "__________________________________________________________________________________________________\n",
      "conv2d_25 (Conv2D)              (None, 32, 32, 140)  176540      conv2d_24[0][0]                  \n",
      "__________________________________________________________________________________________________\n",
      "max_pooling2d_11 (MaxPooling2D) (None, 16, 16, 140)  0           conv2d_25[0][0]                  \n",
      "__________________________________________________________________________________________________\n",
      "conv2d_26 (Conv2D)              (None, 16, 16, 280)  353080      max_pooling2d_11[0][0]           \n",
      "__________________________________________________________________________________________________\n",
      "conv2d_27 (Conv2D)              (None, 16, 16, 280)  705880      conv2d_26[0][0]                  \n",
      "__________________________________________________________________________________________________\n",
      "max_pooling2d_12 (MaxPooling2D) (None, 8, 8, 280)    0           conv2d_27[0][0]                  \n",
      "__________________________________________________________________________________________________\n",
      "conv2d_28 (Conv2D)              (None, 8, 8, 560)    1411760     max_pooling2d_12[0][0]           \n",
      "__________________________________________________________________________________________________\n",
      "conv2d_29 (Conv2D)              (None, 8, 8, 560)    2822960     conv2d_28[0][0]                  \n",
      "__________________________________________________________________________________________________\n",
      "conv2d_transpose_5 (Conv2DTrans (None, 16, 16, 280)  627480      conv2d_29[0][0]                  \n",
      "__________________________________________________________________________________________________\n",
      "concatenate_5 (Concatenate)     (None, 16, 16, 560)  0           conv2d_transpose_5[0][0]         \n",
      "                                                                 conv2d_27[0][0]                  \n",
      "__________________________________________________________________________________________________\n",
      "conv2d_30 (Conv2D)              (None, 16, 16, 280)  1411480     concatenate_5[0][0]              \n",
      "__________________________________________________________________________________________________\n",
      "conv2d_31 (Conv2D)              (None, 16, 16, 280)  705880      conv2d_30[0][0]                  \n",
      "__________________________________________________________________________________________________\n",
      "conv2d_transpose_6 (Conv2DTrans (None, 32, 32, 140)  156940      conv2d_31[0][0]                  \n",
      "__________________________________________________________________________________________________\n",
      "concatenate_6 (Concatenate)     (None, 32, 32, 280)  0           conv2d_transpose_6[0][0]         \n",
      "                                                                 conv2d_25[0][0]                  \n",
      "__________________________________________________________________________________________________\n",
      "conv2d_32 (Conv2D)              (None, 32, 32, 140)  352940      concatenate_6[0][0]              \n",
      "__________________________________________________________________________________________________\n",
      "conv2d_33 (Conv2D)              (None, 32, 32, 140)  176540      conv2d_32[0][0]                  \n",
      "__________________________________________________________________________________________________\n",
      "conv2d_transpose_7 (Conv2DTrans (None, 64, 64, 70)   39270       conv2d_33[0][0]                  \n",
      "__________________________________________________________________________________________________\n",
      "concatenate_7 (Concatenate)     (None, 64, 64, 140)  0           conv2d_transpose_7[0][0]         \n",
      "                                                                 conv2d_23[0][0]                  \n",
      "__________________________________________________________________________________________________\n",
      "conv2d_34 (Conv2D)              (None, 64, 64, 70)   88270       concatenate_7[0][0]              \n",
      "__________________________________________________________________________________________________\n",
      "conv2d_35 (Conv2D)              (None, 64, 64, 70)   44170       conv2d_34[0][0]                  \n",
      "__________________________________________________________________________________________________\n",
      "conv2d_transpose_8 (Conv2DTrans (None, 128, 128, 35) 9835        conv2d_35[0][0]                  \n",
      "__________________________________________________________________________________________________\n",
      "concatenate_8 (Concatenate)     (None, 128, 128, 70) 0           conv2d_transpose_8[0][0]         \n",
      "                                                                 conv2d_21[0][0]                  \n",
      "__________________________________________________________________________________________________\n",
      "conv2d_36 (Conv2D)              (None, 128, 128, 35) 22085       concatenate_8[0][0]              \n",
      "__________________________________________________________________________________________________\n",
      "conv2d_37 (Conv2D)              (None, 128, 128, 35) 11060       conv2d_36[0][0]                  \n",
      "__________________________________________________________________________________________________\n",
      "conv2d_38 (Conv2D)              (None, 128, 128, 1)  36          conv2d_37[0][0]                  \n",
      "==================================================================================================\n",
      "Total params: 9,282,876\n",
      "Trainable params: 9,282,876\n",
      "Non-trainable params: 0\n",
      "__________________________________________________________________________________________________\n"
     ]
    }
   ],
   "source": [
    "model_w_unet = W_UNet(128,128)\n",
    "model_w_unet.compile(optimizer='adam' ,loss = 'binary_crossentropy',metrics = ['accuracy'])\n",
    "model_w_unet.summary()"
   ]
  },
  {
   "cell_type": "code",
   "execution_count": 17,
   "metadata": {},
   "outputs": [
    {
     "name": "stdout",
     "output_type": "stream",
     "text": [
      "Epoch 1/10\n",
      "82/82 [==============================] - 15s 177ms/step - loss: 0.4181 - accuracy: 0.8462 - val_loss: 0.0805 - val_accuracy: 0.9500\n",
      "Epoch 2/10\n",
      "82/82 [==============================] - 10s 120ms/step - loss: 0.2623 - accuracy: 0.8671 - val_loss: 0.3260 - val_accuracy: 0.7288\n",
      "Epoch 3/10\n",
      "82/82 [==============================] - 13s 154ms/step - loss: 0.1774 - accuracy: 0.9137 - val_loss: 0.1160 - val_accuracy: 0.9448\n",
      "Epoch 4/10\n",
      "82/82 [==============================] - 10s 119ms/step - loss: 0.1911 - accuracy: 0.9084 - val_loss: 0.1610 - val_accuracy: 0.9229\n",
      "Epoch 5/10\n",
      "82/82 [==============================] - 13s 160ms/step - loss: 0.1513 - accuracy: 0.9259 - val_loss: 0.1800 - val_accuracy: 0.9465\n",
      "Epoch 6/10\n",
      "82/82 [==============================] - 11s 134ms/step - loss: 0.1392 - accuracy: 0.9332 - val_loss: 0.0329 - val_accuracy: 0.9800\n",
      "Epoch 7/10\n",
      "82/82 [==============================] - 10s 127ms/step - loss: 0.1281 - accuracy: 0.9365 - val_loss: 0.0965 - val_accuracy: 0.9531\n",
      "Epoch 8/10\n",
      "82/82 [==============================] - 12s 147ms/step - loss: 0.1223 - accuracy: 0.9378 - val_loss: 0.0420 - val_accuracy: 0.9759\n",
      "Epoch 9/10\n",
      "82/82 [==============================] - 12s 146ms/step - loss: 0.1091 - accuracy: 0.9440 - val_loss: 0.1675 - val_accuracy: 0.9128\n",
      "Epoch 10/10\n",
      "82/82 [==============================] - 11s 132ms/step - loss: 0.1143 - accuracy: 0.9411 - val_loss: 0.0490 - val_accuracy: 0.9803\n"
     ]
    },
    {
     "data": {
      "text/plain": [
       "<keras.callbacks.callbacks.History at 0x7fc7e45d4cd0>"
      ]
     },
     "execution_count": 17,
     "metadata": {},
     "output_type": "execute_result"
    }
   ],
   "source": [
    "# fit to wide-unet\n",
    "model_w_unet.fit_generator(train_gen,\n",
    "                  validation_data = valid_gen,\n",
    "                  steps_per_epoch = train_steps,\n",
    "                  validation_steps= valid_steps,\n",
    "                  epochs = epochs)"
   ]
  },
  {
   "cell_type": "code",
   "execution_count": 18,
   "metadata": {},
   "outputs": [
    {
     "name": "stdout",
     "output_type": "stream",
     "text": [
      "Model: \"model_3\"\n",
      "__________________________________________________________________________________________________\n",
      "Layer (type)                    Output Shape         Param #     Connected to                     \n",
      "==================================================================================================\n",
      "input_3 (InputLayer)            (None, 128, 128, 3)  0                                            \n",
      "__________________________________________________________________________________________________\n",
      "conv2d_39 (Conv2D)              (None, 128, 128, 16) 448         input_3[0][0]                    \n",
      "__________________________________________________________________________________________________\n",
      "conv2d_40 (Conv2D)              (None, 128, 128, 16) 2320        conv2d_39[0][0]                  \n",
      "__________________________________________________________________________________________________\n",
      "max_pooling2d_18 (MaxPooling2D) (None, 64, 64, 16)   0           conv2d_40[0][0]                  \n",
      "__________________________________________________________________________________________________\n",
      "conv2d_41 (Conv2D)              (None, 64, 64, 32)   4640        max_pooling2d_18[0][0]           \n",
      "__________________________________________________________________________________________________\n",
      "conv2d_42 (Conv2D)              (None, 64, 64, 32)   9248        conv2d_41[0][0]                  \n",
      "__________________________________________________________________________________________________\n",
      "max_pooling2d_19 (MaxPooling2D) (None, 32, 32, 32)   0           conv2d_42[0][0]                  \n",
      "__________________________________________________________________________________________________\n",
      "conv2d_43 (Conv2D)              (None, 32, 32, 64)   18496       max_pooling2d_19[0][0]           \n",
      "__________________________________________________________________________________________________\n",
      "conv2d_44 (Conv2D)              (None, 32, 32, 64)   36928       conv2d_43[0][0]                  \n",
      "__________________________________________________________________________________________________\n",
      "max_pooling2d_20 (MaxPooling2D) (None, 16, 16, 64)   0           conv2d_44[0][0]                  \n",
      "__________________________________________________________________________________________________\n",
      "conv2d_45 (Conv2D)              (None, 16, 16, 128)  73856       max_pooling2d_20[0][0]           \n",
      "__________________________________________________________________________________________________\n",
      "conv2d_46 (Conv2D)              (None, 16, 16, 128)  147584      conv2d_45[0][0]                  \n",
      "__________________________________________________________________________________________________\n",
      "max_pooling2d_21 (MaxPooling2D) (None, 8, 8, 128)    0           conv2d_46[0][0]                  \n",
      "__________________________________________________________________________________________________\n",
      "conv2d_47 (Conv2D)              (None, 8, 8, 256)    295168      max_pooling2d_21[0][0]           \n",
      "__________________________________________________________________________________________________\n",
      "conv2d_48 (Conv2D)              (None, 8, 8, 256)    590080      conv2d_47[0][0]                  \n",
      "__________________________________________________________________________________________________\n",
      "conv2d_transpose_12 (Conv2DTran (None, 16, 16, 128)  131200      conv2d_48[0][0]                  \n",
      "__________________________________________________________________________________________________\n",
      "concatenate_12 (Concatenate)    (None, 16, 16, 256)  0           conv2d_transpose_12[0][0]        \n",
      "                                                                 conv2d_46[0][0]                  \n",
      "__________________________________________________________________________________________________\n",
      "conv2d_transpose_11 (Conv2DTran (None, 32, 32, 64)   32832       conv2d_46[0][0]                  \n",
      "__________________________________________________________________________________________________\n",
      "conv2d_55 (Conv2D)              (None, 16, 16, 128)  295040      concatenate_12[0][0]             \n",
      "__________________________________________________________________________________________________\n",
      "concatenate_11 (Concatenate)    (None, 32, 32, 128)  0           conv2d_transpose_11[0][0]        \n",
      "                                                                 conv2d_44[0][0]                  \n",
      "__________________________________________________________________________________________________\n",
      "conv2d_transpose_10 (Conv2DTran (None, 64, 64, 32)   8224        conv2d_44[0][0]                  \n",
      "__________________________________________________________________________________________________\n",
      "conv2d_56 (Conv2D)              (None, 16, 16, 128)  147584      conv2d_55[0][0]                  \n",
      "__________________________________________________________________________________________________\n",
      "conv2d_53 (Conv2D)              (None, 32, 32, 64)   73792       concatenate_11[0][0]             \n",
      "__________________________________________________________________________________________________\n",
      "concatenate_10 (Concatenate)    (None, 64, 64, 64)   0           conv2d_transpose_10[0][0]        \n",
      "                                                                 conv2d_42[0][0]                  \n",
      "__________________________________________________________________________________________________\n",
      "conv2d_transpose_9 (Conv2DTrans (None, 128, 128, 16) 2064        conv2d_42[0][0]                  \n",
      "__________________________________________________________________________________________________\n",
      "conv2d_transpose_15 (Conv2DTran (None, 32, 32, 64)   32832       conv2d_56[0][0]                  \n",
      "__________________________________________________________________________________________________\n",
      "conv2d_54 (Conv2D)              (None, 32, 32, 64)   36928       conv2d_53[0][0]                  \n",
      "__________________________________________________________________________________________________\n",
      "conv2d_51 (Conv2D)              (None, 64, 64, 32)   18464       concatenate_10[0][0]             \n",
      "__________________________________________________________________________________________________\n",
      "concatenate_9 (Concatenate)     (None, 128, 128, 32) 0           conv2d_transpose_9[0][0]         \n",
      "                                                                 conv2d_40[0][0]                  \n",
      "__________________________________________________________________________________________________\n",
      "concatenate_15 (Concatenate)    (None, 32, 32, 192)  0           conv2d_transpose_15[0][0]        \n",
      "                                                                 conv2d_44[0][0]                  \n",
      "                                                                 conv2d_54[0][0]                  \n",
      "__________________________________________________________________________________________________\n",
      "conv2d_52 (Conv2D)              (None, 64, 64, 32)   9248        conv2d_51[0][0]                  \n",
      "__________________________________________________________________________________________________\n",
      "conv2d_transpose_14 (Conv2DTran (None, 64, 64, 32)   8224        conv2d_54[0][0]                  \n",
      "__________________________________________________________________________________________________\n",
      "conv2d_49 (Conv2D)              (None, 128, 128, 16) 4624        concatenate_9[0][0]              \n",
      "__________________________________________________________________________________________________\n",
      "conv2d_61 (Conv2D)              (None, 32, 32, 64)   110656      concatenate_15[0][0]             \n",
      "__________________________________________________________________________________________________\n",
      "concatenate_14 (Concatenate)    (None, 64, 64, 96)   0           conv2d_transpose_14[0][0]        \n",
      "                                                                 conv2d_42[0][0]                  \n",
      "                                                                 conv2d_52[0][0]                  \n",
      "__________________________________________________________________________________________________\n",
      "conv2d_50 (Conv2D)              (None, 128, 128, 16) 2320        conv2d_49[0][0]                  \n",
      "__________________________________________________________________________________________________\n",
      "conv2d_transpose_13 (Conv2DTran (None, 128, 128, 16) 2064        conv2d_52[0][0]                  \n",
      "__________________________________________________________________________________________________\n",
      "conv2d_62 (Conv2D)              (None, 32, 32, 64)   36928       conv2d_61[0][0]                  \n",
      "__________________________________________________________________________________________________\n",
      "conv2d_59 (Conv2D)              (None, 64, 64, 32)   27680       concatenate_14[0][0]             \n",
      "__________________________________________________________________________________________________\n",
      "concatenate_13 (Concatenate)    (None, 128, 128, 48) 0           conv2d_transpose_13[0][0]        \n",
      "                                                                 conv2d_40[0][0]                  \n",
      "                                                                 conv2d_50[0][0]                  \n",
      "__________________________________________________________________________________________________\n",
      "conv2d_transpose_17 (Conv2DTran (None, 64, 64, 32)   8224        conv2d_62[0][0]                  \n",
      "__________________________________________________________________________________________________\n",
      "conv2d_60 (Conv2D)              (None, 64, 64, 32)   9248        conv2d_59[0][0]                  \n",
      "__________________________________________________________________________________________________\n",
      "conv2d_57 (Conv2D)              (None, 128, 128, 16) 6928        concatenate_13[0][0]             \n",
      "__________________________________________________________________________________________________\n",
      "concatenate_17 (Concatenate)    (None, 64, 64, 128)  0           conv2d_transpose_17[0][0]        \n",
      "                                                                 conv2d_42[0][0]                  \n",
      "                                                                 conv2d_52[0][0]                  \n",
      "                                                                 conv2d_60[0][0]                  \n",
      "__________________________________________________________________________________________________\n",
      "conv2d_58 (Conv2D)              (None, 128, 128, 16) 2320        conv2d_57[0][0]                  \n",
      "__________________________________________________________________________________________________\n",
      "conv2d_transpose_16 (Conv2DTran (None, 128, 128, 16) 2064        conv2d_60[0][0]                  \n",
      "__________________________________________________________________________________________________\n",
      "conv2d_65 (Conv2D)              (None, 64, 64, 32)   36896       concatenate_17[0][0]             \n",
      "__________________________________________________________________________________________________\n",
      "concatenate_16 (Concatenate)    (None, 128, 128, 64) 0           conv2d_transpose_16[0][0]        \n",
      "                                                                 conv2d_40[0][0]                  \n",
      "                                                                 conv2d_50[0][0]                  \n",
      "                                                                 conv2d_58[0][0]                  \n",
      "__________________________________________________________________________________________________\n",
      "conv2d_66 (Conv2D)              (None, 64, 64, 32)   9248        conv2d_65[0][0]                  \n",
      "__________________________________________________________________________________________________\n",
      "conv2d_63 (Conv2D)              (None, 128, 128, 16) 9232        concatenate_16[0][0]             \n",
      "__________________________________________________________________________________________________\n",
      "conv2d_transpose_18 (Conv2DTran (None, 128, 128, 16) 2064        conv2d_66[0][0]                  \n",
      "__________________________________________________________________________________________________\n",
      "conv2d_64 (Conv2D)              (None, 128, 128, 16) 2320        conv2d_63[0][0]                  \n",
      "__________________________________________________________________________________________________\n",
      "concatenate_18 (Concatenate)    (None, 128, 128, 80) 0           conv2d_transpose_18[0][0]        \n",
      "                                                                 conv2d_40[0][0]                  \n",
      "                                                                 conv2d_50[0][0]                  \n",
      "                                                                 conv2d_58[0][0]                  \n",
      "                                                                 conv2d_64[0][0]                  \n",
      "__________________________________________________________________________________________________\n",
      "conv2d_67 (Conv2D)              (None, 128, 128, 16) 11536       concatenate_18[0][0]             \n",
      "__________________________________________________________________________________________________\n",
      "conv2d_68 (Conv2D)              (None, 128, 128, 16) 2320        conv2d_67[0][0]                  \n",
      "__________________________________________________________________________________________________\n",
      "conv2d_72 (Conv2D)              (None, 128, 128, 1)  17          conv2d_68[0][0]                  \n",
      "==================================================================================================\n",
      "Total params: 2,261,889\n",
      "Trainable params: 2,261,889\n",
      "Non-trainable params: 0\n",
      "__________________________________________________________________________________________________\n"
     ]
    },
    {
     "name": "stderr",
     "output_type": "stream",
     "text": [
      "/opt/conda/lib/python3.7/site-packages/ipykernel_launcher.py:62: UserWarning: Update your `Model` call to the Keras 2 API: `Model(inputs=Tensor(\"in..., outputs=Tensor(\"co...)`\n"
     ]
    }
   ],
   "source": [
    "model_nested_net = Nested_Net(128,128)\n",
    "model_nested_net.compile(optimizer='adam' ,loss = 'binary_crossentropy',metrics = ['accuracy'])\n",
    "model_nested_net.summary()"
   ]
  },
  {
   "cell_type": "code",
   "execution_count": 19,
   "metadata": {},
   "outputs": [
    {
     "name": "stdout",
     "output_type": "stream",
     "text": [
      "Epoch 1/10\n",
      "82/82 [==============================] - 14s 175ms/step - loss: 0.3928 - accuracy: 0.8354 - val_loss: 0.1035 - val_accuracy: 0.9500\n",
      "Epoch 2/10\n",
      "82/82 [==============================] - 11s 132ms/step - loss: 0.2235 - accuracy: 0.8745 - val_loss: 0.1888 - val_accuracy: 0.9389\n",
      "Epoch 3/10\n",
      "82/82 [==============================] - 11s 140ms/step - loss: 0.1579 - accuracy: 0.9233 - val_loss: 0.0437 - val_accuracy: 0.9752\n",
      "Epoch 4/10\n",
      "82/82 [==============================] - 11s 139ms/step - loss: 0.1209 - accuracy: 0.9389 - val_loss: 0.1064 - val_accuracy: 0.9354\n",
      "Epoch 5/10\n",
      "82/82 [==============================] - 10s 123ms/step - loss: 0.0898 - accuracy: 0.9508 - val_loss: 0.0594 - val_accuracy: 0.9760\n",
      "Epoch 6/10\n",
      "82/82 [==============================] - 14s 171ms/step - loss: 0.1046 - accuracy: 0.9435 - val_loss: 0.0310 - val_accuracy: 0.9791\n",
      "Epoch 7/10\n",
      "82/82 [==============================] - 12s 141ms/step - loss: 0.0845 - accuracy: 0.9526 - val_loss: 0.0496 - val_accuracy: 0.9642\n",
      "Epoch 8/10\n",
      "82/82 [==============================] - 11s 135ms/step - loss: 0.0902 - accuracy: 0.9487 - val_loss: 0.0280 - val_accuracy: 0.9791\n",
      "Epoch 9/10\n",
      "82/82 [==============================] - 11s 138ms/step - loss: 0.0885 - accuracy: 0.9510 - val_loss: 0.1021 - val_accuracy: 0.9354\n",
      "Epoch 10/10\n",
      "82/82 [==============================] - 11s 140ms/step - loss: 0.0810 - accuracy: 0.9529 - val_loss: 0.0440 - val_accuracy: 0.9819\n"
     ]
    },
    {
     "data": {
      "text/plain": [
       "<keras.callbacks.callbacks.History at 0x7fc412deb110>"
      ]
     },
     "execution_count": 19,
     "metadata": {},
     "output_type": "execute_result"
    }
   ],
   "source": [
    "# fit to nested-net\n",
    "model_nested_net.fit_generator(train_gen,\n",
    "                  validation_data = valid_gen,\n",
    "                  steps_per_epoch = train_steps,\n",
    "                  validation_steps= valid_steps,\n",
    "                  epochs = epochs)"
   ]
  },
  {
   "cell_type": "code",
   "execution_count": 20,
   "metadata": {},
   "outputs": [],
   "source": [
    "# testing the model\n",
    "#model.save_weights('UNet++w.h5')\n",
    "\n",
    "x,y = valid_gen.__getitem__(1)\n",
    "result_unet  = model_unet.predict(x)\n",
    "result_unet = result_unet >0.5"
   ]
  },
  {
   "cell_type": "code",
   "execution_count": 21,
   "metadata": {},
   "outputs": [],
   "source": [
    "# testing the model\n",
    "#model.save_weights('UNet++w.h5')\n",
    "\n",
    "x,y = valid_gen.__getitem__(1)\n",
    "result_w_unet  = model_w_unet.predict(x)\n",
    "result_w_unet = result_w_unet >0.5"
   ]
  },
  {
   "cell_type": "code",
   "execution_count": 22,
   "metadata": {},
   "outputs": [],
   "source": [
    "# testing the model\n",
    "#model.save_weights('UNet++w.h5')\n",
    "\n",
    "x,y = valid_gen.__getitem__(1)\n",
    "result_nested_net  = model_nested_net.predict(x)\n",
    "result_nested_net = result_nested_net >0.5"
   ]
  },
  {
   "cell_type": "code",
   "execution_count": 23,
   "metadata": {},
   "outputs": [
    {
     "data": {
      "text/plain": [
       "<matplotlib.image.AxesImage at 0x7fc413cc2fd0>"
      ]
     },
     "execution_count": 23,
     "metadata": {},
     "output_type": "execute_result"
    },
    {
     "data": {
      "image/png": "[encoded data removed]",
      "text/plain": [
       "<Figure size 432x288 with 5 Axes>"
      ]
     },
     "metadata": {
      "needs_background": "light"
     },
     "output_type": "display_data"
    }
   ],
   "source": [
    "# visualizing output\n",
    "\n",
    "fig = plt.figure()\n",
    "fig.subplots_adjust(hspace =1 ,wspace =1)\n",
    "ax1 = fig.add_subplot(2,3,1)\n",
    "ax1.title.set_text('image')\n",
    "ax1.imshow(x[1])\n",
    "\n",
    "ax2 = fig.add_subplot(2,3,2)\n",
    "ax2.title.set_text('mask')\n",
    "ax2.imshow(np.reshape(y[1]*255,(image_size , image_size)),cmap = 'gray')\n",
    "\n",
    "ax3 = fig.add_subplot(2, 3, 4)\n",
    "ax3.title.set_text('U-Net')\n",
    "ax3.imshow(np.reshape(result_unet[1]*255, (image_size, image_size)), cmap=\"gray\")\n",
    "\n",
    "ax4 = fig.add_subplot(2, 3,5)\n",
    "ax4.title.set_text('U-Net')\n",
    "ax4.imshow(np.reshape(result_w_unet[1]*255, (image_size, image_size)), cmap=\"gray\")\n",
    "\n",
    "ax5 = fig.add_subplot(2, 3, 6)\n",
    "ax5.title.set_text('Nested-Net')\n",
    "ax5.imshow(np.reshape(result_nested_net[1]*255, (image_size, image_size)), cmap=\"gray\")"
   ]
  }
 ],
 "metadata": {
  "kernelspec": {
   "display_name": "Python 3",
   "language": "python",
   "name": "python3"
  },
  "language_info": {
   "codemirror_mode": {
    "name": "ipython",
    "version": 3
   },
   "file_extension": ".py",
   "mimetype": "text/x-python",
   "name": "python",
   "nbconvert_exporter": "python",
   "pygments_lexer": "ipython3",
   "version": "3.7.6"
  }
 },
 "nbformat": 4,
 "nbformat_minor": 4
}

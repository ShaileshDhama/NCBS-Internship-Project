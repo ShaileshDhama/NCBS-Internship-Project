{
 "cells": [
  {
   "cell_type": "markdown",
   "execution_count": null,
   "metadata": {},
   "source": [
    "## 1.Importing Libraries"
   ]
  },
  {
   "cell_type": "code",
   "execution_count": 1,
   "metadata": {
    "_cell_guid": "79c7e3d0-c299-4dcb-8224-4455121ee9b0",
    "_uuid": "d629ff2d2480ee46fbb7e2d37f6b5fab8052498a"
   },
   "outputs": [
    {
     "name": "stderr",
     "output_type": "stream",
     "text": [
      "Using TensorFlow backend.\n"
     ]
    }
   ],
   "source": [
    "import os\n",
    "import sys\n",
    "import random\n",
    "import warnings\n",
    "import zipfile\n",
    "\n",
    "import numpy as np\n",
    "import pandas as pd\n",
    "\n",
    "import matplotlib.pyplot as plt\n",
    "\n",
    "from tqdm import tqdm\n",
    "from itertools import chain\n",
    "from skimage.io import imread, imshow, imread_collection, concatenate_images\n",
    "from skimage.transform import resize\n",
    "from skimage.morphology import label\n",
    "from sklearn.model_selection import train_test_split\n",
    "\n",
    "from keras.models import Model, load_model\n",
    "from keras.layers import Input\n",
    "from keras.layers.core import Dropout, Lambda\n",
    "from keras.layers.convolutional import Conv2D, Conv2DTranspose\n",
    "from keras.layers.pooling import MaxPooling2D\n",
    "from keras.callbacks import EarlyStopping, ModelCheckpoint, ReduceLROnPlateau\n",
    "from keras.layers.merge import concatenate\n",
    "from keras.callbacks import EarlyStopping, ModelCheckpoint\n",
    "from keras import backend as K\n",
    "\n",
    "import tensorflow as tf"
   ]
  },
  {
   "cell_type": "markdown",
   "execution_count": null,
   "metadata": {},
   "source": [
    "**Specify Path**"
   ]
  },
  {
   "cell_type": "code",
   "execution_count": 2,
   "metadata": {},
   "outputs": [],
   "source": [
    "# Unzipping some files\n",
    "stage1_train = 'stage1_train'\n",
    "stage1_test = 'stage1_test'"
   ]
  },
  {
   "cell_type": "code",
   "execution_count": 3,
   "metadata": {},
   "outputs": [],
   "source": [
    "# Will unzip the files so that you can see them..\n",
    "with zipfile.ZipFile(\"../input/data-science-bowl-2018/\"+stage1_train+\".zip\",\"r\") as z:\n",
    "    z.extractall(stage1_train)\n",
    "\n",
    "# Will unzip the files so that you can see them..\n",
    "with zipfile.ZipFile(\"../input/data-science-bowl-2018/\"+stage1_test+\".zip\",\"r\") as z:\n",
    "    z.extractall(stage1_test)"
   ]
  },
  {
   "cell_type": "markdown",
   "execution_count": null,
   "metadata": {},
   "source": [
    "**Specify some constants**"
   ]
  },
  {
   "cell_type": "code",
   "execution_count": 4,
   "metadata": {},
   "outputs": [],
   "source": [
    "TRAIN_PATH = '../working/stage1_train/'\n",
    "TEST_PATH = '../working/stage1_test/'\n",
    "IMG_WIDTH = 128\n",
    "IMG_HEIGHT = 128\n",
    "IMG_CHANNELS = 3\n",
    "\n",
    "warnings.filterwarnings('ignore', category=UserWarning, module='skimage')\n",
    "seed = 42\n",
    "random.seed = seed\n",
    "np.random.seed = seed"
   ]
  },
  {
   "cell_type": "markdown",
   "execution_count": null,
   "metadata": {},
   "source": [
    "**Obtain id's of images**"
   ]
  },
  {
   "cell_type": "code",
   "execution_count": 5,
   "metadata": {},
   "outputs": [],
   "source": [
    "# Obtain train and test IDs\n",
    "train_ids = next(os.walk(TRAIN_PATH))[1]\n",
    "test_ids = next(os.walk(TEST_PATH))[1]"
   ]
  },
  {
   "cell_type": "code",
   "execution_count": 6,
   "metadata": {},
   "outputs": [],
   "source": [
    "import os\n",
    "import random\n",
    "import sys\n",
    "import warnings\n",
    "import numpy as np\n",
    "from itertools import chain\n",
    "from skimage.io import imread, imshow, imread_collection, concatenate_images\n",
    "from skimage.transform import resize\n",
    "from skimage.morphology import label\n",
    "from keras.utils import Progbar"
   ]
  },
  {
   "cell_type": "markdown",
   "execution_count": null,
   "metadata": {},
   "source": [
    "## 2.Defining functions and Loading required data"
   ]
  },
  {
   "cell_type": "code",
   "execution_count": 7,
   "metadata": {},
   "outputs": [],
   "source": [
    "def get_train_data(IMG_WIDTH=256, IMG_HEIGHT=256, IMG_CHANNELS=3):\n",
    "    X_train = np.zeros((len(train_ids), IMG_HEIGHT, IMG_WIDTH, IMG_CHANNELS), dtype=np.uint8)\n",
    "    Y_train = np.zeros((len(train_ids), IMG_HEIGHT, IMG_WIDTH, 1), dtype=np.bool)\n",
    "    print('Getting and resizing train images and masks ... ')\n",
    "    sys.stdout.flush()\n",
    "    if os.path.isfile('train_img.npy') and os.path.isfile('train_mask.npy'):\n",
    "        print('Train file loaded from memory')\n",
    "        X_train = np.load('train_img.npy')\n",
    "        Y_train = np.load('train_mask.npy')\n",
    "        return X_train, Y_train\n",
    "    a = Progbar(len(train_ids))\n",
    "    for n, id_ in enumerate(train_ids):\n",
    "        path = TRAIN_PATH + id_\n",
    "        img = imread(path + '/images/' + id_ + '.png')[:, :, :IMG_CHANNELS]\n",
    "        img = resize(img, (IMG_HEIGHT, IMG_WIDTH), mode='constant', preserve_range=True)\n",
    "        X_train[n] = img\n",
    "        mask = np.zeros((IMG_HEIGHT, IMG_WIDTH, 1), dtype=np.bool)\n",
    "        for mask_file in next(os.walk(path + '/masks/'))[2]:\n",
    "            mask_ = imread(path + '/masks/' + mask_file)\n",
    "            mask_ = np.expand_dims(resize(mask_, (IMG_HEIGHT, IMG_WIDTH), mode='constant',\n",
    "                                        preserve_range=True), axis=-1)\n",
    "            mask = np.maximum(mask, mask_)\n",
    "        Y_train[n] = mask\n",
    "        a.update(n)\n",
    "    np.save('train_img', X_train)\n",
    "    np.save('train_mask', Y_train)\n",
    "    return X_train, Y_train"
   ]
  },
  {
   "cell_type": "code",
   "execution_count": 8,
   "metadata": {},
   "outputs": [],
   "source": [
    "def get_test_data(IMG_WIDTH=256, IMG_HEIGHT=256, IMG_CHANNELS=3):\n",
    "    X_test = np.zeros((len(test_ids), IMG_HEIGHT, IMG_WIDTH, IMG_CHANNELS), dtype=np.uint8)\n",
    "    sizes_test = []\n",
    "    print('\\nGetting and resizing test images ... ')\n",
    "    sys.stdout.flush()\n",
    "    if os.path.isfile('test_img.npy') and os.path.isfile('test_size.npy'):\n",
    "        print('Test file loaded from memory')\n",
    "        X_test = np.load('test_img.npy')\n",
    "        sizes_test = np.load('test_size.npy')\n",
    "        return X_test,sizes_test\n",
    "    b = Progbar(len(test_ids))\n",
    "    for n, id_ in enumerate(test_ids):\n",
    "        path = TEST_PATH + id_\n",
    "        img = imread(path + '/images/' + id_ + '.png')[:, :, :IMG_CHANNELS]\n",
    "        sizes_test.append([img.shape[0], img.shape[1]])\n",
    "        img = resize(img, (IMG_HEIGHT, IMG_WIDTH), mode='constant', preserve_range=True)\n",
    "        X_test[n] = img\n",
    "        b.update(n)\n",
    "    np.save('test_img', X_test)\n",
    "    np.save('test_size', sizes_test)\n",
    "    return X_test,sizes_test"
   ]
  },
  {
   "cell_type": "code",
   "execution_count": 9,
   "metadata": {},
   "outputs": [
    {
     "name": "stdout",
     "output_type": "stream",
     "text": [
      "Getting and resizing train images and masks ... \n",
      "669/670 [============================>.] - ETA: 0s\n",
      "Getting and resizing test images ... \n",
      "64/65 [============================>.] - ETA: 0s"
     ]
    }
   ],
   "source": [
    "# get train_data\n",
    "train_img, train_mask = get_train_data()\n",
    "\n",
    "# get test_data\n",
    "test_img, test_img_sizes = get_test_data()"
   ]
  },
  {
   "cell_type": "markdown",
   "execution_count": null,
   "metadata": {},
   "source": [
    "## 3.Defining U-Net model and metrics\n",
    "\n",
    "**As a metric I will use Dice Coefficient**"
   ]
  },
  {
   "cell_type": "code",
   "execution_count": 10,
   "metadata": {},
   "outputs": [],
   "source": [
    "from keras.models import Model\n",
    "from keras.layers import Input\n",
    "from keras.layers.core import Dropout, Lambda\n",
    "from keras.layers.convolutional import Conv2D, Conv2DTranspose,Convolution2D\n",
    "from keras.layers.pooling import MaxPooling2D\n",
    "from keras.layers.merge import concatenate\n",
    "from keras import backend as K\n",
    "\n",
    "smooth = 1.\n",
    "\n",
    "\n",
    "# Metric function\n",
    "def dice_coef(y_true, y_pred):\n",
    "    y_true_f = K.flatten(y_true)\n",
    "    y_pred_f = K.flatten(y_pred)\n",
    "    intersection = K.sum(y_true_f * y_pred_f)\n",
    "    return (2. * intersection + smooth) / (K.sum(y_true_f) + K.sum(y_pred_f) + smooth)\n",
    "\n",
    "\n",
    "def make_model(IMG_WIDTH=256,IMG_HEIGHT=256,IMG_CHANNELS=3):\n",
    "    inputs = Input((IMG_HEIGHT, IMG_WIDTH, IMG_CHANNELS))\n",
    "    s = Lambda(lambda x: x / 255)(inputs)\n",
    "    c1 = Conv2D(16, (3, 3), activation='elu', kernel_initializer='he_normal', padding='same')(s)\n",
    "    c1 = Dropout(0.1)(c1)\n",
    "    c1 = Conv2D(16, (3, 3), activation='elu', kernel_initializer='he_normal', padding='same')(c1)\n",
    "    p1 = MaxPooling2D((2, 2))(c1)\n",
    "    c2 = Conv2D(32, (3, 3), activation='elu', kernel_initializer='he_normal', padding='same')(p1)\n",
    "    c2 = Dropout(0.1)(c2)\n",
    "    c2 = Conv2D(32, (3, 3), activation='elu', kernel_initializer='he_normal', padding='same')(c2)\n",
    "    p2 = MaxPooling2D((2, 2))(c2)\n",
    "\n",
    "    c3 = Conv2D(64, (3, 3), activation='elu', kernel_initializer='he_normal', padding='same')(p2)\n",
    "    c3 = Dropout(0.2)(c3)\n",
    "    c3 = Conv2D(64, (3, 3), activation='elu', kernel_initializer='he_normal', padding='same')(c3)\n",
    "    p3 = MaxPooling2D((2, 2))(c3)\n",
    "\n",
    "    c4 = Conv2D(128, (3, 3), activation='elu', kernel_initializer='he_normal', padding='same')(p3)\n",
    "    c4 = Dropout(0.2)(c4)\n",
    "    c4 = Conv2D(128, (3, 3), activation='elu', kernel_initializer='he_normal', padding='same')(c4)\n",
    "    p4 = MaxPooling2D(pool_size=(2, 2))(c4)\n",
    "\n",
    "    c5 = Conv2D(256, (3, 3), activation='elu', kernel_initializer='he_normal', padding='same')(p4)\n",
    "    c5 = Dropout(0.3)(c5)\n",
    "    c5 = Conv2D(256, (3, 3), activation='elu', kernel_initializer='he_normal', padding='same')(c5)\n",
    "\n",
    "    u6 = Conv2DTranspose(128, (2, 2), strides=(2, 2), padding='same')(c5)\n",
    "    u6 = concatenate([u6, c4])\n",
    "    c6 = Conv2D(128, (3, 3), activation='elu', kernel_initializer='he_normal', padding='same')(u6)\n",
    "    c6 = Dropout(0.2)(c6)\n",
    "    c6 = Conv2D(128, (3, 3), activation='elu', kernel_initializer='he_normal', padding='same')(c6)\n",
    "\n",
    "    u7 = Conv2DTranspose(64, (2, 2), strides=(2, 2), padding='same')(c6)\n",
    "    u7 = concatenate([u7, c3])\n",
    "    c7 = Conv2D(64, (3, 3), activation='elu', kernel_initializer='he_normal', padding='same')(u7)\n",
    "    c7 = Dropout(0.2)(c7)\n",
    "    c7 = Conv2D(64, (3, 3), activation='elu', kernel_initializer='he_normal', padding='same')(c7)\n",
    "\n",
    "    u8 = Conv2DTranspose(32, (2, 2), strides=(2, 2), padding='same')(c7)\n",
    "    u8 = concatenate([u8, c2])\n",
    "    c8 = Conv2D(32, (3, 3), activation='elu', kernel_initializer='he_normal', padding='same')(u8)\n",
    "    c8 = Dropout(0.1)(c8)\n",
    "    c8 = Conv2D(32, (3, 3), activation='elu', kernel_initializer='he_normal', padding='same')(c8)\n",
    "\n",
    "    u9 = Conv2DTranspose(16, (2, 2), strides=(2, 2), padding='same')(c8)\n",
    "    u9 = concatenate([u9, c1], axis=3)\n",
    "    c9 = Conv2D(16, (3, 3), activation='elu', kernel_initializer='he_normal', padding='same')(u9)\n",
    "    c9 = Dropout(0.1)(c9)\n",
    "    c9 = Conv2D(16, (3, 3), activation='elu', kernel_initializer='he_normal', padding='same')(c9)\n",
    "\n",
    "    outputs = Conv2D(1, (1, 1), activation='sigmoid')(c9)\n",
    "\n",
    "    model = Model(inputs=[inputs], outputs=[outputs])\n",
    "    model.compile(optimizer='adam', loss='binary_crossentropy', metrics=[dice_coef])\n",
    "    return model"
   ]
  },
  {
   "cell_type": "code",
   "execution_count": 11,
   "metadata": {},
   "outputs": [],
   "source": [
    "# get u_net model\n",
    "u_net = make_model()"
   ]
  },
  {
   "cell_type": "markdown",
   "execution_count": null,
   "metadata": {},
   "source": [
    "### Preliminary training on 50 Epochs"
   ]
  },
  {
   "cell_type": "code",
   "execution_count": 12,
   "metadata": {},
   "outputs": [
    {
     "name": "stdout",
     "output_type": "stream",
     "text": [
      "\n",
      "Training...\n",
      "Epoch 1/50\n",
      "670/670 [==============================] - 11s 16ms/step - loss: 0.2596 - dice_coef: 0.5345\n",
      "Epoch 2/50\n",
      "670/670 [==============================] - 4s 6ms/step - loss: 0.1181 - dice_coef: 0.7908\n",
      "Epoch 3/50\n",
      "670/670 [==============================] - 4s 6ms/step - loss: 0.1008 - dice_coef: 0.8229\n",
      "Epoch 4/50\n",
      "670/670 [==============================] - 4s 6ms/step - loss: 0.0953 - dice_coef: 0.8292\n",
      "Epoch 5/50\n",
      "670/670 [==============================] - 4s 6ms/step - loss: 0.1285 - dice_coef: 0.7864\n",
      "Epoch 6/50\n",
      "670/670 [==============================] - 4s 6ms/step - loss: 0.1036 - dice_coef: 0.8194\n",
      "Epoch 7/50\n",
      "670/670 [==============================] - 4s 6ms/step - loss: 0.0912 - dice_coef: 0.8349\n",
      "Epoch 8/50\n",
      "670/670 [==============================] - 4s 6ms/step - loss: 0.0892 - dice_coef: 0.8414\n",
      "Epoch 9/50\n",
      "670/670 [==============================] - 4s 6ms/step - loss: 0.0877 - dice_coef: 0.8465\n",
      "Epoch 10/50\n",
      "670/670 [==============================] - 4s 6ms/step - loss: 0.0865 - dice_coef: 0.8443\n",
      "Epoch 11/50\n",
      "670/670 [==============================] - 4s 6ms/step - loss: 0.0817 - dice_coef: 0.8539\n",
      "Epoch 12/50\n",
      "670/670 [==============================] - 4s 6ms/step - loss: 0.0798 - dice_coef: 0.8576\n",
      "Epoch 13/50\n",
      "670/670 [==============================] - 4s 6ms/step - loss: 0.0770 - dice_coef: 0.8629\n",
      "Epoch 14/50\n",
      "670/670 [==============================] - 4s 6ms/step - loss: 0.0748 - dice_coef: 0.8647\n",
      "Epoch 15/50\n",
      "670/670 [==============================] - 4s 6ms/step - loss: 0.0759 - dice_coef: 0.8617\n",
      "Epoch 16/50\n",
      "670/670 [==============================] - 4s 6ms/step - loss: 0.0744 - dice_coef: 0.8651\n",
      "Epoch 17/50\n",
      "670/670 [==============================] - 4s 6ms/step - loss: 0.0736 - dice_coef: 0.8660\n",
      "Epoch 18/50\n",
      "670/670 [==============================] - 4s 6ms/step - loss: 0.0735 - dice_coef: 0.8676\n",
      "Epoch 19/50\n",
      "670/670 [==============================] - 4s 6ms/step - loss: 0.0718 - dice_coef: 0.8690\n",
      "Epoch 20/50\n",
      "670/670 [==============================] - 4s 6ms/step - loss: 0.0706 - dice_coef: 0.8709\n",
      "Epoch 21/50\n",
      "670/670 [==============================] - 4s 6ms/step - loss: 0.0705 - dice_coef: 0.8713\n",
      "Epoch 22/50\n",
      "670/670 [==============================] - 4s 6ms/step - loss: 0.0689 - dice_coef: 0.8714\n",
      "Epoch 23/50\n",
      "670/670 [==============================] - 4s 6ms/step - loss: 0.0701 - dice_coef: 0.8729\n",
      "Epoch 24/50\n",
      "670/670 [==============================] - 4s 6ms/step - loss: 0.0710 - dice_coef: 0.8682\n",
      "Epoch 25/50\n",
      "670/670 [==============================] - 4s 6ms/step - loss: 0.0700 - dice_coef: 0.8706\n",
      "Epoch 26/50\n",
      "670/670 [==============================] - 4s 6ms/step - loss: 0.0690 - dice_coef: 0.8733\n",
      "Epoch 27/50\n",
      "670/670 [==============================] - 4s 6ms/step - loss: 0.0688 - dice_coef: 0.8758\n",
      "Epoch 28/50\n",
      "670/670 [==============================] - 4s 6ms/step - loss: 0.0677 - dice_coef: 0.8740\n",
      "Epoch 29/50\n",
      "670/670 [==============================] - 4s 6ms/step - loss: 0.0665 - dice_coef: 0.8760\n",
      "Epoch 30/50\n",
      "670/670 [==============================] - 4s 6ms/step - loss: 0.0666 - dice_coef: 0.8787\n",
      "Epoch 31/50\n",
      "670/670 [==============================] - 4s 6ms/step - loss: 0.0662 - dice_coef: 0.8785\n",
      "Epoch 32/50\n",
      "670/670 [==============================] - 4s 6ms/step - loss: 0.0671 - dice_coef: 0.8761\n",
      "Epoch 33/50\n",
      "670/670 [==============================] - 4s 6ms/step - loss: 0.0648 - dice_coef: 0.8793\n",
      "Epoch 34/50\n",
      "670/670 [==============================] - 4s 6ms/step - loss: 0.0641 - dice_coef: 0.8807\n",
      "Epoch 35/50\n",
      "670/670 [==============================] - 4s 6ms/step - loss: 0.0633 - dice_coef: 0.8844\n",
      "Epoch 36/50\n",
      "670/670 [==============================] - 4s 6ms/step - loss: 0.0635 - dice_coef: 0.8818\n",
      "Epoch 37/50\n",
      "670/670 [==============================] - 4s 6ms/step - loss: 0.0634 - dice_coef: 0.8826\n",
      "Epoch 38/50\n",
      "670/670 [==============================] - 4s 6ms/step - loss: 0.0623 - dice_coef: 0.8839\n",
      "Epoch 39/50\n",
      "670/670 [==============================] - 4s 6ms/step - loss: 0.0611 - dice_coef: 0.8850\n",
      "Epoch 40/50\n",
      "670/670 [==============================] - 4s 6ms/step - loss: 0.0638 - dice_coef: 0.8799\n",
      "Epoch 41/50\n",
      "670/670 [==============================] - 4s 6ms/step - loss: 0.0618 - dice_coef: 0.8852\n",
      "Epoch 42/50\n",
      "670/670 [==============================] - 4s 6ms/step - loss: 0.0635 - dice_coef: 0.8826\n",
      "Epoch 43/50\n",
      "670/670 [==============================] - 4s 6ms/step - loss: 0.0656 - dice_coef: 0.8799\n",
      "Epoch 44/50\n",
      "670/670 [==============================] - 4s 6ms/step - loss: 0.0629 - dice_coef: 0.8846\n",
      "Epoch 45/50\n",
      "670/670 [==============================] - 4s 6ms/step - loss: 0.0610 - dice_coef: 0.8843\n",
      "Epoch 46/50\n",
      "670/670 [==============================] - 4s 6ms/step - loss: 0.0607 - dice_coef: 0.8874\n",
      "Epoch 47/50\n",
      "670/670 [==============================] - 4s 6ms/step - loss: 0.0595 - dice_coef: 0.8882\n",
      "Epoch 48/50\n",
      "670/670 [==============================] - 4s 6ms/step - loss: 0.0606 - dice_coef: 0.8872\n",
      "Epoch 49/50\n",
      "670/670 [==============================] - 4s 6ms/step - loss: 0.0599 - dice_coef: 0.8888\n",
      "Epoch 50/50\n",
      "670/670 [==============================] - 4s 6ms/step - loss: 0.0596 - dice_coef: 0.8867\n"
     ]
    },
    {
     "data": {
      "text/plain": [
       "<keras.callbacks.callbacks.History at 0x7f25601b9b90>"
      ]
     },
     "execution_count": 12,
     "metadata": {},
     "output_type": "execute_result"
    }
   ],
   "source": [
    "print(\"\\nTraining...\")\n",
    "u_net.fit(train_img, train_mask, batch_size=16, epochs=50)"
   ]
  },
  {
   "cell_type": "markdown",
   "execution_count": null,
   "metadata": {},
   "source": [
    "### Predicting masks for test images"
   ]
  },
  {
   "cell_type": "code",
   "execution_count": 13,
   "metadata": {},
   "outputs": [
    {
     "name": "stdout",
     "output_type": "stream",
     "text": [
      "Predicting\n",
      "65/65 [==============================] - 1s 13ms/step\n"
     ]
    }
   ],
   "source": [
    "print(\"Predicting\")\n",
    "# Predict on test data\n",
    "test_mask = u_net.predict(test_img, verbose=1)"
   ]
  },
  {
   "cell_type": "markdown",
   "execution_count": null,
   "metadata": {},
   "source": [
    "### Obtained test_mask"
   ]
  },
  {
   "cell_type": "code",
   "execution_count": 14,
   "metadata": {},
   "outputs": [
    {
     "data": {
      "text/plain": [
       "<matplotlib.image.AxesImage at 0x7f2583166c90>"
      ]
     },
     "execution_count": 14,
     "metadata": {},
     "output_type": "execute_result"
    },
    {
     "data": {
      "image/png": "[encoded data removed]",
      "text/plain": [
       "<Figure size 432x288 with 1 Axes>"
      ]
     },
     "metadata": {
      "needs_background": "light"
     },
     "output_type": "display_data"
    }
   ],
   "source": [
    "plt.imshow(test_mask[0].reshape(256,256))"
   ]
  },
  {
   "cell_type": "code",
   "execution_count": 15,
   "metadata": {},
   "outputs": [
    {
     "data": {
      "text/plain": [
       "(65, 256, 256, 3)"
      ]
     },
     "execution_count": 15,
     "metadata": {},
     "output_type": "execute_result"
    }
   ],
   "source": [
    "test_img.shape"
   ]
  },
  {
   "cell_type": "markdown",
   "execution_count": null,
   "metadata": {},
   "source": [
    "### Actual Image"
   ]
  },
  {
   "cell_type": "code",
   "execution_count": 16,
   "metadata": {},
   "outputs": [
    {
     "data": {
      "text/plain": [
       "<matplotlib.image.AxesImage at 0x7f257419be90>"
      ]
     },
     "execution_count": 16,
     "metadata": {},
     "output_type": "execute_result"
    },
    {
     "data": {
      "image/png": "[encoded data removed]",
      "text/plain": [
       "<Figure size 432x288 with 1 Axes>"
      ]
     },
     "metadata": {
      "needs_background": "light"
     },
     "output_type": "display_data"
    }
   ],
   "source": [
    "plt.imshow(test_img[0])"
   ]
  },
  {
   "cell_type": "code",
   "execution_count": 17,
   "metadata": {},
   "outputs": [],
   "source": [
    "X_train, X_valid, y_train, y_valid = train_test_split(train_img, train_mask, test_size=0.15, random_state=2018)"
   ]
  },
  {
   "cell_type": "markdown",
   "execution_count": null,
   "metadata": {},
   "source": [
    "## 4.Defining another model"
   ]
  },
  {
   "cell_type": "code",
   "execution_count": 18,
   "metadata": {},
   "outputs": [],
   "source": [
    "# get u_net model\n",
    "u_net_1 = make_model()"
   ]
  },
  {
   "cell_type": "code",
   "execution_count": 19,
   "metadata": {},
   "outputs": [
    {
     "name": "stdout",
     "output_type": "stream",
     "text": [
      "\n",
      "Training...\n",
      "Epoch 1/50\n",
      "569/569 [==============================] - 5s 10ms/step - loss: 0.3852 - dice_coef: 0.2819\n",
      "Epoch 2/50\n",
      "569/569 [==============================] - 4s 6ms/step - loss: 0.1807 - dice_coef: 0.6701\n",
      "Epoch 3/50\n",
      "569/569 [==============================] - 4s 6ms/step - loss: 0.1334 - dice_coef: 0.7494\n",
      "Epoch 4/50\n",
      "569/569 [==============================] - 4s 6ms/step - loss: 0.1117 - dice_coef: 0.7952\n",
      "Epoch 5/50\n",
      "569/569 [==============================] - 4s 6ms/step - loss: 0.1013 - dice_coef: 0.8164\n",
      "Epoch 6/50\n",
      "569/569 [==============================] - 4s 6ms/step - loss: 0.0995 - dice_coef: 0.8180\n",
      "Epoch 7/50\n",
      "569/569 [==============================] - 4s 6ms/step - loss: 0.0886 - dice_coef: 0.8378\n",
      "Epoch 8/50\n",
      "569/569 [==============================] - 3s 6ms/step - loss: 0.0983 - dice_coef: 0.8187\n",
      "Epoch 9/50\n",
      "569/569 [==============================] - 4s 6ms/step - loss: 0.0862 - dice_coef: 0.8435\n",
      "Epoch 10/50\n",
      "569/569 [==============================] - 4s 6ms/step - loss: 0.0828 - dice_coef: 0.8458\n",
      "Epoch 11/50\n",
      "569/569 [==============================] - 4s 6ms/step - loss: 0.0794 - dice_coef: 0.8559\n",
      "Epoch 12/50\n",
      "569/569 [==============================] - 4s 6ms/step - loss: 0.0764 - dice_coef: 0.8600\n",
      "Epoch 13/50\n",
      "569/569 [==============================] - 4s 6ms/step - loss: 0.0757 - dice_coef: 0.8600\n",
      "Epoch 14/50\n",
      "569/569 [==============================] - 4s 6ms/step - loss: 0.0795 - dice_coef: 0.8512\n",
      "Epoch 15/50\n",
      "569/569 [==============================] - 4s 6ms/step - loss: 0.0745 - dice_coef: 0.8639\n",
      "Epoch 16/50\n",
      "569/569 [==============================] - 4s 6ms/step - loss: 0.0743 - dice_coef: 0.8612\n",
      "Epoch 17/50\n",
      "569/569 [==============================] - 4s 6ms/step - loss: 0.0743 - dice_coef: 0.8624\n",
      "Epoch 18/50\n",
      "569/569 [==============================] - 4s 6ms/step - loss: 0.0762 - dice_coef: 0.8572\n",
      "Epoch 19/50\n",
      "569/569 [==============================] - 4s 6ms/step - loss: 0.0709 - dice_coef: 0.8682\n",
      "Epoch 20/50\n",
      "569/569 [==============================] - 3s 6ms/step - loss: 0.0719 - dice_coef: 0.8642\n",
      "Epoch 21/50\n",
      "569/569 [==============================] - 4s 6ms/step - loss: 0.0692 - dice_coef: 0.8720\n",
      "Epoch 22/50\n",
      "569/569 [==============================] - 3s 6ms/step - loss: 0.0693 - dice_coef: 0.8700\n",
      "Epoch 23/50\n",
      "569/569 [==============================] - 4s 6ms/step - loss: 0.0700 - dice_coef: 0.8689\n",
      "Epoch 24/50\n",
      "569/569 [==============================] - 4s 6ms/step - loss: 0.0684 - dice_coef: 0.8712\n",
      "Epoch 25/50\n",
      "569/569 [==============================] - 4s 6ms/step - loss: 0.0697 - dice_coef: 0.8673\n",
      "Epoch 26/50\n",
      "569/569 [==============================] - 3s 6ms/step - loss: 0.0702 - dice_coef: 0.8696\n",
      "Epoch 27/50\n",
      "569/569 [==============================] - 4s 6ms/step - loss: 0.0660 - dice_coef: 0.8767\n",
      "Epoch 28/50\n",
      "569/569 [==============================] - 4s 6ms/step - loss: 0.0659 - dice_coef: 0.8749\n",
      "Epoch 29/50\n",
      "569/569 [==============================] - 4s 6ms/step - loss: 0.0654 - dice_coef: 0.8774\n",
      "Epoch 30/50\n",
      "569/569 [==============================] - 4s 6ms/step - loss: 0.0674 - dice_coef: 0.8741\n",
      "Epoch 31/50\n",
      "569/569 [==============================] - 4s 6ms/step - loss: 0.0666 - dice_coef: 0.8746\n",
      "Epoch 32/50\n",
      "569/569 [==============================] - 4s 6ms/step - loss: 0.0642 - dice_coef: 0.8779\n",
      "Epoch 33/50\n",
      "569/569 [==============================] - 4s 6ms/step - loss: 0.0670 - dice_coef: 0.8758\n",
      "Epoch 34/50\n",
      "569/569 [==============================] - 4s 6ms/step - loss: 0.0699 - dice_coef: 0.8668\n",
      "Epoch 35/50\n",
      "569/569 [==============================] - 3s 6ms/step - loss: 0.0681 - dice_coef: 0.8708\n",
      "Epoch 36/50\n",
      "569/569 [==============================] - 4s 6ms/step - loss: 0.0636 - dice_coef: 0.8801\n",
      "Epoch 37/50\n",
      "569/569 [==============================] - 4s 6ms/step - loss: 0.0631 - dice_coef: 0.8799\n",
      "Epoch 38/50\n",
      "569/569 [==============================] - 4s 6ms/step - loss: 0.0627 - dice_coef: 0.8810\n",
      "Epoch 39/50\n",
      "569/569 [==============================] - 3s 6ms/step - loss: 0.0607 - dice_coef: 0.8820\n",
      "Epoch 40/50\n",
      "569/569 [==============================] - 4s 6ms/step - loss: 0.0612 - dice_coef: 0.8841\n",
      "Epoch 41/50\n",
      "569/569 [==============================] - 3s 6ms/step - loss: 0.0605 - dice_coef: 0.8841\n",
      "Epoch 42/50\n",
      "569/569 [==============================] - 4s 6ms/step - loss: 0.0604 - dice_coef: 0.8847\n",
      "Epoch 43/50\n",
      "569/569 [==============================] - 4s 6ms/step - loss: 0.0601 - dice_coef: 0.8870\n",
      "Epoch 44/50\n",
      "569/569 [==============================] - 4s 6ms/step - loss: 0.0588 - dice_coef: 0.8884\n",
      "Epoch 45/50\n",
      "569/569 [==============================] - 3s 6ms/step - loss: 0.0582 - dice_coef: 0.8892\n",
      "Epoch 46/50\n",
      "569/569 [==============================] - 4s 6ms/step - loss: 0.0598 - dice_coef: 0.8852\n",
      "Epoch 47/50\n",
      "569/569 [==============================] - 4s 6ms/step - loss: 0.0587 - dice_coef: 0.8873\n",
      "Epoch 48/50\n",
      "569/569 [==============================] - 4s 6ms/step - loss: 0.0580 - dice_coef: 0.8894\n",
      "Epoch 49/50\n",
      "569/569 [==============================] - 4s 6ms/step - loss: 0.0622 - dice_coef: 0.8827\n",
      "Epoch 50/50\n",
      "569/569 [==============================] - 4s 6ms/step - loss: 0.0624 - dice_coef: 0.8815\n"
     ]
    },
    {
     "data": {
      "text/plain": [
       "<keras.callbacks.callbacks.History at 0x7f2508242910>"
      ]
     },
     "execution_count": 19,
     "metadata": {},
     "output_type": "execute_result"
    }
   ],
   "source": [
    "print(\"\\nTraining...\")\n",
    "u_net_1.fit(X_train, y_train, batch_size=16, epochs=50)"
   ]
  },
  {
   "cell_type": "code",
   "execution_count": 20,
   "metadata": {},
   "outputs": [
    {
     "name": "stdout",
     "output_type": "stream",
     "text": [
      "Predicting\n",
      "101/101 [==============================] - 1s 6ms/step\n"
     ]
    }
   ],
   "source": [
    "print(\"Predicting\")\n",
    "# Predict on test data\n",
    "test_mask_validation = u_net_1.predict(X_valid, verbose=1)"
   ]
  },
  {
   "cell_type": "markdown",
   "execution_count": null,
   "metadata": {},
   "source": [
    "### 4.1 Predicted mask"
   ]
  },
  {
   "cell_type": "code",
   "execution_count": 21,
   "metadata": {},
   "outputs": [
    {
     "data": {
      "text/plain": [
       "<matplotlib.image.AxesImage at 0x7f24dd568450>"
      ]
     },
     "execution_count": 21,
     "metadata": {},
     "output_type": "execute_result"
    },
    {
     "data": {
      "image/png": "[encoded data removed]",
      "text/plain": [
       "<Figure size 432x288 with 1 Axes>"
      ]
     },
     "metadata": {
      "needs_background": "light"
     },
     "output_type": "display_data"
    }
   ],
   "source": [
    "plt.imshow(test_mask_validation[0].reshape(256,256))"
   ]
  },
  {
   "cell_type": "markdown",
   "execution_count": null,
   "metadata": {},
   "source": [
    "### 4.2 Ground-truth Mask"
   ]
  },
  {
   "cell_type": "code",
   "execution_count": 22,
   "metadata": {},
   "outputs": [
    {
     "data": {
      "text/plain": [
       "<matplotlib.image.AxesImage at 0x7f250805b6d0>"
      ]
     },
     "execution_count": 22,
     "metadata": {},
     "output_type": "execute_result"
    },
    {
     "data": {
      "image/png": "[encoded data removed]",
      "text/plain": [
       "<Figure size 432x288 with 1 Axes>"
      ]
     },
     "metadata": {
      "needs_background": "light"
     },
     "output_type": "display_data"
    }
   ],
   "source": [
    "plt.imshow(y_valid[0].reshape(256,256))"
   ]
  },
  {
   "cell_type": "markdown",
   "execution_count": null,
   "metadata": {},
   "source": [
    "**Now let's evaluate our model**"
   ]
  },
  {
   "cell_type": "code",
   "execution_count": 23,
   "metadata": {},
   "outputs": [
    {
     "name": "stdout",
     "output_type": "stream",
     "text": [
      "101/101 [==============================] - 0s 4ms/step\n"
     ]
    },
    {
     "data": {
      "text/plain": [
       "[0.07358102177703145, 0.897159218788147]"
      ]
     },
     "execution_count": 23,
     "metadata": {},
     "output_type": "execute_result"
    }
   ],
   "source": [
    "u_net_1.evaluate(X_valid,y_valid, verbose=1)"
   ]
  },
  {
   "cell_type": "code",
   "execution_count": 24,
   "metadata": {},
   "outputs": [
    {
     "name": "stdout",
     "output_type": "stream",
     "text": [
      "0.8706865903764668\n"
     ]
    }
   ],
   "source": [
    "dice_score = 0\n",
    "for i in range(len(test_mask_validation)):\n",
    "    dice_score += dice_coef(test_mask_validation[i].reshape(256,256),y_valid[i].reshape(256,256).astype(\"float32\")).numpy()\n",
    "print(dice_score/len(test_mask_validation))"
   ]
  },
  {
   "cell_type": "markdown",
   "execution_count": null,
   "metadata": {},
   "source": [
    "### Let's add few early stopping"
   ]
  },
  {
   "cell_type": "markdown",
   "execution_count": null,
   "metadata": {},
   "source": [
    "**Monitoring dice_coefficient**"
   ]
  },
  {
   "cell_type": "code",
   "execution_count": 25,
   "metadata": {},
   "outputs": [],
   "source": [
    "callbacks = [\n",
    "    EarlyStopping(monitor='dice_coef', patience=10, verbose=1),\n",
    "    ReduceLROnPlateau(monitor='dice_coef', factor=0.1, patience=3, min_lr=0.000001, verbose=1),\n",
    "    ModelCheckpoint('model_weights_1.h5', verbose=1, save_best_only=True, save_weights_only=True)\n",
    "]"
   ]
  },
  {
   "cell_type": "code",
   "execution_count": 26,
   "metadata": {},
   "outputs": [],
   "source": [
    "# get u_net model\n",
    "u_net_es = make_model()"
   ]
  },
  {
   "cell_type": "code",
   "execution_count": 27,
   "metadata": {},
   "outputs": [
    {
     "name": "stdout",
     "output_type": "stream",
     "text": [
      "Epoch 1/100\n",
      "569/569 [==============================] - 5s 9ms/step - loss: 0.3442 - dice_coef: 0.3736\n",
      "Epoch 2/100\n",
      " 32/569 [>.............................] - ETA: 3s - loss: 0.1793 - dice_coef: 0.6583"
     ]
    },
    {
     "name": "stderr",
     "output_type": "stream",
     "text": [
      "/opt/conda/lib/python3.7/site-packages/keras/callbacks/callbacks.py:707: RuntimeWarning: Can save best model only with val_loss available, skipping.\n",
      "  'skipping.' % (self.monitor), RuntimeWarning)\n"
     ]
    },
    {
     "name": "stdout",
     "output_type": "stream",
     "text": [
      "569/569 [==============================] - 3s 6ms/step - loss: 0.1465 - dice_coef: 0.7322\n",
      "Epoch 3/100\n",
      "569/569 [==============================] - 3s 6ms/step - loss: 0.1178 - dice_coef: 0.7845\n",
      "Epoch 4/100\n",
      "569/569 [==============================] - 3s 6ms/step - loss: 0.1013 - dice_coef: 0.8092\n",
      "\n",
      "Epoch 00004: ReduceLROnPlateau reducing learning rate to 0.00010000000474974513.\n",
      "Epoch 5/100\n",
      "569/569 [==============================] - 3s 6ms/step - loss: 0.0942 - dice_coef: 0.8333\n",
      "Epoch 6/100\n",
      "569/569 [==============================] - 3s 6ms/step - loss: 0.0930 - dice_coef: 0.8270\n",
      "Epoch 7/100\n",
      "569/569 [==============================] - 3s 6ms/step - loss: 0.0922 - dice_coef: 0.8327\n",
      "\n",
      "Epoch 00007: ReduceLROnPlateau reducing learning rate to 1.0000000474974514e-05.\n",
      "Epoch 8/100\n",
      "569/569 [==============================] - 3s 6ms/step - loss: 0.0905 - dice_coef: 0.8361\n",
      "Epoch 9/100\n",
      "569/569 [==============================] - 4s 6ms/step - loss: 0.0896 - dice_coef: 0.8346\n",
      "Epoch 10/100\n",
      "569/569 [==============================] - 4s 6ms/step - loss: 0.0894 - dice_coef: 0.8352\n",
      "\n",
      "Epoch 00010: ReduceLROnPlateau reducing learning rate to 1.0000000656873453e-06.\n",
      "Epoch 11/100\n",
      "569/569 [==============================] - 3s 6ms/step - loss: 0.0893 - dice_coef: 0.8349\n",
      "Epoch 00011: early stopping\n"
     ]
    }
   ],
   "source": [
    "results = u_net_es.fit(X_train, y_train, batch_size=16, epochs=100, callbacks=callbacks)"
   ]
  },
  {
   "cell_type": "markdown",
   "execution_count": null,
   "metadata": {},
   "source": [
    "### Monitoring Losses"
   ]
  },
  {
   "cell_type": "code",
   "execution_count": 28,
   "metadata": {},
   "outputs": [],
   "source": [
    "callbacks1 = [\n",
    "    EarlyStopping(monitor='loss', patience=10, verbose=1),\n",
    "    ReduceLROnPlateau(monitor='loss', factor=0.1, patience=3, min_lr=0.000001, verbose=1),\n",
    "    ModelCheckpoint('model_weights_1.h5', verbose=1, save_best_only=True, save_weights_only=True)\n",
    "]"
   ]
  },
  {
   "cell_type": "code",
   "execution_count": 29,
   "metadata": {},
   "outputs": [],
   "source": [
    "# get u_net model\n",
    "u_net_es_loss = make_model()"
   ]
  },
  {
   "cell_type": "code",
   "execution_count": 30,
   "metadata": {},
   "outputs": [
    {
     "name": "stdout",
     "output_type": "stream",
     "text": [
      "Epoch 1/200\n",
      "569/569 [==============================] - 5s 9ms/step - loss: 0.4479 - dice_coef: 0.2787\n",
      "Epoch 2/200\n",
      "569/569 [==============================] - 3s 6ms/step - loss: 0.1950 - dice_coef: 0.6379\n",
      "Epoch 3/200\n",
      "569/569 [==============================] - 4s 6ms/step - loss: 0.1373 - dice_coef: 0.7438\n",
      "Epoch 4/200\n",
      "569/569 [==============================] - 4s 6ms/step - loss: 0.1121 - dice_coef: 0.7976\n",
      "Epoch 5/200\n",
      "569/569 [==============================] - 4s 6ms/step - loss: 0.1033 - dice_coef: 0.8131\n",
      "Epoch 6/200\n",
      "569/569 [==============================] - 4s 6ms/step - loss: 0.0981 - dice_coef: 0.8213\n",
      "Epoch 7/200\n",
      "569/569 [==============================] - 4s 6ms/step - loss: 0.0935 - dice_coef: 0.8302\n",
      "Epoch 8/200\n",
      "569/569 [==============================] - 4s 6ms/step - loss: 0.0904 - dice_coef: 0.8386\n",
      "Epoch 9/200\n",
      "569/569 [==============================] - 4s 6ms/step - loss: 0.0904 - dice_coef: 0.8374\n",
      "Epoch 10/200\n",
      "569/569 [==============================] - 4s 6ms/step - loss: 0.0821 - dice_coef: 0.8503\n",
      "Epoch 11/200\n",
      "569/569 [==============================] - 3s 6ms/step - loss: 0.0802 - dice_coef: 0.8551\n",
      "Epoch 12/200\n",
      "569/569 [==============================] - 4s 6ms/step - loss: 0.0815 - dice_coef: 0.8501\n",
      "Epoch 13/200\n",
      "569/569 [==============================] - 4s 6ms/step - loss: 0.0788 - dice_coef: 0.8572\n",
      "Epoch 14/200\n",
      "569/569 [==============================] - 4s 6ms/step - loss: 0.0751 - dice_coef: 0.8628\n",
      "Epoch 15/200\n",
      "569/569 [==============================] - 4s 6ms/step - loss: 0.0764 - dice_coef: 0.8605\n",
      "Epoch 16/200\n",
      "569/569 [==============================] - 4s 6ms/step - loss: 0.0745 - dice_coef: 0.8618\n",
      "Epoch 17/200\n",
      "569/569 [==============================] - 4s 6ms/step - loss: 0.0740 - dice_coef: 0.8627\n",
      "Epoch 18/200\n",
      "569/569 [==============================] - 4s 6ms/step - loss: 0.0779 - dice_coef: 0.8583\n",
      "Epoch 19/200\n",
      "569/569 [==============================] - 4s 6ms/step - loss: 0.0759 - dice_coef: 0.8602\n",
      "Epoch 20/200\n",
      "569/569 [==============================] - 4s 6ms/step - loss: 0.0747 - dice_coef: 0.8604\n",
      "\n",
      "Epoch 00020: ReduceLROnPlateau reducing learning rate to 0.00010000000474974513.\n",
      "Epoch 21/200\n",
      "569/569 [==============================] - 4s 6ms/step - loss: 0.0721 - dice_coef: 0.8650\n",
      "Epoch 22/200\n",
      "569/569 [==============================] - 4s 6ms/step - loss: 0.0692 - dice_coef: 0.8685\n",
      "Epoch 23/200\n",
      "569/569 [==============================] - 4s 6ms/step - loss: 0.0686 - dice_coef: 0.8713\n",
      "Epoch 24/200\n",
      "569/569 [==============================] - 4s 6ms/step - loss: 0.0683 - dice_coef: 0.8713\n",
      "Epoch 25/200\n",
      "569/569 [==============================] - 4s 6ms/step - loss: 0.0681 - dice_coef: 0.8729\n",
      "Epoch 26/200\n",
      "569/569 [==============================] - 4s 6ms/step - loss: 0.0676 - dice_coef: 0.8717\n",
      "Epoch 27/200\n",
      "569/569 [==============================] - 4s 6ms/step - loss: 0.0674 - dice_coef: 0.8733\n",
      "Epoch 28/200\n",
      "569/569 [==============================] - 4s 6ms/step - loss: 0.0673 - dice_coef: 0.8727\n",
      "Epoch 29/200\n",
      "569/569 [==============================] - 4s 6ms/step - loss: 0.0669 - dice_coef: 0.8756\n",
      "Epoch 30/200\n",
      "569/569 [==============================] - 4s 6ms/step - loss: 0.0670 - dice_coef: 0.8733\n",
      "Epoch 31/200\n",
      "569/569 [==============================] - 4s 6ms/step - loss: 0.0666 - dice_coef: 0.8740\n",
      "Epoch 32/200\n",
      "569/569 [==============================] - 4s 6ms/step - loss: 0.0664 - dice_coef: 0.8755\n",
      "Epoch 33/200\n",
      "569/569 [==============================] - 4s 6ms/step - loss: 0.0664 - dice_coef: 0.8751\n",
      "Epoch 34/200\n",
      "569/569 [==============================] - 4s 6ms/step - loss: 0.0662 - dice_coef: 0.8762\n",
      "Epoch 35/200\n",
      "569/569 [==============================] - 4s 6ms/step - loss: 0.0660 - dice_coef: 0.8749\n",
      "Epoch 36/200\n",
      "569/569 [==============================] - 4s 6ms/step - loss: 0.0658 - dice_coef: 0.8740\n",
      "Epoch 37/200\n",
      "569/569 [==============================] - 4s 6ms/step - loss: 0.0654 - dice_coef: 0.8789\n",
      "Epoch 38/200\n",
      "569/569 [==============================] - 4s 6ms/step - loss: 0.0655 - dice_coef: 0.8761\n",
      "Epoch 39/200\n",
      "569/569 [==============================] - 4s 6ms/step - loss: 0.0656 - dice_coef: 0.8780\n",
      "Epoch 40/200\n",
      "569/569 [==============================] - 3s 6ms/step - loss: 0.0651 - dice_coef: 0.8774\n",
      "Epoch 41/200\n",
      "569/569 [==============================] - 4s 6ms/step - loss: 0.0651 - dice_coef: 0.8763\n",
      "Epoch 42/200\n",
      "569/569 [==============================] - 4s 6ms/step - loss: 0.0649 - dice_coef: 0.8771\n",
      "Epoch 43/200\n",
      "569/569 [==============================] - 4s 6ms/step - loss: 0.0648 - dice_coef: 0.8784\n",
      "Epoch 44/200\n",
      "569/569 [==============================] - 4s 6ms/step - loss: 0.0648 - dice_coef: 0.8779\n",
      "Epoch 45/200\n",
      "569/569 [==============================] - 4s 6ms/step - loss: 0.0644 - dice_coef: 0.8775\n",
      "Epoch 46/200\n",
      "569/569 [==============================] - 4s 6ms/step - loss: 0.0641 - dice_coef: 0.8792\n",
      "Epoch 47/200\n",
      "569/569 [==============================] - 4s 6ms/step - loss: 0.0641 - dice_coef: 0.8794\n",
      "Epoch 48/200\n",
      "569/569 [==============================] - 4s 6ms/step - loss: 0.0641 - dice_coef: 0.8800\n",
      "Epoch 49/200\n",
      "569/569 [==============================] - 4s 6ms/step - loss: 0.0635 - dice_coef: 0.8811\n",
      "Epoch 50/200\n",
      "569/569 [==============================] - 4s 6ms/step - loss: 0.0635 - dice_coef: 0.8776\n",
      "Epoch 51/200\n",
      "569/569 [==============================] - 4s 6ms/step - loss: 0.0635 - dice_coef: 0.8807\n",
      "Epoch 52/200\n",
      "569/569 [==============================] - 4s 6ms/step - loss: 0.0636 - dice_coef: 0.8805\n",
      "\n",
      "Epoch 00052: ReduceLROnPlateau reducing learning rate to 1.0000000474974514e-05.\n",
      "Epoch 53/200\n",
      "569/569 [==============================] - 4s 6ms/step - loss: 0.0624 - dice_coef: 0.8809\n",
      "Epoch 54/200\n",
      "569/569 [==============================] - 4s 6ms/step - loss: 0.0622 - dice_coef: 0.8839\n",
      "Epoch 55/200\n",
      "569/569 [==============================] - 4s 6ms/step - loss: 0.0622 - dice_coef: 0.8817\n",
      "Epoch 56/200\n",
      "569/569 [==============================] - 4s 6ms/step - loss: 0.0619 - dice_coef: 0.8823\n",
      "Epoch 57/200\n",
      "569/569 [==============================] - 4s 6ms/step - loss: 0.0620 - dice_coef: 0.8821\n",
      "Epoch 58/200\n",
      "569/569 [==============================] - 4s 6ms/step - loss: 0.0619 - dice_coef: 0.8814\n",
      "Epoch 59/200\n",
      "569/569 [==============================] - 4s 6ms/step - loss: 0.0617 - dice_coef: 0.8821\n",
      "Epoch 60/200\n",
      "569/569 [==============================] - 3s 6ms/step - loss: 0.0618 - dice_coef: 0.8826\n",
      "Epoch 61/200\n",
      "569/569 [==============================] - 4s 6ms/step - loss: 0.0618 - dice_coef: 0.8822\n",
      "Epoch 62/200\n",
      "569/569 [==============================] - 4s 6ms/step - loss: 0.0618 - dice_coef: 0.8823\n",
      "\n",
      "Epoch 00062: ReduceLROnPlateau reducing learning rate to 1.0000000656873453e-06.\n",
      "Epoch 63/200\n",
      "569/569 [==============================] - 4s 6ms/step - loss: 0.0617 - dice_coef: 0.8828\n",
      "Epoch 64/200\n",
      "569/569 [==============================] - 4s 6ms/step - loss: 0.0617 - dice_coef: 0.8834\n",
      "Epoch 65/200\n",
      "569/569 [==============================] - 4s 6ms/step - loss: 0.0616 - dice_coef: 0.8811\n",
      "\n",
      "Epoch 00065: ReduceLROnPlateau reducing learning rate to 1e-06.\n",
      "Epoch 66/200\n",
      "569/569 [==============================] - 4s 6ms/step - loss: 0.0617 - dice_coef: 0.8827\n",
      "Epoch 67/200\n",
      "569/569 [==============================] - 4s 6ms/step - loss: 0.0616 - dice_coef: 0.8829\n",
      "Epoch 68/200\n",
      "569/569 [==============================] - 4s 6ms/step - loss: 0.0617 - dice_coef: 0.8829\n",
      "Epoch 69/200\n",
      "569/569 [==============================] - 4s 6ms/step - loss: 0.0616 - dice_coef: 0.8838\n",
      "Epoch 70/200\n",
      "569/569 [==============================] - 4s 6ms/step - loss: 0.0616 - dice_coef: 0.8828\n",
      "Epoch 71/200\n",
      "569/569 [==============================] - 4s 6ms/step - loss: 0.0615 - dice_coef: 0.8803\n",
      "Epoch 72/200\n",
      "569/569 [==============================] - 4s 6ms/step - loss: 0.0616 - dice_coef: 0.8825\n",
      "Epoch 73/200\n",
      "569/569 [==============================] - 4s 6ms/step - loss: 0.0616 - dice_coef: 0.8837\n",
      "Epoch 74/200\n",
      "569/569 [==============================] - 4s 6ms/step - loss: 0.0616 - dice_coef: 0.8837\n",
      "Epoch 75/200\n",
      "569/569 [==============================] - 4s 6ms/step - loss: 0.0616 - dice_coef: 0.8819\n",
      "Epoch 76/200\n",
      "569/569 [==============================] - 4s 6ms/step - loss: 0.0615 - dice_coef: 0.8834\n",
      "Epoch 77/200\n",
      "569/569 [==============================] - 4s 6ms/step - loss: 0.0616 - dice_coef: 0.8830\n",
      "Epoch 78/200\n",
      "569/569 [==============================] - 4s 6ms/step - loss: 0.0615 - dice_coef: 0.8838\n",
      "Epoch 79/200\n",
      "569/569 [==============================] - 4s 6ms/step - loss: 0.0616 - dice_coef: 0.8828\n",
      "Epoch 80/200\n",
      "569/569 [==============================] - 4s 6ms/step - loss: 0.0615 - dice_coef: 0.8825\n",
      "Epoch 81/200\n",
      "569/569 [==============================] - 4s 6ms/step - loss: 0.0616 - dice_coef: 0.8820\n",
      "Epoch 82/200\n",
      "569/569 [==============================] - 4s 6ms/step - loss: 0.0616 - dice_coef: 0.8833\n",
      "Epoch 83/200\n",
      "569/569 [==============================] - 4s 6ms/step - loss: 0.0615 - dice_coef: 0.8836\n",
      "Epoch 84/200\n",
      "569/569 [==============================] - 4s 6ms/step - loss: 0.0615 - dice_coef: 0.8837\n",
      "Epoch 85/200\n",
      "569/569 [==============================] - 4s 6ms/step - loss: 0.0615 - dice_coef: 0.8832\n",
      "Epoch 86/200\n",
      "569/569 [==============================] - 4s 6ms/step - loss: 0.0616 - dice_coef: 0.8824\n",
      "Epoch 00086: early stopping\n"
     ]
    }
   ],
   "source": [
    "results = u_net_es_loss.fit(X_train, y_train, batch_size=16, epochs=200, callbacks=callbacks1)"
   ]
  },
  {
   "cell_type": "markdown",
   "execution_count": null,
   "metadata": {},
   "source": [
    "### Plot Learning Curve"
   ]
  },
  {
   "cell_type": "code",
   "execution_count": 31,
   "metadata": {},
   "outputs": [
    {
     "data": {
      "image/png": "[encoded data removed]",
      "text/plain": [
       "<Figure size 576x576 with 1 Axes>"
      ]
     },
     "metadata": {
      "needs_background": "light"
     },
     "output_type": "display_data"
    }
   ],
   "source": [
    "plt.figure(figsize=(8, 8))\n",
    "plt.title(\"Learning curve\")\n",
    "plt.plot(results.history[\"loss\"], label=\"loss\")\n",
    "plt.plot(results.history[\"dice_coef\"], label=\"dice_coef\")\n",
    "plt.plot( np.argmin(results.history[\"dice_coef\"]), np.min(results.history[\"dice_coef\"]), marker=\"x\", color=\"r\", label=\"best model\")\n",
    "plt.xlabel(\"Epochs\")\n",
    "plt.ylabel(\"log_loss\")\n",
    "plt.legend();"
   ]
  },
  {
   "cell_type": "code",
   "execution_count": 32,
   "metadata": {},
   "outputs": [],
   "source": [
    "from keras.models import Model, load_model\n",
    "from keras.layers import Input\n",
    "from keras.layers.core import Dropout, Lambda\n",
    "from keras.layers.convolutional import Conv2D, Conv2DTranspose,Convolution2D\n",
    "from keras.layers.pooling import MaxPooling2D\n",
    "from keras.layers.merge import concatenate\n",
    "from keras.callbacks import EarlyStopping, ModelCheckpoint\n",
    "from keras import backend as K\n",
    "\n",
    "\n",
    "def dice_coef(y_true, y_pred, smooth=1):\n",
    "    y_true_f = K.flatten(y_true)\n",
    "    y_pred_f = K.flatten(y_pred)\n",
    "    intersection = K.sum(y_true_f * y_pred_f)\n",
    "    return (2. * intersection + smooth) / (K.sum(y_true_f) + K.sum(y_pred_f) + smooth)\n",
    "\n",
    "\n",
    "def conv2d_block(input_tensor, n_filters, kernel_size=3, dropout=1, activation='relu'):\n",
    "    # first layer\n",
    "    c1 = Conv2D(filters=n_filters, activation=activation, kernel_size=(kernel_size, kernel_size), kernel_initializer=\"he_normal\",\n",
    "               padding=\"same\")(input_tensor)\n",
    "    c1 = Dropout(0.1)(c1)\n",
    "    # second layer\n",
    "    c1 = Conv2D(filters=n_filters, activation=activation, kernel_size=(kernel_size, kernel_size), kernel_initializer=\"he_normal\",\n",
    "               padding=\"same\")(c1)\n",
    "    return c1\n",
    "\n",
    "\n",
    "def unet_model(IMG_WIDTH=256,IMG_HEIGHT=256,IMG_CHANNELS=3, activation='relu', dropout=0.1):\n",
    "    inputs = Input((IMG_HEIGHT, IMG_WIDTH, IMG_CHANNELS))\n",
    "    s = Lambda(lambda x: x / 255)(inputs)\n",
    "    n_filters = 16\n",
    "    \n",
    "    c1 = conv2d_block(s, 16, kernel_size=3, dropout=dropout*1, activation=activation)\n",
    "    p1 = MaxPooling2D((2, 2), name='pool1')(c1)\n",
    "    \n",
    "    \n",
    "    c2 = conv2d_block(p1, 32, kernel_size=3, dropout=dropout*1, activation=activation)\n",
    "    p2 = MaxPooling2D((2, 2))(c2)\n",
    "\n",
    "    c3 = conv2d_block(p2, 64, kernel_size=3, dropout=dropout*2, activation=activation)\n",
    "    p3 = MaxPooling2D((2, 2))(c3)\n",
    "\n",
    "    c4 = conv2d_block(p3, 128, kernel_size=3, dropout=dropout*2, activation=activation)\n",
    "    p4 = MaxPooling2D((2, 2))(c4)\n",
    "\n",
    "    c5 = conv2d_block(p4, 256, kernel_size=3, dropout=dropout*3, activation=activation)\n",
    "\n",
    "    u6 = Conv2DTranspose(128, (2, 2), strides=(2, 2), padding='same')(c5)\n",
    "    u6 = concatenate([u6, c4])\n",
    "    c6 = conv2d_block(u6, 128, kernel_size=3, dropout=dropout*2, activation=activation)\n",
    "\n",
    "    u7 = Conv2DTranspose(64, (2, 2), strides=(2, 2), padding='same')(c6)\n",
    "    u7 = concatenate([u7, c3])\n",
    "    c7 = conv2d_block(u7, 64, kernel_size=3, dropout=dropout*2, activation=activation)\n",
    "\n",
    "    u8 = Conv2DTranspose(32, (2, 2), strides=(2, 2), padding='same')(c7)\n",
    "    u8 = concatenate([u8, c2])\n",
    "    c8 = conv2d_block(u8, 32, kernel_size=3, dropout=dropout*1, activation=activation)\n",
    "\n",
    "    u9 = Conv2DTranspose(16, (2, 2), strides=(2, 2), padding='same')(c8)\n",
    "    u9 = concatenate([u9, c1], axis=3)\n",
    "    c9 = conv2d_block(u9, 16, kernel_size=3, dropout=dropout*1, activation=activation)\n",
    "\n",
    "    outputs = Conv2D(1, (1, 1), activation='sigmoid')(c9)\n",
    "\n",
    "    model = Model(inputs=[inputs], outputs=[outputs])\n",
    "    model.compile(optimizer='adam', loss='binary_crossentropy', metrics=[dice_coef])\n",
    "    return model"
   ]
  },
  {
   "cell_type": "code",
   "execution_count": 33,
   "metadata": {},
   "outputs": [],
   "source": [
    "X_train, X_valid, y_train, y_valid = train_test_split(train_img, train_mask, test_size=0.15, random_state=2018)"
   ]
  },
  {
   "cell_type": "markdown",
   "execution_count": null,
   "metadata": {},
   "source": [
    "### Testing our model with different activation functions"
   ]
  },
  {
   "cell_type": "code",
   "execution_count": 34,
   "metadata": {},
   "outputs": [],
   "source": [
    "# get u_net model\n",
    "unet_relu = unet_model(activation=\"relu\")"
   ]
  },
  {
   "cell_type": "code",
   "execution_count": 35,
   "metadata": {},
   "outputs": [
    {
     "name": "stdout",
     "output_type": "stream",
     "text": [
      "\n",
      "Training...\n",
      "Epoch 1/50\n",
      "569/569 [==============================] - 5s 8ms/step - loss: 0.6263 - dice_coef: 0.2064\n",
      "Epoch 2/50\n",
      "569/569 [==============================] - 3s 6ms/step - loss: 0.3163 - dice_coef: 0.3323\n",
      "Epoch 3/50\n",
      "569/569 [==============================] - 3s 6ms/step - loss: 0.1993 - dice_coef: 0.5621\n",
      "Epoch 4/50\n",
      "569/569 [==============================] - 3s 6ms/step - loss: 0.1248 - dice_coef: 0.7642\n",
      "Epoch 5/50\n",
      "569/569 [==============================] - 3s 6ms/step - loss: 0.1070 - dice_coef: 0.7978\n",
      "Epoch 6/50\n",
      "569/569 [==============================] - 3s 6ms/step - loss: 0.1027 - dice_coef: 0.8081\n",
      "Epoch 7/50\n",
      "569/569 [==============================] - 3s 6ms/step - loss: 0.0936 - dice_coef: 0.8261\n",
      "Epoch 8/50\n",
      "569/569 [==============================] - 3s 6ms/step - loss: 0.0888 - dice_coef: 0.8328\n",
      "Epoch 9/50\n",
      "569/569 [==============================] - 3s 6ms/step - loss: 0.0867 - dice_coef: 0.8414\n",
      "Epoch 10/50\n",
      "569/569 [==============================] - 3s 6ms/step - loss: 0.0863 - dice_coef: 0.8403\n",
      "Epoch 11/50\n",
      "569/569 [==============================] - 4s 6ms/step - loss: 0.0833 - dice_coef: 0.8431\n",
      "Epoch 12/50\n",
      "569/569 [==============================] - 3s 6ms/step - loss: 0.0826 - dice_coef: 0.8467\n",
      "Epoch 13/50\n",
      "569/569 [==============================] - 4s 6ms/step - loss: 0.0810 - dice_coef: 0.8499\n",
      "Epoch 14/50\n",
      "569/569 [==============================] - 3s 6ms/step - loss: 0.0794 - dice_coef: 0.8526\n",
      "Epoch 15/50\n",
      "569/569 [==============================] - 3s 6ms/step - loss: 0.0789 - dice_coef: 0.8522\n",
      "Epoch 16/50\n",
      "569/569 [==============================] - 3s 6ms/step - loss: 0.0786 - dice_coef: 0.8549\n",
      "Epoch 17/50\n",
      "569/569 [==============================] - 3s 6ms/step - loss: 0.0750 - dice_coef: 0.8601\n",
      "Epoch 18/50\n",
      "569/569 [==============================] - 3s 6ms/step - loss: 0.0717 - dice_coef: 0.8659\n",
      "Epoch 19/50\n",
      "569/569 [==============================] - 3s 6ms/step - loss: 0.0735 - dice_coef: 0.8627\n",
      "Epoch 20/50\n",
      "569/569 [==============================] - 3s 6ms/step - loss: 0.0725 - dice_coef: 0.8627\n",
      "Epoch 21/50\n",
      "569/569 [==============================] - 3s 6ms/step - loss: 0.0707 - dice_coef: 0.8659\n",
      "Epoch 22/50\n",
      "569/569 [==============================] - 4s 6ms/step - loss: 0.0681 - dice_coef: 0.8708\n",
      "Epoch 23/50\n",
      "569/569 [==============================] - 3s 6ms/step - loss: 0.0680 - dice_coef: 0.8687\n",
      "Epoch 24/50\n",
      "569/569 [==============================] - 3s 6ms/step - loss: 0.0675 - dice_coef: 0.8730\n",
      "Epoch 25/50\n",
      "569/569 [==============================] - 3s 6ms/step - loss: 0.0669 - dice_coef: 0.8697\n",
      "Epoch 26/50\n",
      "569/569 [==============================] - 3s 6ms/step - loss: 0.0646 - dice_coef: 0.8788\n",
      "Epoch 27/50\n",
      "569/569 [==============================] - 3s 6ms/step - loss: 0.0659 - dice_coef: 0.8748\n",
      "Epoch 28/50\n",
      "569/569 [==============================] - 4s 6ms/step - loss: 0.0634 - dice_coef: 0.8792\n",
      "Epoch 29/50\n",
      "569/569 [==============================] - 3s 6ms/step - loss: 0.0620 - dice_coef: 0.8804\n",
      "Epoch 30/50\n",
      "569/569 [==============================] - 3s 6ms/step - loss: 0.0623 - dice_coef: 0.8820\n",
      "Epoch 31/50\n",
      "569/569 [==============================] - 3s 6ms/step - loss: 0.0673 - dice_coef: 0.8701\n",
      "Epoch 32/50\n",
      "569/569 [==============================] - 4s 6ms/step - loss: 0.0635 - dice_coef: 0.8769\n",
      "Epoch 33/50\n",
      "569/569 [==============================] - 3s 6ms/step - loss: 0.0605 - dice_coef: 0.8844\n",
      "Epoch 34/50\n",
      "569/569 [==============================] - 3s 6ms/step - loss: 0.0602 - dice_coef: 0.8837\n",
      "Epoch 35/50\n",
      "569/569 [==============================] - 3s 6ms/step - loss: 0.0594 - dice_coef: 0.8877\n",
      "Epoch 36/50\n",
      "569/569 [==============================] - 3s 6ms/step - loss: 0.0593 - dice_coef: 0.8845\n",
      "Epoch 37/50\n",
      "569/569 [==============================] - 3s 6ms/step - loss: 0.0572 - dice_coef: 0.8905\n",
      "Epoch 38/50\n",
      "569/569 [==============================] - 3s 6ms/step - loss: 0.0576 - dice_coef: 0.8884\n",
      "Epoch 39/50\n",
      "569/569 [==============================] - 3s 6ms/step - loss: 0.0580 - dice_coef: 0.8863\n",
      "Epoch 40/50\n",
      "569/569 [==============================] - 3s 6ms/step - loss: 0.0563 - dice_coef: 0.8929\n",
      "Epoch 41/50\n",
      "569/569 [==============================] - 3s 6ms/step - loss: 0.0563 - dice_coef: 0.8901\n",
      "Epoch 42/50\n",
      "569/569 [==============================] - 3s 6ms/step - loss: 0.0573 - dice_coef: 0.8883\n",
      "Epoch 43/50\n",
      "569/569 [==============================] - 3s 6ms/step - loss: 0.0535 - dice_coef: 0.8951\n",
      "Epoch 44/50\n",
      "569/569 [==============================] - 3s 6ms/step - loss: 0.0528 - dice_coef: 0.8968\n",
      "Epoch 45/50\n",
      "569/569 [==============================] - 4s 6ms/step - loss: 0.0531 - dice_coef: 0.8975\n",
      "Epoch 46/50\n",
      "569/569 [==============================] - 4s 6ms/step - loss: 0.0521 - dice_coef: 0.8981\n",
      "Epoch 47/50\n",
      "569/569 [==============================] - 3s 6ms/step - loss: 0.0507 - dice_coef: 0.9002\n",
      "Epoch 48/50\n",
      "569/569 [==============================] - 3s 6ms/step - loss: 0.0509 - dice_coef: 0.9018\n",
      "Epoch 49/50\n",
      "569/569 [==============================] - 3s 6ms/step - loss: 0.0483 - dice_coef: 0.9061\n",
      "Epoch 50/50\n",
      "569/569 [==============================] - 3s 6ms/step - loss: 0.0485 - dice_coef: 0.9057\n"
     ]
    },
    {
     "data": {
      "text/plain": [
       "<keras.callbacks.callbacks.History at 0x7f20d3a135d0>"
      ]
     },
     "execution_count": 35,
     "metadata": {},
     "output_type": "execute_result"
    }
   ],
   "source": [
    "print(\"\\nTraining...\")\n",
    "unet_relu.fit(X_train, y_train, batch_size=16, epochs=50)"
   ]
  },
  {
   "cell_type": "code",
   "execution_count": 36,
   "metadata": {},
   "outputs": [
    {
     "name": "stdout",
     "output_type": "stream",
     "text": [
      "101/101 [==============================] - 0s 5ms/step\n"
     ]
    },
    {
     "data": {
      "text/plain": [
       "[0.08387004606204458, 0.9004536271095276]"
      ]
     },
     "execution_count": 36,
     "metadata": {},
     "output_type": "execute_result"
    }
   ],
   "source": [
    "unet_relu.evaluate(X_valid,y_valid, verbose=1)"
   ]
  },
  {
   "cell_type": "markdown",
   "execution_count": null,
   "metadata": {},
   "source": [
    "### 5.Elu activation"
   ]
  },
  {
   "cell_type": "code",
   "execution_count": 37,
   "metadata": {},
   "outputs": [],
   "source": [
    "# get u_net model\n",
    "unet_elu = unet_model(activation=\"elu\")"
   ]
  },
  {
   "cell_type": "code",
   "execution_count": 38,
   "metadata": {},
   "outputs": [
    {
     "name": "stdout",
     "output_type": "stream",
     "text": [
      "\n",
      "Training...\n",
      "Epoch 1/50\n",
      "569/569 [==============================] - 5s 9ms/step - loss: 0.2994 - dice_coef: 0.4630\n",
      "Epoch 2/50\n",
      "569/569 [==============================] - 3s 6ms/step - loss: 0.1276 - dice_coef: 0.7561\n",
      "Epoch 3/50\n",
      "569/569 [==============================] - 3s 6ms/step - loss: 0.1059 - dice_coef: 0.8082\n",
      "Epoch 4/50\n",
      "569/569 [==============================] - 3s 6ms/step - loss: 0.0978 - dice_coef: 0.8203\n",
      "Epoch 5/50\n",
      "569/569 [==============================] - 3s 6ms/step - loss: 0.0991 - dice_coef: 0.8245\n",
      "Epoch 6/50\n",
      "569/569 [==============================] - 3s 6ms/step - loss: 0.1076 - dice_coef: 0.8064\n",
      "Epoch 7/50\n",
      "569/569 [==============================] - 3s 6ms/step - loss: 0.0956 - dice_coef: 0.8284\n",
      "Epoch 8/50\n",
      "569/569 [==============================] - 3s 6ms/step - loss: 0.0890 - dice_coef: 0.8407\n",
      "Epoch 9/50\n",
      "569/569 [==============================] - 4s 6ms/step - loss: 0.0872 - dice_coef: 0.8426\n",
      "Epoch 10/50\n",
      "569/569 [==============================] - 3s 6ms/step - loss: 0.0842 - dice_coef: 0.8487\n",
      "Epoch 11/50\n",
      "569/569 [==============================] - 4s 6ms/step - loss: 0.0895 - dice_coef: 0.8415\n",
      "Epoch 12/50\n",
      "569/569 [==============================] - 4s 6ms/step - loss: 0.0876 - dice_coef: 0.8419\n",
      "Epoch 13/50\n",
      "569/569 [==============================] - 3s 6ms/step - loss: 0.0808 - dice_coef: 0.8528\n",
      "Epoch 14/50\n",
      "569/569 [==============================] - 3s 6ms/step - loss: 0.0764 - dice_coef: 0.8598\n",
      "Epoch 15/50\n",
      "569/569 [==============================] - 3s 6ms/step - loss: 0.0748 - dice_coef: 0.8626\n",
      "Epoch 16/50\n",
      "569/569 [==============================] - 3s 6ms/step - loss: 0.0753 - dice_coef: 0.8636\n",
      "Epoch 17/50\n",
      "569/569 [==============================] - 3s 6ms/step - loss: 0.0721 - dice_coef: 0.8665\n",
      "Epoch 18/50\n",
      "569/569 [==============================] - 4s 6ms/step - loss: 0.0702 - dice_coef: 0.8694\n",
      "Epoch 19/50\n",
      "569/569 [==============================] - 3s 6ms/step - loss: 0.0698 - dice_coef: 0.8706\n",
      "Epoch 20/50\n",
      "569/569 [==============================] - 3s 6ms/step - loss: 0.0696 - dice_coef: 0.8728\n",
      "Epoch 21/50\n",
      "569/569 [==============================] - 3s 6ms/step - loss: 0.0716 - dice_coef: 0.8663\n",
      "Epoch 22/50\n",
      "569/569 [==============================] - 3s 6ms/step - loss: 0.0684 - dice_coef: 0.8719\n",
      "Epoch 23/50\n",
      "569/569 [==============================] - 3s 6ms/step - loss: 0.0685 - dice_coef: 0.8722\n",
      "Epoch 24/50\n",
      "569/569 [==============================] - 3s 6ms/step - loss: 0.0675 - dice_coef: 0.8730\n",
      "Epoch 25/50\n",
      "569/569 [==============================] - 3s 6ms/step - loss: 0.0660 - dice_coef: 0.8753\n",
      "Epoch 26/50\n",
      "569/569 [==============================] - 3s 6ms/step - loss: 0.0644 - dice_coef: 0.8777\n",
      "Epoch 27/50\n",
      "569/569 [==============================] - 3s 6ms/step - loss: 0.0646 - dice_coef: 0.8768\n",
      "Epoch 28/50\n",
      "569/569 [==============================] - 4s 6ms/step - loss: 0.0621 - dice_coef: 0.8828\n",
      "Epoch 29/50\n",
      "569/569 [==============================] - 3s 6ms/step - loss: 0.0630 - dice_coef: 0.8812\n",
      "Epoch 30/50\n",
      "569/569 [==============================] - 3s 6ms/step - loss: 0.0608 - dice_coef: 0.8856\n",
      "Epoch 31/50\n",
      "569/569 [==============================] - 4s 6ms/step - loss: 0.0613 - dice_coef: 0.8826\n",
      "Epoch 32/50\n",
      "569/569 [==============================] - 3s 6ms/step - loss: 0.0639 - dice_coef: 0.8788\n",
      "Epoch 33/50\n",
      "569/569 [==============================] - 3s 6ms/step - loss: 0.0604 - dice_coef: 0.8860\n",
      "Epoch 34/50\n",
      "569/569 [==============================] - 3s 6ms/step - loss: 0.0577 - dice_coef: 0.8890\n",
      "Epoch 35/50\n",
      "569/569 [==============================] - 3s 6ms/step - loss: 0.0582 - dice_coef: 0.8893\n",
      "Epoch 36/50\n",
      "569/569 [==============================] - 3s 6ms/step - loss: 0.0588 - dice_coef: 0.8878\n",
      "Epoch 37/50\n",
      "569/569 [==============================] - 4s 6ms/step - loss: 0.0577 - dice_coef: 0.8913\n",
      "Epoch 38/50\n",
      "569/569 [==============================] - 3s 6ms/step - loss: 0.0577 - dice_coef: 0.8883\n",
      "Epoch 39/50\n",
      "569/569 [==============================] - 3s 6ms/step - loss: 0.0548 - dice_coef: 0.8950\n",
      "Epoch 40/50\n",
      "569/569 [==============================] - 3s 6ms/step - loss: 0.0572 - dice_coef: 0.8918\n",
      "Epoch 41/50\n",
      "569/569 [==============================] - 3s 6ms/step - loss: 0.0544 - dice_coef: 0.8971\n",
      "Epoch 42/50\n",
      "569/569 [==============================] - 3s 6ms/step - loss: 0.0516 - dice_coef: 0.9002\n",
      "Epoch 43/50\n",
      "569/569 [==============================] - 3s 6ms/step - loss: 0.0527 - dice_coef: 0.8988\n",
      "Epoch 44/50\n",
      "569/569 [==============================] - 3s 6ms/step - loss: 0.0512 - dice_coef: 0.9005\n",
      "Epoch 45/50\n",
      "569/569 [==============================] - 4s 6ms/step - loss: 0.0467 - dice_coef: 0.9102\n",
      "Epoch 46/50\n",
      "569/569 [==============================] - 3s 6ms/step - loss: 0.0467 - dice_coef: 0.9094\n",
      "Epoch 47/50\n",
      "569/569 [==============================] - 4s 6ms/step - loss: 0.0449 - dice_coef: 0.9130\n",
      "Epoch 48/50\n",
      "569/569 [==============================] - 3s 6ms/step - loss: 0.0440 - dice_coef: 0.9145\n",
      "Epoch 49/50\n",
      "569/569 [==============================] - 3s 6ms/step - loss: 0.0426 - dice_coef: 0.9173\n",
      "Epoch 50/50\n",
      "569/569 [==============================] - 3s 6ms/step - loss: 0.0397 - dice_coef: 0.9229\n"
     ]
    },
    {
     "data": {
      "text/plain": [
       "<keras.callbacks.callbacks.History at 0x7f20d334aa10>"
      ]
     },
     "execution_count": 38,
     "metadata": {},
     "output_type": "execute_result"
    }
   ],
   "source": [
    "print(\"\\nTraining...\")\n",
    "unet_elu.fit(X_train, y_train, batch_size=16, epochs=50)"
   ]
  },
  {
   "cell_type": "code",
   "execution_count": 39,
   "metadata": {},
   "outputs": [
    {
     "name": "stdout",
     "output_type": "stream",
     "text": [
      "101/101 [==============================] - 0s 4ms/step\n"
     ]
    },
    {
     "data": {
      "text/plain": [
       "[0.08734762963682118, 0.9077357053756714]"
      ]
     },
     "execution_count": 39,
     "metadata": {},
     "output_type": "execute_result"
    }
   ],
   "source": [
    "unet_elu.evaluate(X_valid,y_valid, verbose=1)"
   ]
  },
  {
   "cell_type": "markdown",
   "execution_count": null,
   "metadata": {},
   "source": [
    "**Trying adding validation during learning**"
   ]
  },
  {
   "cell_type": "code",
   "execution_count": 40,
   "metadata": {},
   "outputs": [],
   "source": [
    "# get u_net model\n",
    "unet_elu_valid = unet_model(activation=\"elu\")"
   ]
  },
  {
   "cell_type": "code",
   "execution_count": 41,
   "metadata": {},
   "outputs": [
    {
     "name": "stdout",
     "output_type": "stream",
     "text": [
      "Train on 569 samples, validate on 101 samples\n",
      "Epoch 1/50\n",
      "569/569 [==============================] - 5s 9ms/step - loss: 0.3424 - dice_coef: 0.4025 - val_loss: 0.2259 - val_dice_coef: 0.6753\n",
      "Epoch 2/50\n",
      "569/569 [==============================] - 4s 6ms/step - loss: 0.1466 - dice_coef: 0.7261 - val_loss: 0.1563 - val_dice_coef: 0.8066\n",
      "Epoch 3/50\n",
      "569/569 [==============================] - 4s 6ms/step - loss: 0.1233 - dice_coef: 0.7772 - val_loss: 0.1266 - val_dice_coef: 0.8275\n",
      "Epoch 4/50\n",
      "569/569 [==============================] - 4s 7ms/step - loss: 0.1055 - dice_coef: 0.8098 - val_loss: 0.1148 - val_dice_coef: 0.8488\n",
      "Epoch 5/50\n",
      "569/569 [==============================] - 4s 6ms/step - loss: 0.1019 - dice_coef: 0.8158 - val_loss: 0.1172 - val_dice_coef: 0.8388\n",
      "Epoch 6/50\n",
      "569/569 [==============================] - 4s 6ms/step - loss: 0.0969 - dice_coef: 0.8236 - val_loss: 0.1074 - val_dice_coef: 0.8527\n",
      "Epoch 7/50\n",
      "569/569 [==============================] - 4s 7ms/step - loss: 0.0914 - dice_coef: 0.8360 - val_loss: 0.1004 - val_dice_coef: 0.8512\n",
      "Epoch 8/50\n",
      "569/569 [==============================] - 4s 6ms/step - loss: 0.0888 - dice_coef: 0.8371 - val_loss: 0.0975 - val_dice_coef: 0.8625\n",
      "Epoch 9/50\n",
      "569/569 [==============================] - 4s 6ms/step - loss: 0.0855 - dice_coef: 0.8453 - val_loss: 0.1030 - val_dice_coef: 0.8638\n",
      "Epoch 10/50\n",
      "569/569 [==============================] - 4s 7ms/step - loss: 0.0837 - dice_coef: 0.8498 - val_loss: 0.0951 - val_dice_coef: 0.8664\n",
      "Epoch 11/50\n",
      "569/569 [==============================] - 4s 7ms/step - loss: 0.0819 - dice_coef: 0.8533 - val_loss: 0.0911 - val_dice_coef: 0.8614\n",
      "Epoch 12/50\n",
      "569/569 [==============================] - 4s 6ms/step - loss: 0.0874 - dice_coef: 0.8418 - val_loss: 0.1037 - val_dice_coef: 0.8646\n",
      "Epoch 13/50\n",
      "569/569 [==============================] - 4s 7ms/step - loss: 0.0829 - dice_coef: 0.8485 - val_loss: 0.0900 - val_dice_coef: 0.8573\n",
      "Epoch 14/50\n",
      "569/569 [==============================] - 4s 6ms/step - loss: 0.0785 - dice_coef: 0.8573 - val_loss: 0.0905 - val_dice_coef: 0.8583\n",
      "Epoch 15/50\n",
      "569/569 [==============================] - 4s 6ms/step - loss: 0.0799 - dice_coef: 0.8536 - val_loss: 0.0873 - val_dice_coef: 0.8704\n",
      "Epoch 16/50\n",
      "569/569 [==============================] - 4s 6ms/step - loss: 0.0740 - dice_coef: 0.8629 - val_loss: 0.0839 - val_dice_coef: 0.8688\n",
      "Epoch 17/50\n",
      "569/569 [==============================] - 4s 6ms/step - loss: 0.0760 - dice_coef: 0.8587 - val_loss: 0.0838 - val_dice_coef: 0.8779\n",
      "Epoch 18/50\n",
      "569/569 [==============================] - 4s 6ms/step - loss: 0.0740 - dice_coef: 0.8662 - val_loss: 0.0837 - val_dice_coef: 0.8716\n",
      "Epoch 19/50\n",
      "569/569 [==============================] - 4s 6ms/step - loss: 0.0752 - dice_coef: 0.8579 - val_loss: 0.0843 - val_dice_coef: 0.8790\n",
      "Epoch 20/50\n",
      "569/569 [==============================] - 4s 6ms/step - loss: 0.0752 - dice_coef: 0.8630 - val_loss: 0.0832 - val_dice_coef: 0.8781\n",
      "Epoch 21/50\n",
      "569/569 [==============================] - 4s 6ms/step - loss: 0.0708 - dice_coef: 0.8677 - val_loss: 0.0816 - val_dice_coef: 0.8729\n",
      "Epoch 22/50\n",
      "569/569 [==============================] - 4s 7ms/step - loss: 0.0722 - dice_coef: 0.8658 - val_loss: 0.0870 - val_dice_coef: 0.8752\n",
      "Epoch 23/50\n",
      "569/569 [==============================] - 4s 6ms/step - loss: 0.0706 - dice_coef: 0.8677 - val_loss: 0.0807 - val_dice_coef: 0.8856\n",
      "Epoch 24/50\n",
      "569/569 [==============================] - 4s 6ms/step - loss: 0.0765 - dice_coef: 0.8602 - val_loss: 0.0843 - val_dice_coef: 0.8713\n",
      "Epoch 25/50\n",
      "569/569 [==============================] - 4s 6ms/step - loss: 0.0693 - dice_coef: 0.8712 - val_loss: 0.0800 - val_dice_coef: 0.8735\n",
      "Epoch 26/50\n",
      "569/569 [==============================] - 4s 7ms/step - loss: 0.0690 - dice_coef: 0.8698 - val_loss: 0.0788 - val_dice_coef: 0.8762\n",
      "Epoch 27/50\n",
      "569/569 [==============================] - 4s 7ms/step - loss: 0.0696 - dice_coef: 0.8691 - val_loss: 0.0794 - val_dice_coef: 0.8838\n",
      "Epoch 28/50\n",
      "569/569 [==============================] - 4s 7ms/step - loss: 0.0699 - dice_coef: 0.8718 - val_loss: 0.0777 - val_dice_coef: 0.8791\n",
      "Epoch 29/50\n",
      "569/569 [==============================] - 4s 6ms/step - loss: 0.0661 - dice_coef: 0.8753 - val_loss: 0.0768 - val_dice_coef: 0.8817\n",
      "Epoch 30/50\n",
      "569/569 [==============================] - 4s 6ms/step - loss: 0.0665 - dice_coef: 0.8743 - val_loss: 0.0768 - val_dice_coef: 0.8833\n",
      "Epoch 31/50\n",
      "569/569 [==============================] - 4s 7ms/step - loss: 0.0654 - dice_coef: 0.8774 - val_loss: 0.0858 - val_dice_coef: 0.8725\n",
      "Epoch 32/50\n",
      "569/569 [==============================] - 4s 6ms/step - loss: 0.0669 - dice_coef: 0.8726 - val_loss: 0.0776 - val_dice_coef: 0.8829\n",
      "Epoch 33/50\n",
      "569/569 [==============================] - 4s 6ms/step - loss: 0.0648 - dice_coef: 0.8789 - val_loss: 0.0792 - val_dice_coef: 0.8904\n",
      "Epoch 34/50\n",
      "569/569 [==============================] - 4s 6ms/step - loss: 0.0652 - dice_coef: 0.8782 - val_loss: 0.0767 - val_dice_coef: 0.8837\n",
      "Epoch 35/50\n",
      "569/569 [==============================] - 4s 6ms/step - loss: 0.0646 - dice_coef: 0.8772 - val_loss: 0.0809 - val_dice_coef: 0.8824\n",
      "Epoch 36/50\n",
      "569/569 [==============================] - 4s 6ms/step - loss: 0.0675 - dice_coef: 0.8745 - val_loss: 0.0768 - val_dice_coef: 0.8758\n",
      "Epoch 37/50\n",
      "569/569 [==============================] - 4s 6ms/step - loss: 0.0647 - dice_coef: 0.8790 - val_loss: 0.0758 - val_dice_coef: 0.8876\n",
      "Epoch 38/50\n",
      "569/569 [==============================] - 4s 6ms/step - loss: 0.0642 - dice_coef: 0.8776 - val_loss: 0.0769 - val_dice_coef: 0.8871\n",
      "Epoch 39/50\n",
      "569/569 [==============================] - 4s 6ms/step - loss: 0.0647 - dice_coef: 0.8759 - val_loss: 0.0821 - val_dice_coef: 0.8754\n",
      "Epoch 40/50\n",
      "569/569 [==============================] - 4s 7ms/step - loss: 0.0642 - dice_coef: 0.8804 - val_loss: 0.0754 - val_dice_coef: 0.8852\n",
      "Epoch 41/50\n",
      "569/569 [==============================] - 4s 6ms/step - loss: 0.0609 - dice_coef: 0.8843 - val_loss: 0.0740 - val_dice_coef: 0.8833\n",
      "Epoch 42/50\n",
      "569/569 [==============================] - 4s 6ms/step - loss: 0.0611 - dice_coef: 0.8839 - val_loss: 0.0764 - val_dice_coef: 0.8813\n",
      "Epoch 43/50\n",
      "569/569 [==============================] - 4s 7ms/step - loss: 0.0604 - dice_coef: 0.8858 - val_loss: 0.0770 - val_dice_coef: 0.8865\n",
      "Epoch 44/50\n",
      "569/569 [==============================] - 4s 7ms/step - loss: 0.0601 - dice_coef: 0.8857 - val_loss: 0.0742 - val_dice_coef: 0.8901\n",
      "Epoch 45/50\n",
      "569/569 [==============================] - 4s 6ms/step - loss: 0.0611 - dice_coef: 0.8842 - val_loss: 0.0776 - val_dice_coef: 0.8845\n",
      "Epoch 46/50\n",
      "569/569 [==============================] - 4s 6ms/step - loss: 0.0600 - dice_coef: 0.8868 - val_loss: 0.0747 - val_dice_coef: 0.8927\n",
      "Epoch 47/50\n",
      "569/569 [==============================] - 4s 6ms/step - loss: 0.0585 - dice_coef: 0.8889 - val_loss: 0.0734 - val_dice_coef: 0.8927\n",
      "Epoch 48/50\n",
      "569/569 [==============================] - 4s 6ms/step - loss: 0.0590 - dice_coef: 0.8876 - val_loss: 0.0733 - val_dice_coef: 0.8927\n",
      "Epoch 49/50\n",
      "569/569 [==============================] - 4s 7ms/step - loss: 0.0605 - dice_coef: 0.8870 - val_loss: 0.0748 - val_dice_coef: 0.8913\n",
      "Epoch 50/50\n",
      "569/569 [==============================] - 4s 6ms/step - loss: 0.0578 - dice_coef: 0.8902 - val_loss: 0.0786 - val_dice_coef: 0.8753\n"
     ]
    },
    {
     "data": {
      "text/plain": [
       "<keras.callbacks.callbacks.History at 0x7f20d2205950>"
      ]
     },
     "execution_count": 41,
     "metadata": {},
     "output_type": "execute_result"
    }
   ],
   "source": [
    "unet_elu_valid.fit(X_train, y_train, batch_size=16, epochs=50, validation_data=(X_valid, y_valid))"
   ]
  },
  {
   "cell_type": "markdown",
   "execution_count": null,
   "metadata": {},
   "source": [
    "### Adding callbacks"
   ]
  },
  {
   "cell_type": "code",
   "execution_count": 42,
   "metadata": {},
   "outputs": [],
   "source": [
    "callbacks_new = [\n",
    "    EarlyStopping(monitor='dice_coef', mode='max', patience=10, verbose=1),\n",
    "    ReduceLROnPlateau(factor=0.1, patience=3, min_lr=0.00001, verbose=1),\n",
    "    ModelCheckpoint('model_weights.h5', verbose=1, save_best_only=True, save_weights_only=True)\n",
    "]"
   ]
  },
  {
   "cell_type": "code",
   "execution_count": 43,
   "metadata": {},
   "outputs": [],
   "source": [
    "# get u_net model\n",
    "unet_elu_call = unet_model(activation=\"elu\")"
   ]
  },
  {
   "cell_type": "code",
   "execution_count": 44,
   "metadata": {},
   "outputs": [
    {
     "name": "stdout",
     "output_type": "stream",
     "text": [
      "Train on 569 samples, validate on 101 samples\n",
      "Epoch 1/50\n",
      "569/569 [==============================] - 6s 10ms/step - loss: 0.3315 - dice_coef: 0.4200 - val_loss: 0.1603 - val_dice_coef: 0.7437\n",
      "\n",
      "Epoch 00001: val_loss improved from inf to 0.16034, saving model to model_weights.h5\n",
      "Epoch 2/50\n",
      "569/569 [==============================] - 4s 6ms/step - loss: 0.1388 - dice_coef: 0.7454 - val_loss: 0.1373 - val_dice_coef: 0.8084\n",
      "\n",
      "Epoch 00002: val_loss improved from 0.16034 to 0.13726, saving model to model_weights.h5\n",
      "Epoch 3/50\n",
      "569/569 [==============================] - 4s 6ms/step - loss: 0.1137 - dice_coef: 0.7939 - val_loss: 0.1086 - val_dice_coef: 0.8442\n",
      "\n",
      "Epoch 00003: val_loss improved from 0.13726 to 0.10862, saving model to model_weights.h5\n",
      "Epoch 4/50\n",
      "569/569 [==============================] - 4s 6ms/step - loss: 0.0995 - dice_coef: 0.8181 - val_loss: 0.1078 - val_dice_coef: 0.8609\n",
      "\n",
      "Epoch 00004: val_loss improved from 0.10862 to 0.10775, saving model to model_weights.h5\n",
      "Epoch 5/50\n",
      "569/569 [==============================] - 4s 6ms/step - loss: 0.0868 - dice_coef: 0.8440 - val_loss: 0.0981 - val_dice_coef: 0.8607\n",
      "\n",
      "Epoch 00005: val_loss improved from 0.10775 to 0.09806, saving model to model_weights.h5\n",
      "Epoch 6/50\n",
      "569/569 [==============================] - 4s 6ms/step - loss: 0.0827 - dice_coef: 0.8496 - val_loss: 0.0956 - val_dice_coef: 0.8614\n",
      "\n",
      "Epoch 00006: val_loss improved from 0.09806 to 0.09562, saving model to model_weights.h5\n",
      "Epoch 7/50\n",
      "569/569 [==============================] - 4s 7ms/step - loss: 0.0818 - dice_coef: 0.8512 - val_loss: 0.1044 - val_dice_coef: 0.8481\n",
      "\n",
      "Epoch 00007: val_loss did not improve from 0.09562\n",
      "Epoch 8/50\n",
      "569/569 [==============================] - 4s 6ms/step - loss: 0.0817 - dice_coef: 0.8497 - val_loss: 0.0955 - val_dice_coef: 0.8665\n",
      "\n",
      "Epoch 00008: val_loss improved from 0.09562 to 0.09549, saving model to model_weights.h5\n",
      "Epoch 9/50\n",
      "569/569 [==============================] - 4s 7ms/step - loss: 0.0786 - dice_coef: 0.8570 - val_loss: 0.0971 - val_dice_coef: 0.8502\n",
      "\n",
      "Epoch 00009: val_loss did not improve from 0.09549\n",
      "Epoch 10/50\n",
      "569/569 [==============================] - 4s 6ms/step - loss: 0.0803 - dice_coef: 0.8541 - val_loss: 0.1040 - val_dice_coef: 0.8559\n",
      "\n",
      "Epoch 00010: val_loss did not improve from 0.09549\n",
      "Epoch 11/50\n",
      "569/569 [==============================] - 4s 6ms/step - loss: 0.0788 - dice_coef: 0.8564 - val_loss: 0.1140 - val_dice_coef: 0.8586\n",
      "\n",
      "Epoch 00011: ReduceLROnPlateau reducing learning rate to 0.00010000000474974513.\n",
      "\n",
      "Epoch 00011: val_loss did not improve from 0.09549\n",
      "Epoch 12/50\n",
      "569/569 [==============================] - 4s 6ms/step - loss: 0.0753 - dice_coef: 0.8631 - val_loss: 0.0916 - val_dice_coef: 0.8723\n",
      "\n",
      "Epoch 00012: val_loss improved from 0.09549 to 0.09156, saving model to model_weights.h5\n",
      "Epoch 13/50\n",
      "569/569 [==============================] - 4s 6ms/step - loss: 0.0721 - dice_coef: 0.8656 - val_loss: 0.0927 - val_dice_coef: 0.8711\n",
      "\n",
      "Epoch 00013: val_loss did not improve from 0.09156\n",
      "Epoch 14/50\n",
      "569/569 [==============================] - 4s 6ms/step - loss: 0.0713 - dice_coef: 0.8667 - val_loss: 0.0919 - val_dice_coef: 0.8716\n",
      "\n",
      "Epoch 00014: val_loss did not improve from 0.09156\n",
      "Epoch 15/50\n",
      "569/569 [==============================] - 4s 6ms/step - loss: 0.0708 - dice_coef: 0.8685 - val_loss: 0.0915 - val_dice_coef: 0.8725\n",
      "\n",
      "Epoch 00015: ReduceLROnPlateau reducing learning rate to 1.0000000474974514e-05.\n",
      "\n",
      "Epoch 00015: val_loss improved from 0.09156 to 0.09153, saving model to model_weights.h5\n",
      "Epoch 16/50\n",
      "569/569 [==============================] - 4s 6ms/step - loss: 0.0703 - dice_coef: 0.8669 - val_loss: 0.0929 - val_dice_coef: 0.8714\n",
      "\n",
      "Epoch 00016: val_loss did not improve from 0.09153\n",
      "Epoch 17/50\n",
      "569/569 [==============================] - 4s 6ms/step - loss: 0.0702 - dice_coef: 0.8684 - val_loss: 0.0939 - val_dice_coef: 0.8706\n",
      "\n",
      "Epoch 00017: val_loss did not improve from 0.09153\n",
      "Epoch 18/50\n",
      "569/569 [==============================] - 4s 6ms/step - loss: 0.0702 - dice_coef: 0.8687 - val_loss: 0.0936 - val_dice_coef: 0.8713\n",
      "\n",
      "Epoch 00018: ReduceLROnPlateau reducing learning rate to 1e-05.\n",
      "\n",
      "Epoch 00018: val_loss did not improve from 0.09153\n",
      "Epoch 19/50\n",
      "569/569 [==============================] - 4s 6ms/step - loss: 0.0701 - dice_coef: 0.8684 - val_loss: 0.0942 - val_dice_coef: 0.8709\n",
      "\n",
      "Epoch 00019: val_loss did not improve from 0.09153\n",
      "Epoch 20/50\n",
      "569/569 [==============================] - 4s 6ms/step - loss: 0.0701 - dice_coef: 0.8700 - val_loss: 0.0934 - val_dice_coef: 0.8716\n",
      "\n",
      "Epoch 00020: val_loss did not improve from 0.09153\n",
      "Epoch 21/50\n",
      "569/569 [==============================] - 4s 6ms/step - loss: 0.0700 - dice_coef: 0.8697 - val_loss: 0.0938 - val_dice_coef: 0.8713\n",
      "\n",
      "Epoch 00021: val_loss did not improve from 0.09153\n",
      "Epoch 22/50\n",
      "569/569 [==============================] - 4s 6ms/step - loss: 0.0699 - dice_coef: 0.8698 - val_loss: 0.0934 - val_dice_coef: 0.8719\n",
      "\n",
      "Epoch 00022: val_loss did not improve from 0.09153\n",
      "Epoch 23/50\n",
      "569/569 [==============================] - 4s 6ms/step - loss: 0.0700 - dice_coef: 0.8695 - val_loss: 0.0940 - val_dice_coef: 0.8717\n",
      "\n",
      "Epoch 00023: val_loss did not improve from 0.09153\n",
      "Epoch 24/50\n",
      "569/569 [==============================] - 4s 7ms/step - loss: 0.0698 - dice_coef: 0.8696 - val_loss: 0.0934 - val_dice_coef: 0.8721\n",
      "\n",
      "Epoch 00024: val_loss did not improve from 0.09153\n",
      "Epoch 25/50\n",
      "569/569 [==============================] - 4s 7ms/step - loss: 0.0697 - dice_coef: 0.8701 - val_loss: 0.0936 - val_dice_coef: 0.8720\n",
      "\n",
      "Epoch 00025: val_loss did not improve from 0.09153\n",
      "Epoch 26/50\n",
      "569/569 [==============================] - 4s 6ms/step - loss: 0.0697 - dice_coef: 0.8691 - val_loss: 0.0936 - val_dice_coef: 0.8721\n",
      "\n",
      "Epoch 00026: val_loss did not improve from 0.09153\n",
      "Epoch 27/50\n",
      "569/569 [==============================] - 4s 6ms/step - loss: 0.0698 - dice_coef: 0.8699 - val_loss: 0.0939 - val_dice_coef: 0.8718\n",
      "\n",
      "Epoch 00027: val_loss did not improve from 0.09153\n",
      "Epoch 28/50\n",
      "569/569 [==============================] - 4s 6ms/step - loss: 0.0696 - dice_coef: 0.8699 - val_loss: 0.0933 - val_dice_coef: 0.8724\n",
      "\n",
      "Epoch 00028: val_loss did not improve from 0.09153\n",
      "Epoch 29/50\n",
      "569/569 [==============================] - 4s 6ms/step - loss: 0.0696 - dice_coef: 0.8687 - val_loss: 0.0934 - val_dice_coef: 0.8720\n",
      "\n",
      "Epoch 00029: val_loss did not improve from 0.09153\n",
      "Epoch 30/50\n",
      "569/569 [==============================] - 4s 6ms/step - loss: 0.0695 - dice_coef: 0.8691 - val_loss: 0.0933 - val_dice_coef: 0.8724\n",
      "\n",
      "Epoch 00030: val_loss did not improve from 0.09153\n",
      "Epoch 31/50\n",
      "569/569 [==============================] - 4s 6ms/step - loss: 0.0695 - dice_coef: 0.8698 - val_loss: 0.0936 - val_dice_coef: 0.8723\n",
      "\n",
      "Epoch 00031: val_loss did not improve from 0.09153\n",
      "Epoch 32/50\n",
      "569/569 [==============================] - 4s 6ms/step - loss: 0.0694 - dice_coef: 0.8693 - val_loss: 0.0937 - val_dice_coef: 0.8724\n",
      "\n",
      "Epoch 00032: val_loss did not improve from 0.09153\n",
      "Epoch 33/50\n",
      "569/569 [==============================] - 4s 6ms/step - loss: 0.0695 - dice_coef: 0.8696 - val_loss: 0.0931 - val_dice_coef: 0.8728\n",
      "\n",
      "Epoch 00033: val_loss did not improve from 0.09153\n",
      "Epoch 34/50\n",
      "569/569 [==============================] - 4s 6ms/step - loss: 0.0693 - dice_coef: 0.8714 - val_loss: 0.0938 - val_dice_coef: 0.8722\n",
      "\n",
      "Epoch 00034: val_loss did not improve from 0.09153\n",
      "Epoch 35/50\n",
      "569/569 [==============================] - 4s 6ms/step - loss: 0.0692 - dice_coef: 0.8698 - val_loss: 0.0937 - val_dice_coef: 0.8721\n",
      "\n",
      "Epoch 00035: val_loss did not improve from 0.09153\n",
      "Epoch 36/50\n",
      "569/569 [==============================] - 4s 6ms/step - loss: 0.0692 - dice_coef: 0.8687 - val_loss: 0.0932 - val_dice_coef: 0.8727\n",
      "\n",
      "Epoch 00036: val_loss did not improve from 0.09153\n",
      "Epoch 37/50\n",
      "569/569 [==============================] - 4s 6ms/step - loss: 0.0692 - dice_coef: 0.8700 - val_loss: 0.0938 - val_dice_coef: 0.8722\n",
      "\n",
      "Epoch 00037: val_loss did not improve from 0.09153\n",
      "Epoch 38/50\n",
      "569/569 [==============================] - 4s 6ms/step - loss: 0.0691 - dice_coef: 0.8692 - val_loss: 0.0932 - val_dice_coef: 0.8730\n",
      "\n",
      "Epoch 00038: val_loss did not improve from 0.09153\n",
      "Epoch 39/50\n",
      "569/569 [==============================] - 4s 6ms/step - loss: 0.0691 - dice_coef: 0.8704 - val_loss: 0.0937 - val_dice_coef: 0.8724\n",
      "\n",
      "Epoch 00039: val_loss did not improve from 0.09153\n",
      "Epoch 40/50\n",
      "569/569 [==============================] - 4s 7ms/step - loss: 0.0690 - dice_coef: 0.8709 - val_loss: 0.0936 - val_dice_coef: 0.8726\n",
      "\n",
      "Epoch 00040: val_loss did not improve from 0.09153\n",
      "Epoch 41/50\n",
      "569/569 [==============================] - 4s 7ms/step - loss: 0.0690 - dice_coef: 0.8713 - val_loss: 0.0936 - val_dice_coef: 0.8726\n",
      "\n",
      "Epoch 00041: val_loss did not improve from 0.09153\n",
      "Epoch 42/50\n",
      "569/569 [==============================] - 4s 7ms/step - loss: 0.0690 - dice_coef: 0.8691 - val_loss: 0.0935 - val_dice_coef: 0.8729\n",
      "\n",
      "Epoch 00042: val_loss did not improve from 0.09153\n",
      "Epoch 43/50\n",
      "569/569 [==============================] - 4s 6ms/step - loss: 0.0690 - dice_coef: 0.8699 - val_loss: 0.0929 - val_dice_coef: 0.8732\n",
      "\n",
      "Epoch 00043: val_loss did not improve from 0.09153\n",
      "Epoch 44/50\n",
      "569/569 [==============================] - 4s 6ms/step - loss: 0.0689 - dice_coef: 0.8705 - val_loss: 0.0941 - val_dice_coef: 0.8730\n",
      "\n",
      "Epoch 00044: val_loss did not improve from 0.09153\n",
      "Epoch 00044: early stopping\n"
     ]
    },
    {
     "data": {
      "text/plain": [
       "<keras.callbacks.callbacks.History at 0x7f20cba68dd0>"
      ]
     },
     "execution_count": 44,
     "metadata": {},
     "output_type": "execute_result"
    }
   ],
   "source": [
    "unet_elu_call.fit(X_train, y_train, batch_size=16, epochs=50, \n",
    "                  validation_data=(X_valid, y_valid), callbacks=callbacks_new)"
   ]
  },
  {
   "cell_type": "markdown",
   "execution_count": null,
   "metadata": {},
   "source": [
    "#### Sigmoid activation"
   ]
  },
  {
   "cell_type": "code",
   "execution_count": 45,
   "metadata": {},
   "outputs": [],
   "source": [
    "# get u_net model\n",
    "unet_sigmoid = unet_model(activation=\"sigmoid\")"
   ]
  },
  {
   "cell_type": "code",
   "execution_count": 46,
   "metadata": {},
   "outputs": [
    {
     "name": "stdout",
     "output_type": "stream",
     "text": [
      "\n",
      "Training...\n",
      "Epoch 1/50\n",
      "569/569 [==============================] - 5s 9ms/step - loss: 0.4450 - dice_coef: 0.1549\n",
      "Epoch 2/50\n",
      "569/569 [==============================] - 4s 6ms/step - loss: 0.4324 - dice_coef: 0.1565\n",
      "Epoch 3/50\n",
      "569/569 [==============================] - 4s 6ms/step - loss: 0.4307 - dice_coef: 0.1551\n",
      "Epoch 4/50\n",
      "569/569 [==============================] - 3s 6ms/step - loss: 0.4192 - dice_coef: 0.1676\n",
      "Epoch 5/50\n",
      "569/569 [==============================] - 4s 6ms/step - loss: 0.3758 - dice_coef: 0.2330\n",
      "Epoch 6/50\n",
      "569/569 [==============================] - 4s 6ms/step - loss: 0.3428 - dice_coef: 0.2918\n",
      "Epoch 7/50\n",
      "569/569 [==============================] - 4s 6ms/step - loss: 0.3303 - dice_coef: 0.3127\n",
      "Epoch 8/50\n",
      "569/569 [==============================] - 4s 6ms/step - loss: 0.3231 - dice_coef: 0.3285\n",
      "Epoch 9/50\n",
      "569/569 [==============================] - 4s 6ms/step - loss: 0.3188 - dice_coef: 0.3313\n",
      "Epoch 10/50\n",
      "569/569 [==============================] - 4s 6ms/step - loss: 0.3131 - dice_coef: 0.3437\n",
      "Epoch 11/50\n",
      "569/569 [==============================] - 4s 6ms/step - loss: 0.3045 - dice_coef: 0.3526\n",
      "Epoch 12/50\n",
      "569/569 [==============================] - 4s 6ms/step - loss: 0.2945 - dice_coef: 0.3805\n",
      "Epoch 13/50\n",
      "569/569 [==============================] - 4s 6ms/step - loss: 0.2802 - dice_coef: 0.4072\n",
      "Epoch 14/50\n",
      "569/569 [==============================] - 3s 6ms/step - loss: 0.2650 - dice_coef: 0.4453\n",
      "Epoch 15/50\n",
      "569/569 [==============================] - 4s 6ms/step - loss: 0.2502 - dice_coef: 0.4782\n",
      "Epoch 16/50\n",
      "569/569 [==============================] - 3s 6ms/step - loss: 0.2346 - dice_coef: 0.5173\n",
      "Epoch 17/50\n",
      "569/569 [==============================] - 4s 6ms/step - loss: 0.2303 - dice_coef: 0.5392\n",
      "Epoch 18/50\n",
      "569/569 [==============================] - 4s 6ms/step - loss: 0.2231 - dice_coef: 0.5610\n",
      "Epoch 19/50\n",
      "569/569 [==============================] - 4s 6ms/step - loss: 0.2175 - dice_coef: 0.5776\n",
      "Epoch 20/50\n",
      "569/569 [==============================] - 4s 6ms/step - loss: 0.2168 - dice_coef: 0.5849\n",
      "Epoch 21/50\n",
      "569/569 [==============================] - 4s 6ms/step - loss: 0.2180 - dice_coef: 0.5907\n",
      "Epoch 22/50\n",
      "569/569 [==============================] - 4s 6ms/step - loss: 0.2191 - dice_coef: 0.5901\n",
      "Epoch 23/50\n",
      "569/569 [==============================] - 3s 6ms/step - loss: 0.2127 - dice_coef: 0.5964\n",
      "Epoch 24/50\n",
      "569/569 [==============================] - 4s 6ms/step - loss: 0.2125 - dice_coef: 0.6045\n",
      "Epoch 25/50\n",
      "569/569 [==============================] - 3s 6ms/step - loss: 0.2119 - dice_coef: 0.6020\n",
      "Epoch 26/50\n",
      "569/569 [==============================] - 4s 6ms/step - loss: 0.2143 - dice_coef: 0.6006\n",
      "Epoch 27/50\n",
      "569/569 [==============================] - 4s 6ms/step - loss: 0.2092 - dice_coef: 0.6088\n",
      "Epoch 28/50\n",
      "569/569 [==============================] - 4s 6ms/step - loss: 0.2089 - dice_coef: 0.6085\n",
      "Epoch 29/50\n",
      "569/569 [==============================] - 4s 6ms/step - loss: 0.2088 - dice_coef: 0.6100\n",
      "Epoch 30/50\n",
      "569/569 [==============================] - 4s 6ms/step - loss: 0.2100 - dice_coef: 0.6082\n",
      "Epoch 31/50\n",
      "569/569 [==============================] - 3s 6ms/step - loss: 0.2102 - dice_coef: 0.6127\n",
      "Epoch 32/50\n",
      "569/569 [==============================] - 4s 6ms/step - loss: 0.2099 - dice_coef: 0.6078\n",
      "Epoch 33/50\n",
      "569/569 [==============================] - 4s 6ms/step - loss: 0.2109 - dice_coef: 0.6103\n",
      "Epoch 34/50\n",
      "569/569 [==============================] - 4s 6ms/step - loss: 0.2081 - dice_coef: 0.6090\n",
      "Epoch 35/50\n",
      "569/569 [==============================] - 4s 6ms/step - loss: 0.2073 - dice_coef: 0.6141\n",
      "Epoch 36/50\n",
      "569/569 [==============================] - 4s 6ms/step - loss: 0.2087 - dice_coef: 0.6098\n",
      "Epoch 37/50\n",
      "569/569 [==============================] - 4s 6ms/step - loss: 0.2097 - dice_coef: 0.6131\n",
      "Epoch 38/50\n",
      "569/569 [==============================] - 4s 6ms/step - loss: 0.2081 - dice_coef: 0.6147\n",
      "Epoch 39/50\n",
      "569/569 [==============================] - 4s 6ms/step - loss: 0.2061 - dice_coef: 0.6119\n",
      "Epoch 40/50\n",
      "569/569 [==============================] - 4s 6ms/step - loss: 0.2070 - dice_coef: 0.6149\n",
      "Epoch 41/50\n",
      "569/569 [==============================] - 4s 6ms/step - loss: 0.2073 - dice_coef: 0.6150\n",
      "Epoch 42/50\n",
      "569/569 [==============================] - 4s 6ms/step - loss: 0.2058 - dice_coef: 0.6184\n",
      "Epoch 43/50\n",
      "569/569 [==============================] - 4s 6ms/step - loss: 0.2046 - dice_coef: 0.6158\n",
      "Epoch 44/50\n",
      "569/569 [==============================] - 3s 6ms/step - loss: 0.2048 - dice_coef: 0.6170\n",
      "Epoch 45/50\n",
      "569/569 [==============================] - 4s 6ms/step - loss: 0.2046 - dice_coef: 0.6166\n",
      "Epoch 46/50\n",
      "569/569 [==============================] - 4s 6ms/step - loss: 0.2053 - dice_coef: 0.6160\n",
      "Epoch 47/50\n",
      "569/569 [==============================] - 4s 6ms/step - loss: 0.2038 - dice_coef: 0.6172\n",
      "Epoch 48/50\n",
      "569/569 [==============================] - 4s 6ms/step - loss: 0.2058 - dice_coef: 0.6157\n",
      "Epoch 49/50\n",
      "569/569 [==============================] - 3s 6ms/step - loss: 0.2028 - dice_coef: 0.6197\n",
      "Epoch 50/50\n",
      "569/569 [==============================] - 4s 6ms/step - loss: 0.2030 - dice_coef: 0.6158\n"
     ]
    },
    {
     "data": {
      "text/plain": [
       "<keras.callbacks.callbacks.History at 0x7f20cb4e1490>"
      ]
     },
     "execution_count": 46,
     "metadata": {},
     "output_type": "execute_result"
    }
   ],
   "source": [
    "print(\"\\nTraining...\")\n",
    "unet_sigmoid.fit(X_train, y_train, batch_size=16, epochs=50)"
   ]
  },
  {
   "cell_type": "code",
   "execution_count": 47,
   "metadata": {},
   "outputs": [
    {
     "name": "stdout",
     "output_type": "stream",
     "text": [
      "101/101 [==============================] - 0s 4ms/step\n"
     ]
    },
    {
     "data": {
      "text/plain": [
       "[0.216566130371377, 0.6427573561668396]"
      ]
     },
     "execution_count": 47,
     "metadata": {},
     "output_type": "execute_result"
    }
   ],
   "source": [
    "unet_sigmoid.evaluate(X_valid,y_valid, verbose=1)"
   ]
  },
  {
   "cell_type": "markdown",
   "execution_count": null,
   "metadata": {},
   "source": [
    "Best accuracy is obtained using elu activation function\n",
    "\n",
    "Now let's test different dropout values"
   ]
  },
  {
   "cell_type": "code",
   "execution_count": 48,
   "metadata": {},
   "outputs": [
    {
     "name": "stdout",
     "output_type": "stream",
     "text": [
      "\n",
      "Training...\n",
      "Epoch 1/50\n",
      "569/569 [==============================] - 5s 9ms/step - loss: 0.3904 - dice_coef: 0.2967\n",
      "Epoch 2/50\n",
      "569/569 [==============================] - 3s 6ms/step - loss: 0.1968 - dice_coef: 0.6303\n",
      "Epoch 3/50\n",
      "569/569 [==============================] - 3s 6ms/step - loss: 0.1455 - dice_coef: 0.7346\n",
      "Epoch 4/50\n",
      "569/569 [==============================] - 4s 6ms/step - loss: 0.1190 - dice_coef: 0.7752\n",
      "Epoch 5/50\n",
      "569/569 [==============================] - 3s 6ms/step - loss: 0.1070 - dice_coef: 0.8081\n",
      "Epoch 6/50\n",
      "569/569 [==============================] - 3s 6ms/step - loss: 0.1084 - dice_coef: 0.7995\n",
      "Epoch 7/50\n",
      "569/569 [==============================] - 4s 6ms/step - loss: 0.0937 - dice_coef: 0.8286\n",
      "Epoch 8/50\n",
      "569/569 [==============================] - 3s 6ms/step - loss: 0.0864 - dice_coef: 0.8410\n",
      "Epoch 9/50\n",
      "569/569 [==============================] - 4s 6ms/step - loss: 0.0849 - dice_coef: 0.8417\n",
      "Epoch 10/50\n",
      "569/569 [==============================] - 4s 6ms/step - loss: 0.0826 - dice_coef: 0.8459\n",
      "Epoch 11/50\n",
      "569/569 [==============================] - 4s 6ms/step - loss: 0.0822 - dice_coef: 0.8479\n",
      "Epoch 12/50\n",
      "569/569 [==============================] - 3s 6ms/step - loss: 0.0788 - dice_coef: 0.8520\n",
      "Epoch 13/50\n",
      "569/569 [==============================] - 4s 6ms/step - loss: 0.0775 - dice_coef: 0.8544\n",
      "Epoch 14/50\n",
      "569/569 [==============================] - 3s 6ms/step - loss: 0.0746 - dice_coef: 0.8600\n",
      "Epoch 15/50\n",
      "569/569 [==============================] - 3s 6ms/step - loss: 0.0748 - dice_coef: 0.8609\n",
      "Epoch 16/50\n",
      "569/569 [==============================] - 3s 6ms/step - loss: 0.0741 - dice_coef: 0.8611\n",
      "Epoch 17/50\n",
      "569/569 [==============================] - 3s 6ms/step - loss: 0.0734 - dice_coef: 0.8634\n",
      "Epoch 18/50\n",
      "569/569 [==============================] - 3s 6ms/step - loss: 0.0730 - dice_coef: 0.8609\n",
      "Epoch 19/50\n",
      "569/569 [==============================] - 4s 6ms/step - loss: 0.0719 - dice_coef: 0.8657\n",
      "Epoch 20/50\n",
      "569/569 [==============================] - 4s 6ms/step - loss: 0.0769 - dice_coef: 0.8574\n",
      "Epoch 21/50\n",
      "569/569 [==============================] - 3s 6ms/step - loss: 0.0723 - dice_coef: 0.8637\n",
      "Epoch 22/50\n",
      "569/569 [==============================] - 3s 6ms/step - loss: 0.0705 - dice_coef: 0.8671\n",
      "Epoch 23/50\n",
      "569/569 [==============================] - 3s 6ms/step - loss: 0.0691 - dice_coef: 0.8676\n",
      "Epoch 24/50\n",
      "569/569 [==============================] - 3s 6ms/step - loss: 0.0683 - dice_coef: 0.8702\n",
      "Epoch 25/50\n",
      "569/569 [==============================] - 3s 6ms/step - loss: 0.0681 - dice_coef: 0.8714\n",
      "Epoch 26/50\n",
      "569/569 [==============================] - 3s 6ms/step - loss: 0.0687 - dice_coef: 0.8710\n",
      "Epoch 27/50\n",
      "569/569 [==============================] - 3s 6ms/step - loss: 0.0668 - dice_coef: 0.8745\n",
      "Epoch 28/50\n",
      "569/569 [==============================] - 4s 6ms/step - loss: 0.0665 - dice_coef: 0.8740\n",
      "Epoch 29/50\n",
      "569/569 [==============================] - 4s 6ms/step - loss: 0.0660 - dice_coef: 0.8762\n",
      "Epoch 30/50\n",
      "569/569 [==============================] - 4s 6ms/step - loss: 0.0657 - dice_coef: 0.8755\n",
      "Epoch 31/50\n",
      "569/569 [==============================] - 3s 6ms/step - loss: 0.0657 - dice_coef: 0.8751\n",
      "Epoch 32/50\n",
      "569/569 [==============================] - 4s 6ms/step - loss: 0.0656 - dice_coef: 0.8750\n",
      "Epoch 33/50\n",
      "569/569 [==============================] - 3s 6ms/step - loss: 0.0621 - dice_coef: 0.8810\n",
      "Epoch 34/50\n",
      "569/569 [==============================] - 3s 6ms/step - loss: 0.0636 - dice_coef: 0.8799\n",
      "Epoch 35/50\n",
      "569/569 [==============================] - 4s 6ms/step - loss: 0.0642 - dice_coef: 0.8804\n",
      "Epoch 36/50\n",
      "569/569 [==============================] - 3s 6ms/step - loss: 0.0648 - dice_coef: 0.8765\n",
      "Epoch 37/50\n",
      "569/569 [==============================] - 3s 6ms/step - loss: 0.0651 - dice_coef: 0.8757\n",
      "Epoch 38/50\n",
      "569/569 [==============================] - 4s 6ms/step - loss: 0.0624 - dice_coef: 0.8819\n",
      "Epoch 39/50\n",
      "569/569 [==============================] - 3s 6ms/step - loss: 0.0611 - dice_coef: 0.8833\n",
      "Epoch 40/50\n",
      "569/569 [==============================] - 3s 6ms/step - loss: 0.0599 - dice_coef: 0.8852\n",
      "Epoch 41/50\n",
      "569/569 [==============================] - 3s 6ms/step - loss: 0.0592 - dice_coef: 0.8886\n",
      "Epoch 42/50\n",
      "569/569 [==============================] - 3s 6ms/step - loss: 0.0580 - dice_coef: 0.8894\n",
      "Epoch 43/50\n",
      "569/569 [==============================] - 3s 6ms/step - loss: 0.0594 - dice_coef: 0.8862\n",
      "Epoch 44/50\n",
      "569/569 [==============================] - 3s 6ms/step - loss: 0.0569 - dice_coef: 0.8912\n",
      "Epoch 45/50\n",
      "569/569 [==============================] - 4s 6ms/step - loss: 0.0565 - dice_coef: 0.8907\n",
      "Epoch 46/50\n",
      "569/569 [==============================] - 4s 6ms/step - loss: 0.0557 - dice_coef: 0.8937\n",
      "Epoch 47/50\n",
      "569/569 [==============================] - 4s 6ms/step - loss: 0.0532 - dice_coef: 0.8976\n",
      "Epoch 48/50\n",
      "569/569 [==============================] - 4s 6ms/step - loss: 0.0512 - dice_coef: 0.9013\n",
      "Epoch 49/50\n",
      "569/569 [==============================] - 3s 6ms/step - loss: 0.0525 - dice_coef: 0.8987\n",
      "Epoch 50/50\n",
      "569/569 [==============================] - 3s 6ms/step - loss: 0.0519 - dice_coef: 0.8997\n"
     ]
    },
    {
     "data": {
      "text/plain": [
       "<keras.callbacks.callbacks.History at 0x7f20ca946a50>"
      ]
     },
     "execution_count": 48,
     "metadata": {},
     "output_type": "execute_result"
    }
   ],
   "source": [
    "# get u_net model\n",
    "unet_elu_02_dropout = unet_model(activation=\"elu\", dropout=0.2)\n",
    "\n",
    "print(\"\\nTraining...\")\n",
    "unet_elu_02_dropout.fit(X_train, y_train, batch_size=16, epochs=50)"
   ]
  },
  {
   "cell_type": "code",
   "execution_count": 49,
   "metadata": {},
   "outputs": [],
   "source": [
    "# get u_net model\n",
    "unet_elu_015_dropout = unet_model(activation=\"elu\", dropout=0.15)"
   ]
  },
  {
   "cell_type": "code",
   "execution_count": 50,
   "metadata": {},
   "outputs": [
    {
     "name": "stdout",
     "output_type": "stream",
     "text": [
      "\n",
      "Training...\n",
      "Epoch 1/50\n",
      "569/569 [==============================] - 5s 9ms/step - loss: 0.2886 - dice_coef: 0.4801\n",
      "Epoch 2/50\n",
      "569/569 [==============================] - 4s 6ms/step - loss: 0.1369 - dice_coef: 0.7447\n",
      "Epoch 3/50\n",
      "569/569 [==============================] - 4s 6ms/step - loss: 0.1203 - dice_coef: 0.7775\n",
      "Epoch 4/50\n",
      "569/569 [==============================] - 4s 6ms/step - loss: 0.1113 - dice_coef: 0.7938\n",
      "Epoch 5/50\n",
      "569/569 [==============================] - 4s 6ms/step - loss: 0.1032 - dice_coef: 0.8125\n",
      "Epoch 6/50\n",
      "569/569 [==============================] - 4s 6ms/step - loss: 0.0968 - dice_coef: 0.8237\n",
      "Epoch 7/50\n",
      "569/569 [==============================] - 4s 6ms/step - loss: 0.1378 - dice_coef: 0.7574\n",
      "Epoch 8/50\n",
      "569/569 [==============================] - 4s 6ms/step - loss: 0.1014 - dice_coef: 0.8156\n",
      "Epoch 9/50\n",
      "569/569 [==============================] - 4s 6ms/step - loss: 0.0937 - dice_coef: 0.8293\n",
      "Epoch 10/50\n",
      "569/569 [==============================] - 4s 6ms/step - loss: 0.0980 - dice_coef: 0.8202\n",
      "Epoch 11/50\n",
      "569/569 [==============================] - 4s 6ms/step - loss: 0.0887 - dice_coef: 0.8378\n",
      "Epoch 12/50\n",
      "569/569 [==============================] - 4s 6ms/step - loss: 0.0842 - dice_coef: 0.8456\n",
      "Epoch 13/50\n",
      "569/569 [==============================] - 4s 6ms/step - loss: 0.0796 - dice_coef: 0.8528\n",
      "Epoch 14/50\n",
      "569/569 [==============================] - 4s 6ms/step - loss: 0.0808 - dice_coef: 0.8561\n",
      "Epoch 15/50\n",
      "569/569 [==============================] - 4s 6ms/step - loss: 0.0818 - dice_coef: 0.8483\n",
      "Epoch 16/50\n",
      "569/569 [==============================] - 4s 6ms/step - loss: 0.0766 - dice_coef: 0.8545\n",
      "Epoch 17/50\n",
      "569/569 [==============================] - 4s 6ms/step - loss: 0.0760 - dice_coef: 0.8594\n",
      "Epoch 18/50\n",
      "569/569 [==============================] - 4s 6ms/step - loss: 0.0764 - dice_coef: 0.8608\n",
      "Epoch 19/50\n",
      "569/569 [==============================] - 4s 6ms/step - loss: 0.0744 - dice_coef: 0.8613\n",
      "Epoch 20/50\n",
      "569/569 [==============================] - 4s 6ms/step - loss: 0.0721 - dice_coef: 0.8657\n",
      "Epoch 21/50\n",
      "569/569 [==============================] - 4s 6ms/step - loss: 0.0718 - dice_coef: 0.8654\n",
      "Epoch 22/50\n",
      "569/569 [==============================] - 4s 6ms/step - loss: 0.0720 - dice_coef: 0.8656\n",
      "Epoch 23/50\n",
      "569/569 [==============================] - 4s 6ms/step - loss: 0.0695 - dice_coef: 0.8715\n",
      "Epoch 24/50\n",
      "569/569 [==============================] - 4s 6ms/step - loss: 0.0700 - dice_coef: 0.8673\n",
      "Epoch 25/50\n",
      "569/569 [==============================] - 4s 6ms/step - loss: 0.0712 - dice_coef: 0.8667\n",
      "Epoch 26/50\n",
      "569/569 [==============================] - 4s 6ms/step - loss: 0.0693 - dice_coef: 0.8701\n",
      "Epoch 27/50\n",
      "569/569 [==============================] - 4s 6ms/step - loss: 0.0699 - dice_coef: 0.8678\n",
      "Epoch 28/50\n",
      "569/569 [==============================] - 4s 6ms/step - loss: 0.0694 - dice_coef: 0.8709\n",
      "Epoch 29/50\n",
      "569/569 [==============================] - 4s 6ms/step - loss: 0.0687 - dice_coef: 0.8708\n",
      "Epoch 30/50\n",
      "569/569 [==============================] - 4s 6ms/step - loss: 0.0699 - dice_coef: 0.8680\n",
      "Epoch 31/50\n",
      "569/569 [==============================] - 4s 6ms/step - loss: 0.0673 - dice_coef: 0.8745\n",
      "Epoch 32/50\n",
      "569/569 [==============================] - 4s 6ms/step - loss: 0.0670 - dice_coef: 0.8729\n",
      "Epoch 33/50\n",
      "569/569 [==============================] - 4s 6ms/step - loss: 0.0673 - dice_coef: 0.8756\n",
      "Epoch 34/50\n",
      "569/569 [==============================] - 4s 6ms/step - loss: 0.0661 - dice_coef: 0.8755\n",
      "Epoch 35/50\n",
      "569/569 [==============================] - 4s 6ms/step - loss: 0.0670 - dice_coef: 0.8750\n",
      "Epoch 36/50\n",
      "569/569 [==============================] - 4s 6ms/step - loss: 0.0675 - dice_coef: 0.8715\n",
      "Epoch 37/50\n",
      "569/569 [==============================] - 4s 6ms/step - loss: 0.0654 - dice_coef: 0.8734\n",
      "Epoch 38/50\n",
      "569/569 [==============================] - 4s 6ms/step - loss: 0.0634 - dice_coef: 0.8795\n",
      "Epoch 39/50\n",
      "569/569 [==============================] - 4s 6ms/step - loss: 0.0637 - dice_coef: 0.8800\n",
      "Epoch 40/50\n",
      "569/569 [==============================] - 4s 6ms/step - loss: 0.0630 - dice_coef: 0.8813\n",
      "Epoch 41/50\n",
      "569/569 [==============================] - 4s 6ms/step - loss: 0.0644 - dice_coef: 0.8783\n",
      "Epoch 42/50\n",
      "569/569 [==============================] - 4s 6ms/step - loss: 0.0642 - dice_coef: 0.8788\n",
      "Epoch 43/50\n",
      "569/569 [==============================] - 4s 6ms/step - loss: 0.0644 - dice_coef: 0.8793\n",
      "Epoch 44/50\n",
      "569/569 [==============================] - 4s 6ms/step - loss: 0.0620 - dice_coef: 0.8825\n",
      "Epoch 45/50\n",
      "569/569 [==============================] - 4s 6ms/step - loss: 0.0623 - dice_coef: 0.8822\n",
      "Epoch 46/50\n",
      "569/569 [==============================] - 4s 6ms/step - loss: 0.0616 - dice_coef: 0.8846\n",
      "Epoch 47/50\n",
      "569/569 [==============================] - 4s 6ms/step - loss: 0.0624 - dice_coef: 0.8824\n",
      "Epoch 48/50\n",
      "569/569 [==============================] - 4s 6ms/step - loss: 0.0633 - dice_coef: 0.8786\n",
      "Epoch 49/50\n",
      "569/569 [==============================] - 4s 6ms/step - loss: 0.0611 - dice_coef: 0.8846\n",
      "Epoch 50/50\n",
      "569/569 [==============================] - 4s 6ms/step - loss: 0.0587 - dice_coef: 0.8909\n"
     ]
    },
    {
     "data": {
      "text/plain": [
       "<keras.callbacks.callbacks.History at 0x7f20ca3b5390>"
      ]
     },
     "execution_count": 50,
     "metadata": {},
     "output_type": "execute_result"
    }
   ],
   "source": [
    "print(\"\\nTraining...\")\n",
    "unet_elu_015_dropout.fit(X_train, y_train, batch_size=16, epochs=50)"
   ]
  },
  {
   "cell_type": "code",
   "execution_count": 51,
   "metadata": {},
   "outputs": [
    {
     "name": "stdout",
     "output_type": "stream",
     "text": [
      "101/101 [==============================] - 0s 5ms/step\n"
     ]
    },
    {
     "data": {
      "text/plain": [
       "[0.08449199945103414, 0.8813892602920532]"
      ]
     },
     "execution_count": 51,
     "metadata": {},
     "output_type": "execute_result"
    }
   ],
   "source": [
    "unet_elu_015_dropout.evaluate(X_valid,y_valid, verbose=1)"
   ]
  },
  {
   "cell_type": "markdown",
   "execution_count": null,
   "metadata": {},
   "source": [
    "**Trying another activation functions**"
   ]
  },
  {
   "cell_type": "code",
   "execution_count": 52,
   "metadata": {},
   "outputs": [],
   "source": [
    "# get u_net model\n",
    "unet_selu_015_dropout = unet_model(activation=\"selu\", dropout=0.15)"
   ]
  },
  {
   "cell_type": "code",
   "execution_count": 53,
   "metadata": {},
   "outputs": [
    {
     "name": "stdout",
     "output_type": "stream",
     "text": [
      "\n",
      "Training...\n",
      "Epoch 1/50\n",
      "569/569 [==============================] - 7s 12ms/step - loss: 0.4079 - dice_coef: 0.4370\n",
      "Epoch 2/50\n",
      "569/569 [==============================] - 5s 10ms/step - loss: 0.1603 - dice_coef: 0.7176\n",
      "Epoch 3/50\n",
      "569/569 [==============================] - 5s 10ms/step - loss: 0.1671 - dice_coef: 0.7009\n",
      "Epoch 4/50\n",
      "569/569 [==============================] - 5s 10ms/step - loss: 0.1255 - dice_coef: 0.7785\n",
      "Epoch 5/50\n",
      "569/569 [==============================] - 5s 10ms/step - loss: 0.1099 - dice_coef: 0.8037\n",
      "Epoch 6/50\n",
      "569/569 [==============================] - 6s 10ms/step - loss: 0.1019 - dice_coef: 0.8184\n",
      "Epoch 7/50\n",
      "569/569 [==============================] - 5s 10ms/step - loss: 0.0956 - dice_coef: 0.8253\n",
      "Epoch 8/50\n",
      "569/569 [==============================] - 5s 10ms/step - loss: 0.0944 - dice_coef: 0.8354\n",
      "Epoch 9/50\n",
      "569/569 [==============================] - 5s 10ms/step - loss: 0.0912 - dice_coef: 0.8400\n",
      "Epoch 10/50\n",
      "569/569 [==============================] - 5s 10ms/step - loss: 0.0870 - dice_coef: 0.8417\n",
      "Epoch 11/50\n",
      "569/569 [==============================] - 5s 10ms/step - loss: 0.0845 - dice_coef: 0.8490\n",
      "Epoch 12/50\n",
      "569/569 [==============================] - 5s 10ms/step - loss: 0.0850 - dice_coef: 0.8440\n",
      "Epoch 13/50\n",
      "569/569 [==============================] - 5s 10ms/step - loss: 0.0827 - dice_coef: 0.8523\n",
      "Epoch 14/50\n",
      "569/569 [==============================] - 5s 10ms/step - loss: 0.0818 - dice_coef: 0.8518\n",
      "Epoch 15/50\n",
      "569/569 [==============================] - 5s 10ms/step - loss: 0.0771 - dice_coef: 0.8596\n",
      "Epoch 16/50\n",
      "569/569 [==============================] - 5s 10ms/step - loss: 0.0759 - dice_coef: 0.8600\n",
      "Epoch 17/50\n",
      "569/569 [==============================] - 6s 10ms/step - loss: 0.0742 - dice_coef: 0.8664\n",
      "Epoch 18/50\n",
      "569/569 [==============================] - 6s 10ms/step - loss: 0.0745 - dice_coef: 0.8636\n",
      "Epoch 19/50\n",
      "569/569 [==============================] - 5s 10ms/step - loss: 0.0745 - dice_coef: 0.8626\n",
      "Epoch 20/50\n",
      "569/569 [==============================] - 5s 10ms/step - loss: 0.0718 - dice_coef: 0.8704\n",
      "Epoch 21/50\n",
      "569/569 [==============================] - 5s 10ms/step - loss: 0.0714 - dice_coef: 0.8673\n",
      "Epoch 22/50\n",
      "569/569 [==============================] - 5s 10ms/step - loss: 0.0696 - dice_coef: 0.8684\n",
      "Epoch 23/50\n",
      "569/569 [==============================] - 5s 10ms/step - loss: 0.0689 - dice_coef: 0.8727\n",
      "Epoch 24/50\n",
      "569/569 [==============================] - 5s 10ms/step - loss: 0.0686 - dice_coef: 0.8741\n",
      "Epoch 25/50\n",
      "569/569 [==============================] - 5s 10ms/step - loss: 0.0690 - dice_coef: 0.8688\n",
      "Epoch 26/50\n",
      "569/569 [==============================] - 5s 10ms/step - loss: 0.0682 - dice_coef: 0.8715\n",
      "Epoch 27/50\n",
      "569/569 [==============================] - 5s 10ms/step - loss: 0.0675 - dice_coef: 0.8751\n",
      "Epoch 28/50\n",
      "569/569 [==============================] - 5s 10ms/step - loss: 0.0667 - dice_coef: 0.8770\n",
      "Epoch 29/50\n",
      "569/569 [==============================] - 6s 10ms/step - loss: 0.0658 - dice_coef: 0.8757\n",
      "Epoch 30/50\n",
      "569/569 [==============================] - 5s 10ms/step - loss: 0.0657 - dice_coef: 0.8768\n",
      "Epoch 31/50\n",
      "569/569 [==============================] - 5s 10ms/step - loss: 0.0653 - dice_coef: 0.8775\n",
      "Epoch 32/50\n",
      "569/569 [==============================] - 5s 10ms/step - loss: 0.0654 - dice_coef: 0.8768\n",
      "Epoch 33/50\n",
      "569/569 [==============================] - 5s 10ms/step - loss: 0.0631 - dice_coef: 0.8817\n",
      "Epoch 34/50\n",
      "569/569 [==============================] - 5s 10ms/step - loss: 0.0641 - dice_coef: 0.8801\n",
      "Epoch 35/50\n",
      "569/569 [==============================] - 5s 10ms/step - loss: 0.0739 - dice_coef: 0.8636\n",
      "Epoch 36/50\n",
      "569/569 [==============================] - 5s 10ms/step - loss: 0.0696 - dice_coef: 0.8741\n",
      "Epoch 37/50\n",
      "569/569 [==============================] - 5s 10ms/step - loss: 0.0640 - dice_coef: 0.8800\n",
      "Epoch 38/50\n",
      "569/569 [==============================] - 5s 10ms/step - loss: 0.0666 - dice_coef: 0.8723\n",
      "Epoch 39/50\n",
      "569/569 [==============================] - 6s 10ms/step - loss: 0.0656 - dice_coef: 0.8766\n",
      "Epoch 40/50\n",
      "569/569 [==============================] - 6s 10ms/step - loss: 0.0638 - dice_coef: 0.8765\n",
      "Epoch 41/50\n",
      "569/569 [==============================] - 5s 10ms/step - loss: 0.0678 - dice_coef: 0.8745\n",
      "Epoch 42/50\n",
      "569/569 [==============================] - 5s 10ms/step - loss: 0.0649 - dice_coef: 0.8771\n",
      "Epoch 43/50\n",
      "569/569 [==============================] - 5s 10ms/step - loss: 0.0636 - dice_coef: 0.8797\n",
      "Epoch 44/50\n",
      "569/569 [==============================] - 5s 10ms/step - loss: 0.0635 - dice_coef: 0.8807\n",
      "Epoch 45/50\n",
      "569/569 [==============================] - 5s 10ms/step - loss: 0.0609 - dice_coef: 0.8849\n",
      "Epoch 46/50\n",
      "569/569 [==============================] - 5s 10ms/step - loss: 0.0611 - dice_coef: 0.8831\n",
      "Epoch 47/50\n",
      "569/569 [==============================] - 5s 10ms/step - loss: 0.0609 - dice_coef: 0.8849\n",
      "Epoch 48/50\n",
      "569/569 [==============================] - 5s 10ms/step - loss: 0.0598 - dice_coef: 0.8866\n",
      "Epoch 49/50\n",
      "569/569 [==============================] - 5s 10ms/step - loss: 0.0577 - dice_coef: 0.8911\n",
      "Epoch 50/50\n",
      "569/569 [==============================] - 5s 10ms/step - loss: 0.0587 - dice_coef: 0.8875\n"
     ]
    },
    {
     "data": {
      "text/plain": [
       "<keras.callbacks.callbacks.History at 0x7f20c92dde90>"
      ]
     },
     "execution_count": 53,
     "metadata": {},
     "output_type": "execute_result"
    }
   ],
   "source": [
    "print(\"\\nTraining...\")\n",
    "unet_selu_015_dropout.fit(X_train, y_train, batch_size=16, epochs=50)"
   ]
  },
  {
   "cell_type": "markdown",
   "execution_count": null,
   "metadata": {},
   "source": [
    "**Adding learning rate change over time**"
   ]
  },
  {
   "cell_type": "code",
   "execution_count": 54,
   "metadata": {},
   "outputs": [],
   "source": [
    "callbacks2 = [\n",
    "    ReduceLROnPlateau(monitor='loss', factor=0.1, patience=3, min_lr=0.000001, verbose=1),\n",
    "]"
   ]
  },
  {
   "cell_type": "code",
   "execution_count": 55,
   "metadata": {},
   "outputs": [],
   "source": [
    "# get u_net model\n",
    "unet_elu_015_dropout_cbs = unet_model(activation=\"elu\", dropout=0.15)"
   ]
  },
  {
   "cell_type": "code",
   "execution_count": 56,
   "metadata": {},
   "outputs": [
    {
     "name": "stdout",
     "output_type": "stream",
     "text": [
      "Epoch 1/50\n",
      "569/569 [==============================] - 5s 9ms/step - loss: 0.4202 - dice_coef: 0.2593\n",
      "Epoch 2/50\n",
      "569/569 [==============================] - 3s 6ms/step - loss: 0.1934 - dice_coef: 0.6244\n",
      "Epoch 3/50\n",
      "569/569 [==============================] - 3s 6ms/step - loss: 0.1480 - dice_coef: 0.7169\n",
      "Epoch 4/50\n",
      "569/569 [==============================] - 3s 6ms/step - loss: 0.1189 - dice_coef: 0.7789\n",
      "Epoch 5/50\n",
      "569/569 [==============================] - 4s 6ms/step - loss: 0.1059 - dice_coef: 0.8017\n",
      "Epoch 6/50\n",
      "569/569 [==============================] - 3s 6ms/step - loss: 0.1005 - dice_coef: 0.8121\n",
      "Epoch 7/50\n",
      "569/569 [==============================] - 3s 6ms/step - loss: 0.0945 - dice_coef: 0.8261\n",
      "Epoch 8/50\n",
      "569/569 [==============================] - 3s 6ms/step - loss: 0.0938 - dice_coef: 0.8274\n",
      "Epoch 9/50\n",
      "569/569 [==============================] - 3s 6ms/step - loss: 0.0859 - dice_coef: 0.8424\n",
      "Epoch 10/50\n",
      "569/569 [==============================] - 3s 6ms/step - loss: 0.0826 - dice_coef: 0.8483\n",
      "Epoch 11/50\n",
      "569/569 [==============================] - 3s 6ms/step - loss: 0.0806 - dice_coef: 0.8513\n",
      "Epoch 12/50\n",
      "569/569 [==============================] - 3s 6ms/step - loss: 0.0762 - dice_coef: 0.8601\n",
      "Epoch 13/50\n",
      "569/569 [==============================] - 3s 6ms/step - loss: 0.0751 - dice_coef: 0.8607\n",
      "Epoch 14/50\n",
      "569/569 [==============================] - 3s 6ms/step - loss: 0.0763 - dice_coef: 0.8609\n",
      "Epoch 15/50\n",
      "569/569 [==============================] - 4s 6ms/step - loss: 0.0798 - dice_coef: 0.8544\n",
      "Epoch 16/50\n",
      "569/569 [==============================] - 3s 6ms/step - loss: 0.0754 - dice_coef: 0.8590\n",
      "\n",
      "Epoch 00016: ReduceLROnPlateau reducing learning rate to 0.00010000000474974513.\n",
      "Epoch 17/50\n",
      "569/569 [==============================] - 3s 6ms/step - loss: 0.0704 - dice_coef: 0.8700\n",
      "Epoch 18/50\n",
      "569/569 [==============================] - 3s 6ms/step - loss: 0.0689 - dice_coef: 0.8703\n",
      "Epoch 19/50\n",
      "569/569 [==============================] - 3s 6ms/step - loss: 0.0684 - dice_coef: 0.8697\n",
      "Epoch 20/50\n",
      "569/569 [==============================] - 3s 6ms/step - loss: 0.0684 - dice_coef: 0.8725\n",
      "Epoch 21/50\n",
      "569/569 [==============================] - 3s 6ms/step - loss: 0.0678 - dice_coef: 0.8705\n",
      "Epoch 22/50\n",
      "569/569 [==============================] - 3s 6ms/step - loss: 0.0677 - dice_coef: 0.8722\n",
      "Epoch 23/50\n",
      "569/569 [==============================] - 3s 6ms/step - loss: 0.0673 - dice_coef: 0.8723\n",
      "Epoch 24/50\n",
      "569/569 [==============================] - 3s 6ms/step - loss: 0.0669 - dice_coef: 0.8732\n",
      "Epoch 25/50\n",
      "569/569 [==============================] - 3s 6ms/step - loss: 0.0666 - dice_coef: 0.8720\n",
      "Epoch 26/50\n",
      "569/569 [==============================] - 3s 6ms/step - loss: 0.0667 - dice_coef: 0.8750\n",
      "Epoch 27/50\n",
      "569/569 [==============================] - 3s 6ms/step - loss: 0.0664 - dice_coef: 0.8731\n",
      "Epoch 28/50\n",
      "569/569 [==============================] - 3s 6ms/step - loss: 0.0661 - dice_coef: 0.8743\n",
      "Epoch 29/50\n",
      "569/569 [==============================] - 3s 6ms/step - loss: 0.0659 - dice_coef: 0.8749\n",
      "Epoch 30/50\n",
      "569/569 [==============================] - 3s 6ms/step - loss: 0.0659 - dice_coef: 0.8756\n",
      "Epoch 31/50\n",
      "569/569 [==============================] - 3s 6ms/step - loss: 0.0655 - dice_coef: 0.8755\n",
      "Epoch 32/50\n",
      "569/569 [==============================] - 3s 6ms/step - loss: 0.0651 - dice_coef: 0.8760\n",
      "Epoch 33/50\n",
      "569/569 [==============================] - 3s 6ms/step - loss: 0.0651 - dice_coef: 0.8776\n",
      "Epoch 34/50\n",
      "569/569 [==============================] - 4s 6ms/step - loss: 0.0648 - dice_coef: 0.8777\n",
      "Epoch 35/50\n",
      "569/569 [==============================] - 3s 6ms/step - loss: 0.0649 - dice_coef: 0.8775\n",
      "Epoch 36/50\n",
      "569/569 [==============================] - 3s 6ms/step - loss: 0.0643 - dice_coef: 0.8794\n",
      "Epoch 37/50\n",
      "569/569 [==============================] - 3s 6ms/step - loss: 0.0640 - dice_coef: 0.8780\n",
      "Epoch 38/50\n",
      "569/569 [==============================] - 3s 6ms/step - loss: 0.0636 - dice_coef: 0.8787\n",
      "Epoch 39/50\n",
      "569/569 [==============================] - 3s 6ms/step - loss: 0.0639 - dice_coef: 0.8803\n",
      "Epoch 40/50\n",
      "569/569 [==============================] - 3s 6ms/step - loss: 0.0638 - dice_coef: 0.8785\n",
      "Epoch 41/50\n",
      "569/569 [==============================] - 3s 6ms/step - loss: 0.0631 - dice_coef: 0.8814\n",
      "Epoch 42/50\n",
      "569/569 [==============================] - 3s 6ms/step - loss: 0.0623 - dice_coef: 0.8815\n",
      "Epoch 43/50\n",
      "569/569 [==============================] - 4s 6ms/step - loss: 0.0623 - dice_coef: 0.8813\n",
      "Epoch 44/50\n",
      "569/569 [==============================] - 3s 6ms/step - loss: 0.0621 - dice_coef: 0.8809\n",
      "Epoch 45/50\n",
      "569/569 [==============================] - 3s 6ms/step - loss: 0.0619 - dice_coef: 0.8834\n",
      "Epoch 46/50\n",
      "569/569 [==============================] - 3s 6ms/step - loss: 0.0618 - dice_coef: 0.8832\n",
      "Epoch 47/50\n",
      "569/569 [==============================] - 3s 6ms/step - loss: 0.0619 - dice_coef: 0.8816\n",
      "Epoch 48/50\n",
      "569/569 [==============================] - 3s 6ms/step - loss: 0.0613 - dice_coef: 0.8818\n",
      "Epoch 49/50\n",
      "569/569 [==============================] - 3s 6ms/step - loss: 0.0608 - dice_coef: 0.8867\n",
      "Epoch 50/50\n",
      "569/569 [==============================] - 4s 6ms/step - loss: 0.0607 - dice_coef: 0.8833\n"
     ]
    },
    {
     "data": {
      "text/plain": [
       "<keras.callbacks.callbacks.History at 0x7f20c83b8d90>"
      ]
     },
     "execution_count": 56,
     "metadata": {},
     "output_type": "execute_result"
    }
   ],
   "source": [
    "unet_elu_015_dropout_cbs.fit(X_train, y_train, batch_size=16, epochs=50, callbacks=callbacks2)"
   ]
  },
  {
   "cell_type": "code",
   "execution_count": 57,
   "metadata": {},
   "outputs": [],
   "source": [
    "def conv2d_block_ccd(input_tensor, n_filters, kernel_size=3, dropout=1, activation='relu'):\n",
    "    # first layer\n",
    "    c1 = Conv2D(filters=n_filters, activation=activation, kernel_size=(kernel_size, kernel_size), kernel_initializer=\"he_normal\",\n",
    "               padding=\"same\")(input_tensor)\n",
    "    # second layer\n",
    "    c1 = Conv2D(filters=n_filters, activation=activation, kernel_size=(kernel_size, kernel_size), kernel_initializer=\"he_normal\",\n",
    "               padding=\"same\")(c1)\n",
    "    c1 = Dropout(0.1)(c1)\n",
    "    return c1\n",
    "\n",
    "\n",
    "def unet_model_ccd(IMG_WIDTH=256,IMG_HEIGHT=256,IMG_CHANNELS=3, activation='relu', dropout=0.1):\n",
    "    inputs = Input((IMG_HEIGHT, IMG_WIDTH, IMG_CHANNELS))\n",
    "    s = Lambda(lambda x: x / 255)(inputs)\n",
    "    n_filters = 16\n",
    "    \n",
    "    c1 = conv2d_block_ccd(s, 16, kernel_size=3, dropout=dropout*1, activation=activation)\n",
    "    p1 = MaxPooling2D((2, 2), name='pool1')(c1)\n",
    "    \n",
    "    \n",
    "    c2 = conv2d_block_ccd(p1, 32, kernel_size=3, dropout=dropout*1, activation=activation)\n",
    "    p2 = MaxPooling2D((2, 2))(c2)\n",
    "\n",
    "    c3 = conv2d_block_ccd(p2, 64, kernel_size=3, dropout=dropout*2, activation=activation)\n",
    "    p3 = MaxPooling2D((2, 2))(c3)\n",
    "\n",
    "    c4 = conv2d_block_ccd(p3, 128, kernel_size=3, dropout=dropout*2, activation=activation)\n",
    "    p4 = MaxPooling2D((2, 2))(c4)\n",
    "\n",
    "    c5 = conv2d_block_ccd(p4, 256, kernel_size=3, dropout=dropout*3, activation=activation)\n",
    "\n",
    "    u6 = Conv2DTranspose(128, (2, 2), strides=(2, 2), padding='same')(c5)\n",
    "    u6 = concatenate([u6, c4])\n",
    "    c6 = conv2d_block_ccd(u6, 128, kernel_size=3, dropout=dropout*2, activation=activation)\n",
    "\n",
    "    u7 = Conv2DTranspose(64, (2, 2), strides=(2, 2), padding='same')(c6)\n",
    "    u7 = concatenate([u7, c3])\n",
    "    c7 = conv2d_block_ccd(u7, 64, kernel_size=3, dropout=dropout*2, activation=activation)\n",
    "\n",
    "    u8 = Conv2DTranspose(32, (2, 2), strides=(2, 2), padding='same')(c7)\n",
    "    u8 = concatenate([u8, c2])\n",
    "    c8 = conv2d_block_ccd(u8, 32, kernel_size=3, dropout=dropout*1, activation=activation)\n",
    "\n",
    "    u9 = Conv2DTranspose(16, (2, 2), strides=(2, 2), padding='same')(c8)\n",
    "    u9 = concatenate([u9, c1], axis=3)\n",
    "    c9 = conv2d_block_ccd(u9, 16, kernel_size=3, dropout=dropout*1, activation=activation)\n",
    "    \n",
    "    d10 = Dropout\n",
    "\n",
    "    outputs = Conv2D(1, (1, 1), activation='sigmoid')(c9)\n",
    "\n",
    "    model = Model(inputs=[inputs], outputs=[outputs])\n",
    "    model.compile(optimizer='adam', loss='binary_crossentropy', metrics=[dice_coef])\n",
    "    return model"
   ]
  },
  {
   "cell_type": "code",
   "execution_count": 58,
   "metadata": {},
   "outputs": [],
   "source": [
    "# get u_net model\n",
    "unet_elu_015_dropout_ccd = unet_model_ccd(activation=\"elu\", dropout=0.15)"
   ]
  },
  {
   "cell_type": "code",
   "execution_count": 59,
   "metadata": {},
   "outputs": [
    {
     "name": "stdout",
     "output_type": "stream",
     "text": [
      "Epoch 1/50\n",
      "569/569 [==============================] - 5s 9ms/step - loss: 0.3097 - dice_coef: 0.4681\n",
      "Epoch 2/50\n",
      "569/569 [==============================] - 4s 6ms/step - loss: 0.1263 - dice_coef: 0.7736\n",
      "Epoch 3/50\n",
      "569/569 [==============================] - 4s 6ms/step - loss: 0.1033 - dice_coef: 0.8082\n",
      "Epoch 4/50\n",
      "569/569 [==============================] - 4s 6ms/step - loss: 0.0945 - dice_coef: 0.8261\n",
      "Epoch 5/50\n",
      "569/569 [==============================] - 4s 6ms/step - loss: 0.0877 - dice_coef: 0.8380\n",
      "Epoch 6/50\n",
      "569/569 [==============================] - 4s 6ms/step - loss: 0.0806 - dice_coef: 0.8507\n",
      "Epoch 7/50\n",
      "569/569 [==============================] - 4s 6ms/step - loss: 0.0827 - dice_coef: 0.8463\n",
      "Epoch 8/50\n",
      "569/569 [==============================] - 4s 6ms/step - loss: 0.0788 - dice_coef: 0.8550\n",
      "Epoch 9/50\n",
      "569/569 [==============================] - 4s 6ms/step - loss: 0.0753 - dice_coef: 0.8594\n",
      "Epoch 10/50\n",
      "569/569 [==============================] - 4s 6ms/step - loss: 0.0750 - dice_coef: 0.8614\n",
      "Epoch 11/50\n",
      "569/569 [==============================] - 4s 6ms/step - loss: 0.0754 - dice_coef: 0.8599\n",
      "Epoch 12/50\n",
      "569/569 [==============================] - 4s 6ms/step - loss: 0.0728 - dice_coef: 0.8656\n",
      "Epoch 13/50\n",
      "569/569 [==============================] - 3s 6ms/step - loss: 0.0696 - dice_coef: 0.8681\n",
      "Epoch 14/50\n",
      "569/569 [==============================] - 3s 6ms/step - loss: 0.0697 - dice_coef: 0.8701\n",
      "Epoch 15/50\n",
      "569/569 [==============================] - 3s 6ms/step - loss: 0.0720 - dice_coef: 0.8675\n",
      "Epoch 16/50\n",
      "569/569 [==============================] - 4s 6ms/step - loss: 0.0733 - dice_coef: 0.8636\n",
      "Epoch 17/50\n",
      "569/569 [==============================] - 4s 6ms/step - loss: 0.1110 - dice_coef: 0.8043\n",
      "Epoch 18/50\n",
      "569/569 [==============================] - 4s 6ms/step - loss: 0.0905 - dice_coef: 0.8365\n",
      "Epoch 19/50\n",
      "569/569 [==============================] - 3s 6ms/step - loss: 0.0795 - dice_coef: 0.8546\n",
      "Epoch 20/50\n",
      "569/569 [==============================] - 3s 6ms/step - loss: 0.0736 - dice_coef: 0.8652\n",
      "Epoch 21/50\n",
      "569/569 [==============================] - 3s 6ms/step - loss: 0.0722 - dice_coef: 0.8670\n",
      "Epoch 22/50\n",
      "569/569 [==============================] - 3s 6ms/step - loss: 0.0712 - dice_coef: 0.8649\n",
      "Epoch 23/50\n",
      "569/569 [==============================] - 4s 6ms/step - loss: 0.0693 - dice_coef: 0.8696\n",
      "Epoch 24/50\n",
      "569/569 [==============================] - 3s 6ms/step - loss: 0.0701 - dice_coef: 0.8666\n",
      "Epoch 25/50\n",
      "569/569 [==============================] - 3s 6ms/step - loss: 0.0698 - dice_coef: 0.8698\n",
      "Epoch 26/50\n",
      "569/569 [==============================] - 3s 6ms/step - loss: 0.0689 - dice_coef: 0.8706\n",
      "Epoch 27/50\n",
      "569/569 [==============================] - 3s 6ms/step - loss: 0.0693 - dice_coef: 0.8712\n",
      "Epoch 28/50\n",
      "569/569 [==============================] - 4s 6ms/step - loss: 0.0671 - dice_coef: 0.8742\n",
      "Epoch 29/50\n",
      "569/569 [==============================] - 4s 6ms/step - loss: 0.0667 - dice_coef: 0.8749\n",
      "Epoch 30/50\n",
      "569/569 [==============================] - 3s 6ms/step - loss: 0.0670 - dice_coef: 0.8751\n",
      "Epoch 31/50\n",
      "569/569 [==============================] - 4s 6ms/step - loss: 0.0662 - dice_coef: 0.8759\n",
      "Epoch 32/50\n",
      "569/569 [==============================] - 4s 6ms/step - loss: 0.0653 - dice_coef: 0.8780\n",
      "Epoch 33/50\n",
      "569/569 [==============================] - 3s 6ms/step - loss: 0.0652 - dice_coef: 0.8763\n",
      "Epoch 34/50\n",
      "569/569 [==============================] - 4s 6ms/step - loss: 0.0636 - dice_coef: 0.8810\n",
      "Epoch 35/50\n",
      "569/569 [==============================] - 3s 6ms/step - loss: 0.0629 - dice_coef: 0.8811\n",
      "Epoch 36/50\n",
      "569/569 [==============================] - 3s 6ms/step - loss: 0.0614 - dice_coef: 0.8830\n",
      "Epoch 37/50\n",
      "569/569 [==============================] - 3s 6ms/step - loss: 0.0607 - dice_coef: 0.8857\n",
      "Epoch 38/50\n",
      "569/569 [==============================] - 4s 6ms/step - loss: 0.0598 - dice_coef: 0.8888\n",
      "Epoch 39/50\n",
      "569/569 [==============================] - 3s 6ms/step - loss: 0.0621 - dice_coef: 0.8815\n",
      "Epoch 40/50\n",
      "569/569 [==============================] - 3s 6ms/step - loss: 0.0601 - dice_coef: 0.8862\n",
      "Epoch 41/50\n",
      "569/569 [==============================] - 3s 6ms/step - loss: 0.0615 - dice_coef: 0.8839\n",
      "Epoch 42/50\n",
      "569/569 [==============================] - 4s 6ms/step - loss: 0.0605 - dice_coef: 0.8871\n",
      "Epoch 43/50\n",
      "569/569 [==============================] - 3s 6ms/step - loss: 0.0595 - dice_coef: 0.8875\n",
      "Epoch 44/50\n",
      "569/569 [==============================] - 3s 6ms/step - loss: 0.0604 - dice_coef: 0.8862\n",
      "Epoch 45/50\n",
      "569/569 [==============================] - 3s 6ms/step - loss: 0.0579 - dice_coef: 0.8907\n",
      "Epoch 46/50\n",
      "569/569 [==============================] - 4s 6ms/step - loss: 0.0567 - dice_coef: 0.8918\n",
      "Epoch 47/50\n",
      "569/569 [==============================] - 4s 6ms/step - loss: 0.0559 - dice_coef: 0.8950\n",
      "Epoch 48/50\n",
      "569/569 [==============================] - 4s 6ms/step - loss: 0.0544 - dice_coef: 0.8951\n",
      "Epoch 49/50\n",
      "569/569 [==============================] - 4s 6ms/step - loss: 0.0530 - dice_coef: 0.9002\n",
      "Epoch 50/50\n",
      "569/569 [==============================] - 4s 6ms/step - loss: 0.0529 - dice_coef: 0.8983\n"
     ]
    },
    {
     "data": {
      "text/plain": [
       "<keras.callbacks.callbacks.History at 0x7f20c706ad50>"
      ]
     },
     "execution_count": 59,
     "metadata": {},
     "output_type": "execute_result"
    }
   ],
   "source": [
    "unet_elu_015_dropout_ccd.fit(X_train, y_train, batch_size=16, epochs=50)"
   ]
  },
  {
   "cell_type": "code",
   "execution_count": 60,
   "metadata": {},
   "outputs": [],
   "source": [
    "from keras.layers.core import Dense"
   ]
  },
  {
   "cell_type": "code",
   "execution_count": 61,
   "metadata": {},
   "outputs": [],
   "source": [
    "def unet_model_ccd_d(IMG_WIDTH=256,IMG_HEIGHT=256,IMG_CHANNELS=3, activation='relu', dropout=0.1):\n",
    "    inputs = Input((IMG_HEIGHT, IMG_WIDTH, IMG_CHANNELS))\n",
    "    s = Lambda(lambda x: x / 255)(inputs)\n",
    "    n_filters = 16\n",
    "    \n",
    "    c1 = conv2d_block_ccd(s, 16, kernel_size=3, dropout=dropout*1, activation=activation)\n",
    "    p1 = MaxPooling2D((2, 2), name='pool1')(c1)\n",
    "    \n",
    "    \n",
    "    c2 = conv2d_block_ccd(p1, 32, kernel_size=3, dropout=dropout*1, activation=activation)\n",
    "    p2 = MaxPooling2D((2, 2))(c2)\n",
    "\n",
    "    c3 = conv2d_block_ccd(p2, 64, kernel_size=3, dropout=dropout*2, activation=activation)\n",
    "    p3 = MaxPooling2D((2, 2))(c3)\n",
    "\n",
    "    c4 = conv2d_block_ccd(p3, 128, kernel_size=3, dropout=dropout*2, activation=activation)\n",
    "    p4 = MaxPooling2D((2, 2))(c4)\n",
    "\n",
    "    c5 = conv2d_block_ccd(p4, 256, kernel_size=3, dropout=dropout*3, activation=activation)\n",
    "\n",
    "    u6 = Conv2DTranspose(128, (2, 2), strides=(2, 2), padding='same')(c5)\n",
    "    u6 = concatenate([u6, c4])\n",
    "    c6 = conv2d_block_ccd(u6, 128, kernel_size=3, dropout=dropout*2, activation=activation)\n",
    "\n",
    "    u7 = Conv2DTranspose(64, (2, 2), strides=(2, 2), padding='same')(c6)\n",
    "    u7 = concatenate([u7, c3])\n",
    "    c7 = conv2d_block_ccd(u7, 64, kernel_size=3, dropout=dropout*2, activation=activation)\n",
    "\n",
    "    u8 = Conv2DTranspose(32, (2, 2), strides=(2, 2), padding='same')(c7)\n",
    "    u8 = concatenate([u8, c2])\n",
    "    c8 = conv2d_block_ccd(u8, 32, kernel_size=3, dropout=dropout*1, activation=activation)\n",
    "\n",
    "    u9 = Conv2DTranspose(16, (2, 2), strides=(2, 2), padding='same')(c8)\n",
    "    u9 = concatenate([u9, c1], axis=3)\n",
    "    c9 = conv2d_block_ccd(u9, 16, kernel_size=3, dropout=dropout*1, activation=activation)\n",
    "    \n",
    "    d10 = Dense(256,activation=activation)(c9)\n",
    "    d10 = Dense(128,activation=activation)(d10)\n",
    "\n",
    "    outputs = Conv2D(1, (1, 1), activation='sigmoid')(d10)\n",
    "\n",
    "    model = Model(inputs=[inputs], outputs=[outputs])\n",
    "    model.compile(optimizer='adam', loss='binary_crossentropy', metrics=[dice_coef])\n",
    "    return model"
   ]
  },
  {
   "cell_type": "code",
   "execution_count": 62,
   "metadata": {},
   "outputs": [],
   "source": [
    "# get u_net model\n",
    "unet_elu_015_dropout_ccd_dd = unet_model_ccd_d(activation=\"elu\", dropout=0.15)"
   ]
  },
  {
   "cell_type": "code",
   "execution_count": 63,
   "metadata": {},
   "outputs": [
    {
     "name": "stdout",
     "output_type": "stream",
     "text": [
      "Model: \"model_15\"\n",
      "__________________________________________________________________________________________________\n",
      "Layer (type)                    Output Shape         Param #     Connected to                     \n",
      "==================================================================================================\n",
      "input_15 (InputLayer)           (None, 256, 256, 3)  0                                            \n",
      "__________________________________________________________________________________________________\n",
      "lambda_15 (Lambda)              (None, 256, 256, 3)  0           input_15[0][0]                   \n",
      "__________________________________________________________________________________________________\n",
      "conv2d_267 (Conv2D)             (None, 256, 256, 16) 448         lambda_15[0][0]                  \n",
      "__________________________________________________________________________________________________\n",
      "conv2d_268 (Conv2D)             (None, 256, 256, 16) 2320        conv2d_267[0][0]                 \n",
      "__________________________________________________________________________________________________\n",
      "dropout_127 (Dropout)           (None, 256, 256, 16) 0           conv2d_268[0][0]                 \n",
      "__________________________________________________________________________________________________\n",
      "pool1 (MaxPooling2D)            (None, 128, 128, 16) 0           dropout_127[0][0]                \n",
      "__________________________________________________________________________________________________\n",
      "conv2d_269 (Conv2D)             (None, 128, 128, 32) 4640        pool1[0][0]                      \n",
      "__________________________________________________________________________________________________\n",
      "conv2d_270 (Conv2D)             (None, 128, 128, 32) 9248        conv2d_269[0][0]                 \n",
      "__________________________________________________________________________________________________\n",
      "dropout_128 (Dropout)           (None, 128, 128, 32) 0           conv2d_270[0][0]                 \n",
      "__________________________________________________________________________________________________\n",
      "max_pooling2d_47 (MaxPooling2D) (None, 64, 64, 32)   0           dropout_128[0][0]                \n",
      "__________________________________________________________________________________________________\n",
      "conv2d_271 (Conv2D)             (None, 64, 64, 64)   18496       max_pooling2d_47[0][0]           \n",
      "__________________________________________________________________________________________________\n",
      "conv2d_272 (Conv2D)             (None, 64, 64, 64)   36928       conv2d_271[0][0]                 \n",
      "__________________________________________________________________________________________________\n",
      "dropout_129 (Dropout)           (None, 64, 64, 64)   0           conv2d_272[0][0]                 \n",
      "__________________________________________________________________________________________________\n",
      "max_pooling2d_48 (MaxPooling2D) (None, 32, 32, 64)   0           dropout_129[0][0]                \n",
      "__________________________________________________________________________________________________\n",
      "conv2d_273 (Conv2D)             (None, 32, 32, 128)  73856       max_pooling2d_48[0][0]           \n",
      "__________________________________________________________________________________________________\n",
      "conv2d_274 (Conv2D)             (None, 32, 32, 128)  147584      conv2d_273[0][0]                 \n",
      "__________________________________________________________________________________________________\n",
      "dropout_130 (Dropout)           (None, 32, 32, 128)  0           conv2d_274[0][0]                 \n",
      "__________________________________________________________________________________________________\n",
      "max_pooling2d_49 (MaxPooling2D) (None, 16, 16, 128)  0           dropout_130[0][0]                \n",
      "__________________________________________________________________________________________________\n",
      "conv2d_275 (Conv2D)             (None, 16, 16, 256)  295168      max_pooling2d_49[0][0]           \n",
      "__________________________________________________________________________________________________\n",
      "conv2d_276 (Conv2D)             (None, 16, 16, 256)  590080      conv2d_275[0][0]                 \n",
      "__________________________________________________________________________________________________\n",
      "dropout_131 (Dropout)           (None, 16, 16, 256)  0           conv2d_276[0][0]                 \n",
      "__________________________________________________________________________________________________\n",
      "conv2d_transpose_57 (Conv2DTran (None, 32, 32, 128)  131200      dropout_131[0][0]                \n",
      "__________________________________________________________________________________________________\n",
      "concatenate_57 (Concatenate)    (None, 32, 32, 256)  0           conv2d_transpose_57[0][0]        \n",
      "                                                                 dropout_130[0][0]                \n",
      "__________________________________________________________________________________________________\n",
      "conv2d_277 (Conv2D)             (None, 32, 32, 128)  295040      concatenate_57[0][0]             \n",
      "__________________________________________________________________________________________________\n",
      "conv2d_278 (Conv2D)             (None, 32, 32, 128)  147584      conv2d_277[0][0]                 \n",
      "__________________________________________________________________________________________________\n",
      "dropout_132 (Dropout)           (None, 32, 32, 128)  0           conv2d_278[0][0]                 \n",
      "__________________________________________________________________________________________________\n",
      "conv2d_transpose_58 (Conv2DTran (None, 64, 64, 64)   32832       dropout_132[0][0]                \n",
      "__________________________________________________________________________________________________\n",
      "concatenate_58 (Concatenate)    (None, 64, 64, 128)  0           conv2d_transpose_58[0][0]        \n",
      "                                                                 dropout_129[0][0]                \n",
      "__________________________________________________________________________________________________\n",
      "conv2d_279 (Conv2D)             (None, 64, 64, 64)   73792       concatenate_58[0][0]             \n",
      "__________________________________________________________________________________________________\n",
      "conv2d_280 (Conv2D)             (None, 64, 64, 64)   36928       conv2d_279[0][0]                 \n",
      "__________________________________________________________________________________________________\n",
      "dropout_133 (Dropout)           (None, 64, 64, 64)   0           conv2d_280[0][0]                 \n",
      "__________________________________________________________________________________________________\n",
      "conv2d_transpose_59 (Conv2DTran (None, 128, 128, 32) 8224        dropout_133[0][0]                \n",
      "__________________________________________________________________________________________________\n",
      "concatenate_59 (Concatenate)    (None, 128, 128, 64) 0           conv2d_transpose_59[0][0]        \n",
      "                                                                 dropout_128[0][0]                \n",
      "__________________________________________________________________________________________________\n",
      "conv2d_281 (Conv2D)             (None, 128, 128, 32) 18464       concatenate_59[0][0]             \n",
      "__________________________________________________________________________________________________\n",
      "conv2d_282 (Conv2D)             (None, 128, 128, 32) 9248        conv2d_281[0][0]                 \n",
      "__________________________________________________________________________________________________\n",
      "dropout_134 (Dropout)           (None, 128, 128, 32) 0           conv2d_282[0][0]                 \n",
      "__________________________________________________________________________________________________\n",
      "conv2d_transpose_60 (Conv2DTran (None, 256, 256, 16) 2064        dropout_134[0][0]                \n",
      "__________________________________________________________________________________________________\n",
      "concatenate_60 (Concatenate)    (None, 256, 256, 32) 0           conv2d_transpose_60[0][0]        \n",
      "                                                                 dropout_127[0][0]                \n",
      "__________________________________________________________________________________________________\n",
      "conv2d_283 (Conv2D)             (None, 256, 256, 16) 4624        concatenate_60[0][0]             \n",
      "__________________________________________________________________________________________________\n",
      "conv2d_284 (Conv2D)             (None, 256, 256, 16) 2320        conv2d_283[0][0]                 \n",
      "__________________________________________________________________________________________________\n",
      "dropout_135 (Dropout)           (None, 256, 256, 16) 0           conv2d_284[0][0]                 \n",
      "__________________________________________________________________________________________________\n",
      "dense_1 (Dense)                 (None, 256, 256, 256 4352        dropout_135[0][0]                \n",
      "__________________________________________________________________________________________________\n",
      "dense_2 (Dense)                 (None, 256, 256, 128 32896       dense_1[0][0]                    \n",
      "__________________________________________________________________________________________________\n",
      "conv2d_285 (Conv2D)             (None, 256, 256, 1)  129         dense_2[0][0]                    \n",
      "==================================================================================================\n",
      "Total params: 1,978,465\n",
      "Trainable params: 1,978,465\n",
      "Non-trainable params: 0\n",
      "__________________________________________________________________________________________________\n"
     ]
    }
   ],
   "source": [
    "unet_elu_015_dropout_ccd_dd.summary()"
   ]
  },
  {
   "cell_type": "code",
   "execution_count": 64,
   "metadata": {},
   "outputs": [
    {
     "name": "stdout",
     "output_type": "stream",
     "text": [
      "Epoch 1/50\n",
      "569/569 [==============================] - 9s 17ms/step - loss: 0.4301 - dice_coef: 0.2164\n",
      "Epoch 2/50\n",
      "569/569 [==============================] - 8s 14ms/step - loss: 0.2614 - dice_coef: 0.4893\n",
      "Epoch 3/50\n",
      "569/569 [==============================] - 8s 14ms/step - loss: 0.1685 - dice_coef: 0.6937\n",
      "Epoch 4/50\n",
      "569/569 [==============================] - 8s 14ms/step - loss: 0.1212 - dice_coef: 0.7759\n",
      "Epoch 5/50\n",
      "569/569 [==============================] - 8s 14ms/step - loss: 0.1018 - dice_coef: 0.8136\n",
      "Epoch 6/50\n",
      "569/569 [==============================] - 8s 14ms/step - loss: 0.0965 - dice_coef: 0.8241\n",
      "Epoch 7/50\n",
      "569/569 [==============================] - 8s 14ms/step - loss: 0.0914 - dice_coef: 0.8339\n",
      "Epoch 8/50\n",
      "569/569 [==============================] - 8s 14ms/step - loss: 0.0889 - dice_coef: 0.8379\n",
      "Epoch 9/50\n",
      "569/569 [==============================] - 8s 14ms/step - loss: 0.0843 - dice_coef: 0.8464\n",
      "Epoch 10/50\n",
      "569/569 [==============================] - 8s 14ms/step - loss: 0.0825 - dice_coef: 0.8474\n",
      "Epoch 11/50\n",
      "569/569 [==============================] - 8s 14ms/step - loss: 0.0864 - dice_coef: 0.8458\n",
      "Epoch 12/50\n",
      "569/569 [==============================] - 8s 14ms/step - loss: 0.0822 - dice_coef: 0.8497\n",
      "Epoch 13/50\n",
      "569/569 [==============================] - 8s 14ms/step - loss: 0.0808 - dice_coef: 0.8506\n",
      "Epoch 14/50\n",
      "569/569 [==============================] - 8s 14ms/step - loss: 0.1322 - dice_coef: 0.7618\n",
      "Epoch 15/50\n",
      "569/569 [==============================] - 8s 14ms/step - loss: 0.1001 - dice_coef: 0.8196\n",
      "Epoch 16/50\n",
      "569/569 [==============================] - 8s 14ms/step - loss: 0.0859 - dice_coef: 0.8424\n",
      "Epoch 17/50\n",
      "569/569 [==============================] - 8s 14ms/step - loss: 0.0832 - dice_coef: 0.8449\n",
      "Epoch 18/50\n",
      "569/569 [==============================] - 8s 14ms/step - loss: 0.0839 - dice_coef: 0.8452\n",
      "Epoch 19/50\n",
      "569/569 [==============================] - 8s 14ms/step - loss: 0.0825 - dice_coef: 0.8496\n",
      "Epoch 20/50\n",
      "569/569 [==============================] - 8s 14ms/step - loss: 0.0757 - dice_coef: 0.8598\n",
      "Epoch 21/50\n",
      "569/569 [==============================] - 8s 14ms/step - loss: 0.0757 - dice_coef: 0.8603\n",
      "Epoch 22/50\n",
      "569/569 [==============================] - 8s 14ms/step - loss: 0.0744 - dice_coef: 0.8624\n",
      "Epoch 23/50\n",
      "569/569 [==============================] - 8s 14ms/step - loss: 0.0718 - dice_coef: 0.8664\n",
      "Epoch 24/50\n",
      "569/569 [==============================] - 8s 14ms/step - loss: 0.0715 - dice_coef: 0.8653\n",
      "Epoch 25/50\n",
      "569/569 [==============================] - 8s 14ms/step - loss: 0.0695 - dice_coef: 0.8707\n",
      "Epoch 26/50\n",
      "569/569 [==============================] - 8s 14ms/step - loss: 0.0719 - dice_coef: 0.8633\n",
      "Epoch 27/50\n",
      "569/569 [==============================] - 8s 14ms/step - loss: 0.0712 - dice_coef: 0.8643\n",
      "Epoch 28/50\n",
      "569/569 [==============================] - 8s 14ms/step - loss: 0.0696 - dice_coef: 0.8693\n",
      "Epoch 29/50\n",
      "569/569 [==============================] - 8s 14ms/step - loss: 0.0690 - dice_coef: 0.8704\n",
      "Epoch 30/50\n",
      "569/569 [==============================] - 8s 14ms/step - loss: 0.0684 - dice_coef: 0.8728\n",
      "Epoch 31/50\n",
      "569/569 [==============================] - 8s 14ms/step - loss: 0.0690 - dice_coef: 0.8709\n",
      "Epoch 32/50\n",
      "569/569 [==============================] - 8s 14ms/step - loss: 0.0680 - dice_coef: 0.8719\n",
      "Epoch 33/50\n",
      "569/569 [==============================] - 8s 14ms/step - loss: 0.0670 - dice_coef: 0.8747\n",
      "Epoch 34/50\n",
      "569/569 [==============================] - 8s 14ms/step - loss: 0.0676 - dice_coef: 0.8725\n",
      "Epoch 35/50\n",
      "569/569 [==============================] - 8s 14ms/step - loss: 0.0660 - dice_coef: 0.8758\n",
      "Epoch 36/50\n",
      "569/569 [==============================] - 8s 14ms/step - loss: 0.0671 - dice_coef: 0.8742\n",
      "Epoch 37/50\n",
      "569/569 [==============================] - 8s 14ms/step - loss: 0.0664 - dice_coef: 0.8747\n",
      "Epoch 38/50\n",
      "569/569 [==============================] - 8s 14ms/step - loss: 0.0648 - dice_coef: 0.8771\n",
      "Epoch 39/50\n",
      "569/569 [==============================] - 8s 14ms/step - loss: 0.0674 - dice_coef: 0.8714\n",
      "Epoch 40/50\n",
      "569/569 [==============================] - 8s 14ms/step - loss: 0.0644 - dice_coef: 0.8791\n",
      "Epoch 41/50\n",
      "569/569 [==============================] - 8s 14ms/step - loss: 0.0648 - dice_coef: 0.8761\n",
      "Epoch 42/50\n",
      "569/569 [==============================] - 8s 14ms/step - loss: 0.0647 - dice_coef: 0.8789\n",
      "Epoch 43/50\n",
      "569/569 [==============================] - 8s 14ms/step - loss: 0.0635 - dice_coef: 0.8796\n",
      "Epoch 44/50\n",
      "569/569 [==============================] - 8s 14ms/step - loss: 0.0639 - dice_coef: 0.8783\n",
      "Epoch 45/50\n",
      "569/569 [==============================] - 8s 14ms/step - loss: 0.0639 - dice_coef: 0.8792\n",
      "Epoch 46/50\n",
      "569/569 [==============================] - 8s 14ms/step - loss: 0.0623 - dice_coef: 0.8828\n",
      "Epoch 47/50\n",
      "569/569 [==============================] - 8s 14ms/step - loss: 0.0615 - dice_coef: 0.8824\n",
      "Epoch 48/50\n",
      "569/569 [==============================] - 8s 14ms/step - loss: 0.0621 - dice_coef: 0.8829\n",
      "Epoch 49/50\n",
      "569/569 [==============================] - 8s 14ms/step - loss: 0.0661 - dice_coef: 0.8737\n",
      "Epoch 50/50\n",
      "569/569 [==============================] - 8s 14ms/step - loss: 0.0655 - dice_coef: 0.8793\n"
     ]
    },
    {
     "data": {
      "text/plain": [
       "<keras.callbacks.callbacks.History at 0x7f20c6491b90>"
      ]
     },
     "execution_count": 64,
     "metadata": {},
     "output_type": "execute_result"
    }
   ],
   "source": [
    "unet_elu_015_dropout_ccd_dd.fit(X_train, y_train, batch_size=16, epochs=50)"
   ]
  },
  {
   "cell_type": "markdown",
   "execution_count": null,
   "metadata": {},
   "source": [
    "**Let's try avgpool instead of max pool**"
   ]
  },
  {
   "cell_type": "code",
   "execution_count": 65,
   "metadata": {},
   "outputs": [],
   "source": [
    "from keras.models import Model, load_model\n",
    "from keras.layers import Input\n",
    "from keras.layers.core import Dropout, Lambda\n",
    "from keras.layers.convolutional import Conv2D, Conv2DTranspose,Convolution2D\n",
    "from keras.layers.pooling import MaxPooling2D, AveragePooling2D\n",
    "from keras.layers.merge import concatenate\n",
    "from keras.callbacks import EarlyStopping, ModelCheckpoint\n",
    "from keras import backend as K\n",
    "\n",
    "\n",
    "def dice_coef(y_true, y_pred, smooth=1):\n",
    "    y_true_f = K.flatten(y_true)\n",
    "    y_pred_f = K.flatten(y_pred)\n",
    "    intersection = K.sum(y_true_f * y_pred_f)\n",
    "    return (2. * intersection + smooth) / (K.sum(y_true_f) + K.sum(y_pred_f) + smooth)\n",
    "\n",
    "\n",
    "def conv2d_block(input_tensor, n_filters, kernel_size=3, dropout=1, activation='relu'):\n",
    "    # first layer\n",
    "    c1 = Conv2D(filters=n_filters, activation=activation, kernel_size=(kernel_size, kernel_size), kernel_initializer=\"he_normal\",\n",
    "               padding=\"same\")(input_tensor)\n",
    "    c1 = Dropout(0.1)(c1)\n",
    "    # second layer\n",
    "    c1 = Conv2D(filters=n_filters, activation=activation, kernel_size=(kernel_size, kernel_size), kernel_initializer=\"he_normal\",\n",
    "               padding=\"same\")(c1)\n",
    "    return c1\n",
    "\n",
    "\n",
    "def unet_model_av_pool(IMG_WIDTH=256,IMG_HEIGHT=256,IMG_CHANNELS=3, activation='relu', dropout=0.1):\n",
    "    inputs = Input((IMG_HEIGHT, IMG_WIDTH, IMG_CHANNELS))\n",
    "    s = Lambda(lambda x: x / 255)(inputs)\n",
    "    n_filters = 16\n",
    "    \n",
    "    c1 = conv2d_block(s, 16, kernel_size=3, dropout=dropout*1, activation=activation)\n",
    "    p1 = AveragePooling2D((2, 2), name='pool1')(c1)\n",
    "    \n",
    "    \n",
    "    c2 = conv2d_block(p1, 32, kernel_size=3, dropout=dropout*1, activation=activation)\n",
    "    p2 = AveragePooling2D((2, 2))(c2)\n",
    "\n",
    "    c3 = conv2d_block(p2, 64, kernel_size=3, dropout=dropout*2, activation=activation)\n",
    "    p3 = AveragePooling2D((2, 2))(c3)\n",
    "\n",
    "    c4 = conv2d_block(p3, 128, kernel_size=3, dropout=dropout*2, activation=activation)\n",
    "    p4 = AveragePooling2D((2, 2))(c4)\n",
    "\n",
    "    c5 = conv2d_block(p4, 256, kernel_size=3, dropout=dropout*3, activation=activation)\n",
    "\n",
    "    u6 = Conv2DTranspose(128, (2, 2), strides=(2, 2), padding='same')(c5)\n",
    "    u6 = concatenate([u6, c4])\n",
    "    c6 = conv2d_block(u6, 128, kernel_size=3, dropout=dropout*2, activation=activation)\n",
    "\n",
    "    u7 = Conv2DTranspose(64, (2, 2), strides=(2, 2), padding='same')(c6)\n",
    "    u7 = concatenate([u7, c3])\n",
    "    c7 = conv2d_block(u7, 64, kernel_size=3, dropout=dropout*2, activation=activation)\n",
    "\n",
    "    u8 = Conv2DTranspose(32, (2, 2), strides=(2, 2), padding='same')(c7)\n",
    "    u8 = concatenate([u8, c2])\n",
    "    c8 = conv2d_block(u8, 32, kernel_size=3, dropout=dropout*1, activation=activation)\n",
    "\n",
    "    u9 = Conv2DTranspose(16, (2, 2), strides=(2, 2), padding='same')(c8)\n",
    "    u9 = concatenate([u9, c1], axis=3)\n",
    "    c9 = conv2d_block(u9, 16, kernel_size=3, dropout=dropout*1, activation=activation)\n",
    "\n",
    "    outputs = Conv2D(1, (1, 1), activation='sigmoid')(c9)\n",
    "\n",
    "    model = Model(inputs=[inputs], outputs=[outputs])\n",
    "    model.compile(optimizer='adam', loss='binary_crossentropy', metrics=[dice_coef])\n",
    "    return model"
   ]
  },
  {
   "cell_type": "code",
   "execution_count": 66,
   "metadata": {},
   "outputs": [],
   "source": [
    "unet_avpool = unet_model_av_pool(activation='elu')"
   ]
  },
  {
   "cell_type": "code",
   "execution_count": 67,
   "metadata": {},
   "outputs": [
    {
     "name": "stdout",
     "output_type": "stream",
     "text": [
      "Epoch 1/50\n",
      "569/569 [==============================] - 5s 9ms/step - loss: 0.3208 - dice_coef: 0.4217\n",
      "Epoch 2/50\n",
      "569/569 [==============================] - 3s 6ms/step - loss: 0.1465 - dice_coef: 0.7291\n",
      "Epoch 3/50\n",
      "569/569 [==============================] - 3s 6ms/step - loss: 0.1193 - dice_coef: 0.7780\n",
      "Epoch 4/50\n",
      "569/569 [==============================] - 3s 6ms/step - loss: 0.1048 - dice_coef: 0.8096\n",
      "Epoch 5/50\n",
      "569/569 [==============================] - 3s 6ms/step - loss: 0.0969 - dice_coef: 0.8216\n",
      "Epoch 6/50\n",
      "569/569 [==============================] - 3s 6ms/step - loss: 0.0931 - dice_coef: 0.8291\n",
      "Epoch 7/50\n",
      "569/569 [==============================] - 4s 6ms/step - loss: 0.0849 - dice_coef: 0.8420\n",
      "Epoch 8/50\n",
      "569/569 [==============================] - 3s 6ms/step - loss: 0.0801 - dice_coef: 0.8522\n",
      "Epoch 9/50\n",
      "569/569 [==============================] - 3s 6ms/step - loss: 0.0798 - dice_coef: 0.8526\n",
      "Epoch 10/50\n",
      "569/569 [==============================] - 3s 6ms/step - loss: 0.0813 - dice_coef: 0.8502\n",
      "Epoch 11/50\n",
      "569/569 [==============================] - 3s 6ms/step - loss: 0.0795 - dice_coef: 0.8525\n",
      "Epoch 12/50\n",
      "569/569 [==============================] - 3s 6ms/step - loss: 0.0767 - dice_coef: 0.8598\n",
      "Epoch 13/50\n",
      "569/569 [==============================] - 3s 6ms/step - loss: 0.0749 - dice_coef: 0.8624\n",
      "Epoch 14/50\n",
      "569/569 [==============================] - 3s 6ms/step - loss: 0.0735 - dice_coef: 0.8628\n",
      "Epoch 15/50\n",
      "569/569 [==============================] - 3s 6ms/step - loss: 0.0731 - dice_coef: 0.8649\n",
      "Epoch 16/50\n",
      "569/569 [==============================] - 3s 6ms/step - loss: 0.0736 - dice_coef: 0.8651\n",
      "Epoch 17/50\n",
      "569/569 [==============================] - 3s 6ms/step - loss: 0.0735 - dice_coef: 0.8633\n",
      "Epoch 18/50\n",
      "569/569 [==============================] - 3s 6ms/step - loss: 0.0720 - dice_coef: 0.8671\n",
      "Epoch 19/50\n",
      "569/569 [==============================] - 3s 6ms/step - loss: 0.0715 - dice_coef: 0.8650\n",
      "Epoch 20/50\n",
      "569/569 [==============================] - 3s 6ms/step - loss: 0.0699 - dice_coef: 0.8693\n",
      "Epoch 21/50\n",
      "569/569 [==============================] - 3s 6ms/step - loss: 0.0685 - dice_coef: 0.8717\n",
      "Epoch 22/50\n",
      "569/569 [==============================] - 3s 6ms/step - loss: 0.0689 - dice_coef: 0.8699\n",
      "Epoch 23/50\n",
      "569/569 [==============================] - 4s 6ms/step - loss: 0.0690 - dice_coef: 0.8717\n",
      "Epoch 24/50\n",
      "569/569 [==============================] - 3s 6ms/step - loss: 0.0702 - dice_coef: 0.8711\n",
      "Epoch 25/50\n",
      "569/569 [==============================] - 3s 6ms/step - loss: 0.0672 - dice_coef: 0.8738\n",
      "Epoch 26/50\n",
      "569/569 [==============================] - 4s 6ms/step - loss: 0.0678 - dice_coef: 0.8738\n",
      "Epoch 27/50\n",
      "569/569 [==============================] - 3s 6ms/step - loss: 0.0687 - dice_coef: 0.8714\n",
      "Epoch 28/50\n",
      "569/569 [==============================] - 3s 6ms/step - loss: 0.0661 - dice_coef: 0.8736\n",
      "Epoch 29/50\n",
      "569/569 [==============================] - 3s 6ms/step - loss: 0.0642 - dice_coef: 0.8783\n",
      "Epoch 30/50\n",
      "569/569 [==============================] - 3s 6ms/step - loss: 0.0643 - dice_coef: 0.8789\n",
      "Epoch 31/50\n",
      "569/569 [==============================] - 3s 6ms/step - loss: 0.0629 - dice_coef: 0.8790\n",
      "Epoch 32/50\n",
      "569/569 [==============================] - 3s 6ms/step - loss: 0.0612 - dice_coef: 0.8839\n",
      "Epoch 33/50\n",
      "569/569 [==============================] - 3s 6ms/step - loss: 0.0610 - dice_coef: 0.8853\n",
      "Epoch 34/50\n",
      "569/569 [==============================] - 3s 6ms/step - loss: 0.0609 - dice_coef: 0.8842\n",
      "Epoch 35/50\n",
      "569/569 [==============================] - 3s 6ms/step - loss: 0.0606 - dice_coef: 0.8850\n",
      "Epoch 36/50\n",
      "569/569 [==============================] - 3s 6ms/step - loss: 0.0616 - dice_coef: 0.8835\n",
      "Epoch 37/50\n",
      "569/569 [==============================] - 3s 6ms/step - loss: 0.0600 - dice_coef: 0.8853\n",
      "Epoch 38/50\n",
      "569/569 [==============================] - 3s 6ms/step - loss: 0.0592 - dice_coef: 0.8865\n",
      "Epoch 39/50\n",
      "569/569 [==============================] - 3s 6ms/step - loss: 0.0578 - dice_coef: 0.8905\n",
      "Epoch 40/50\n",
      "569/569 [==============================] - 4s 6ms/step - loss: 0.0569 - dice_coef: 0.8916\n",
      "Epoch 41/50\n",
      "569/569 [==============================] - 3s 6ms/step - loss: 0.0556 - dice_coef: 0.8943\n",
      "Epoch 42/50\n",
      "569/569 [==============================] - 3s 6ms/step - loss: 0.0549 - dice_coef: 0.8962\n",
      "Epoch 43/50\n",
      "569/569 [==============================] - 3s 6ms/step - loss: 0.0549 - dice_coef: 0.8936\n",
      "Epoch 44/50\n",
      "569/569 [==============================] - 3s 6ms/step - loss: 0.0541 - dice_coef: 0.8965\n",
      "Epoch 45/50\n",
      "569/569 [==============================] - 4s 6ms/step - loss: 0.0545 - dice_coef: 0.8961\n",
      "Epoch 46/50\n",
      "569/569 [==============================] - 3s 6ms/step - loss: 0.0527 - dice_coef: 0.8976\n",
      "Epoch 47/50\n",
      "569/569 [==============================] - 3s 6ms/step - loss: 0.0508 - dice_coef: 0.9017\n",
      "Epoch 48/50\n",
      "569/569 [==============================] - 3s 6ms/step - loss: 0.0498 - dice_coef: 0.9029\n",
      "Epoch 49/50\n",
      "569/569 [==============================] - 3s 6ms/step - loss: 0.0478 - dice_coef: 0.9085\n",
      "Epoch 50/50\n",
      "569/569 [==============================] - 3s 6ms/step - loss: 0.0465 - dice_coef: 0.9106\n"
     ]
    },
    {
     "data": {
      "text/plain": [
       "<keras.callbacks.callbacks.History at 0x7f20c6932ed0>"
      ]
     },
     "execution_count": 67,
     "metadata": {},
     "output_type": "execute_result"
    }
   ],
   "source": [
    "unet_avpool.fit(X_train, y_train, batch_size=16, epochs=50)"
   ]
  },
  {
   "cell_type": "code",
   "execution_count": 68,
   "metadata": {},
   "outputs": [],
   "source": [
    "from keras.models import Model, load_model\n",
    "from keras.layers import Input\n",
    "from keras.layers.core import Dropout, Lambda\n",
    "from keras.layers.convolutional import Conv2D, Conv2DTranspose,Convolution2D\n",
    "from keras.layers.pooling import MaxPooling2D\n",
    "from keras.layers.merge import concatenate\n",
    "from keras.callbacks import EarlyStopping, ModelCheckpoint\n",
    "from keras import backend as K\n",
    "\n",
    "\n",
    "def dice_coef(y_true, y_pred, smooth=1):\n",
    "    y_true_f = K.flatten(y_true)\n",
    "    y_pred_f = K.flatten(y_pred)\n",
    "    intersection = K.sum(y_true_f * y_pred_f)\n",
    "    return (2. * intersection + smooth) / (K.sum(y_true_f) + K.sum(y_pred_f) + smooth)\n",
    "\n",
    "\n",
    "def conv2d_block_nodo(input_tensor, n_filters, kernel_size=3, dropout=1, activation='relu'):\n",
    "    # first layer\n",
    "    c1 = Conv2D(filters=n_filters, activation=activation, kernel_size=(kernel_size, kernel_size), kernel_initializer=\"he_normal\",\n",
    "               padding=\"same\")(input_tensor)\n",
    "    # second layer\n",
    "    c1 = Conv2D(filters=n_filters, activation=activation, kernel_size=(kernel_size, kernel_size), kernel_initializer=\"he_normal\",\n",
    "               padding=\"same\")(c1)\n",
    "    return c1\n",
    "\n",
    "\n",
    "def unet_model_nodo(IMG_WIDTH=256,IMG_HEIGHT=256,IMG_CHANNELS=3, activation='relu', dropout=0.1):\n",
    "    inputs = Input((IMG_HEIGHT, IMG_WIDTH, IMG_CHANNELS))\n",
    "    s = Lambda(lambda x: x / 255)(inputs)\n",
    "    n_filters = 16\n",
    "    \n",
    "    c1 = conv2d_block_nodo(s, 16, kernel_size=3, dropout=dropout*1, activation=activation)\n",
    "    p1 = MaxPooling2D((2, 2), name='pool1')(c1)\n",
    "    \n",
    "    \n",
    "    c2 = conv2d_block_nodo(p1, 32, kernel_size=3, dropout=dropout*1, activation=activation)\n",
    "    p2 = MaxPooling2D((2, 2))(c2)\n",
    "\n",
    "    c3 = conv2d_block_nodo(p2, 64, kernel_size=3, dropout=dropout*2, activation=activation)\n",
    "    p3 = MaxPooling2D((2, 2))(c3)\n",
    "\n",
    "    c4 = conv2d_block_nodo(p3, 128, kernel_size=3, dropout=dropout*2, activation=activation)\n",
    "    p4 = MaxPooling2D((2, 2))(c4)\n",
    "\n",
    "    c5 = conv2d_block_nodo(p4, 256, kernel_size=3, dropout=dropout*3, activation=activation)\n",
    "\n",
    "    u6 = Conv2DTranspose(128, (2, 2), strides=(2, 2), padding='same')(c5)\n",
    "    u6 = concatenate([u6, c4])\n",
    "    c6 = conv2d_block_nodo(u6, 128, kernel_size=3, dropout=dropout*2, activation=activation)\n",
    "\n",
    "    u7 = Conv2DTranspose(64, (2, 2), strides=(2, 2), padding='same')(c6)\n",
    "    u7 = concatenate([u7, c3])\n",
    "    c7 = conv2d_block_nodo(u7, 64, kernel_size=3, dropout=dropout*2, activation=activation)\n",
    "\n",
    "    u8 = Conv2DTranspose(32, (2, 2), strides=(2, 2), padding='same')(c7)\n",
    "    u8 = concatenate([u8, c2])\n",
    "    c8 = conv2d_block_nodo(u8, 32, kernel_size=3, dropout=dropout*1, activation=activation)\n",
    "\n",
    "    u9 = Conv2DTranspose(16, (2, 2), strides=(2, 2), padding='same')(c8)\n",
    "    u9 = concatenate([u9, c1], axis=3)\n",
    "    c9 = conv2d_block_nodo(u9, 16, kernel_size=3, dropout=dropout*1, activation=activation)\n",
    "\n",
    "    outputs = Conv2D(1, (1, 1), activation='sigmoid')(c9)\n",
    "\n",
    "    model = Model(inputs=[inputs], outputs=[outputs])\n",
    "    model.compile(optimizer='adam', loss='binary_crossentropy', metrics=[dice_coef])\n",
    "    return model"
   ]
  },
  {
   "cell_type": "code",
   "execution_count": 69,
   "metadata": {},
   "outputs": [],
   "source": [
    "unet_nodo = unet_model_nodo(activation='elu')"
   ]
  },
  {
   "cell_type": "code",
   "execution_count": 70,
   "metadata": {},
   "outputs": [
    {
     "name": "stdout",
     "output_type": "stream",
     "text": [
      "Epoch 1/50\n",
      "569/569 [==============================] - 4s 7ms/step - loss: 0.3017 - dice_coef: 0.4238\n",
      "Epoch 2/50\n",
      "569/569 [==============================] - 3s 5ms/step - loss: 0.1589 - dice_coef: 0.6983\n",
      "Epoch 3/50\n",
      "569/569 [==============================] - 3s 5ms/step - loss: 0.1189 - dice_coef: 0.7824\n",
      "Epoch 4/50\n",
      "569/569 [==============================] - 3s 5ms/step - loss: 0.1110 - dice_coef: 0.7950\n",
      "Epoch 5/50\n",
      "569/569 [==============================] - 3s 5ms/step - loss: 0.1000 - dice_coef: 0.8178\n",
      "Epoch 6/50\n",
      "569/569 [==============================] - 3s 5ms/step - loss: 0.0931 - dice_coef: 0.8275\n",
      "Epoch 7/50\n",
      "569/569 [==============================] - 3s 5ms/step - loss: 0.0869 - dice_coef: 0.8367\n",
      "Epoch 8/50\n",
      "569/569 [==============================] - 3s 5ms/step - loss: 0.0848 - dice_coef: 0.8460\n",
      "Epoch 9/50\n",
      "569/569 [==============================] - 3s 5ms/step - loss: 0.0811 - dice_coef: 0.8500\n",
      "Epoch 10/50\n",
      "569/569 [==============================] - 3s 5ms/step - loss: 0.0746 - dice_coef: 0.8599\n",
      "Epoch 11/50\n",
      "569/569 [==============================] - 3s 5ms/step - loss: 0.0759 - dice_coef: 0.8585\n",
      "Epoch 12/50\n",
      "569/569 [==============================] - 3s 5ms/step - loss: 0.0718 - dice_coef: 0.8659\n",
      "Epoch 13/50\n",
      "569/569 [==============================] - 3s 5ms/step - loss: 0.0738 - dice_coef: 0.8609\n",
      "Epoch 14/50\n",
      "569/569 [==============================] - 3s 5ms/step - loss: 0.0716 - dice_coef: 0.8641\n",
      "Epoch 15/50\n",
      "569/569 [==============================] - 3s 5ms/step - loss: 0.0701 - dice_coef: 0.8691\n",
      "Epoch 16/50\n",
      "569/569 [==============================] - 3s 5ms/step - loss: 0.0712 - dice_coef: 0.8647\n",
      "Epoch 17/50\n",
      "569/569 [==============================] - 3s 5ms/step - loss: 0.0711 - dice_coef: 0.8678\n",
      "Epoch 18/50\n",
      "569/569 [==============================] - 3s 5ms/step - loss: 0.0684 - dice_coef: 0.8716\n",
      "Epoch 19/50\n",
      "569/569 [==============================] - 3s 5ms/step - loss: 0.0673 - dice_coef: 0.8737\n",
      "Epoch 20/50\n",
      "569/569 [==============================] - 3s 5ms/step - loss: 0.0654 - dice_coef: 0.8760\n",
      "Epoch 21/50\n",
      "569/569 [==============================] - 3s 5ms/step - loss: 0.0660 - dice_coef: 0.8728\n",
      "Epoch 22/50\n",
      "569/569 [==============================] - 3s 5ms/step - loss: 0.0662 - dice_coef: 0.8745\n",
      "Epoch 23/50\n",
      "569/569 [==============================] - 3s 5ms/step - loss: 0.0640 - dice_coef: 0.8798\n",
      "Epoch 24/50\n",
      "569/569 [==============================] - 3s 5ms/step - loss: 0.0647 - dice_coef: 0.8751\n",
      "Epoch 25/50\n",
      "569/569 [==============================] - 3s 5ms/step - loss: 0.0618 - dice_coef: 0.8827\n",
      "Epoch 26/50\n",
      "569/569 [==============================] - 3s 5ms/step - loss: 0.0594 - dice_coef: 0.8864\n",
      "Epoch 27/50\n",
      "569/569 [==============================] - 3s 5ms/step - loss: 0.0577 - dice_coef: 0.8899\n",
      "Epoch 28/50\n",
      "569/569 [==============================] - 3s 5ms/step - loss: 0.0586 - dice_coef: 0.8884\n",
      "Epoch 29/50\n",
      "569/569 [==============================] - 3s 5ms/step - loss: 0.0656 - dice_coef: 0.8773\n",
      "Epoch 30/50\n",
      "569/569 [==============================] - 3s 5ms/step - loss: 0.0626 - dice_coef: 0.8822\n",
      "Epoch 31/50\n",
      "569/569 [==============================] - 3s 5ms/step - loss: 0.0616 - dice_coef: 0.8847\n",
      "Epoch 32/50\n",
      "569/569 [==============================] - 3s 5ms/step - loss: 0.0570 - dice_coef: 0.8894\n",
      "Epoch 33/50\n",
      "569/569 [==============================] - 3s 5ms/step - loss: 0.0542 - dice_coef: 0.8966\n",
      "Epoch 34/50\n",
      "569/569 [==============================] - 3s 5ms/step - loss: 0.0550 - dice_coef: 0.8942\n",
      "Epoch 35/50\n",
      "569/569 [==============================] - 3s 5ms/step - loss: 0.0542 - dice_coef: 0.8941\n",
      "Epoch 36/50\n",
      "569/569 [==============================] - 3s 5ms/step - loss: 0.0547 - dice_coef: 0.8961\n",
      "Epoch 37/50\n",
      "569/569 [==============================] - 3s 5ms/step - loss: 0.0511 - dice_coef: 0.9021\n",
      "Epoch 38/50\n",
      "569/569 [==============================] - 3s 5ms/step - loss: 0.0506 - dice_coef: 0.9024\n",
      "Epoch 39/50\n",
      "569/569 [==============================] - 3s 5ms/step - loss: 0.0483 - dice_coef: 0.9066\n",
      "Epoch 40/50\n",
      "569/569 [==============================] - 3s 5ms/step - loss: 0.0455 - dice_coef: 0.9119\n",
      "Epoch 41/50\n",
      "569/569 [==============================] - 3s 5ms/step - loss: 0.0463 - dice_coef: 0.9105\n",
      "Epoch 42/50\n",
      "569/569 [==============================] - 3s 5ms/step - loss: 0.0430 - dice_coef: 0.9156\n",
      "Epoch 43/50\n",
      "569/569 [==============================] - 3s 5ms/step - loss: 0.0403 - dice_coef: 0.9215\n",
      "Epoch 44/50\n",
      "569/569 [==============================] - 3s 5ms/step - loss: 0.0388 - dice_coef: 0.9237\n",
      "Epoch 45/50\n",
      "569/569 [==============================] - 3s 5ms/step - loss: 0.0365 - dice_coef: 0.9284\n",
      "Epoch 46/50\n",
      "569/569 [==============================] - 3s 5ms/step - loss: 0.0357 - dice_coef: 0.9303\n",
      "Epoch 47/50\n",
      "569/569 [==============================] - 3s 5ms/step - loss: 0.0340 - dice_coef: 0.9331\n",
      "Epoch 48/50\n",
      "569/569 [==============================] - 3s 6ms/step - loss: 0.0314 - dice_coef: 0.9385\n",
      "Epoch 49/50\n",
      "569/569 [==============================] - 3s 5ms/step - loss: 0.0298 - dice_coef: 0.9417\n",
      "Epoch 50/50\n",
      "569/569 [==============================] - 3s 5ms/step - loss: 0.0290 - dice_coef: 0.9428\n"
     ]
    },
    {
     "data": {
      "text/plain": [
       "<keras.callbacks.callbacks.History at 0x7f20c5cbe950>"
      ]
     },
     "execution_count": 70,
     "metadata": {},
     "output_type": "execute_result"
    }
   ],
   "source": [
    "unet_nodo.fit(X_train, y_train, batch_size=16, epochs=50)"
   ]
  },
  {
   "cell_type": "markdown",
   "execution_count": null,
   "metadata": {},
   "source": [
    "**Trying to load model**"
   ]
  },
  {
   "cell_type": "code",
   "execution_count": 71,
   "metadata": {},
   "outputs": [],
   "source": [
    "from keras.models import load_model"
   ]
  },
  {
   "cell_type": "code",
   "execution_count": 72,
   "metadata": {},
   "outputs": [],
   "source": [
    "loaded_model = unet_model(activation=\"elu\")"
   ]
  },
  {
   "cell_type": "code",
   "execution_count": 73,
   "metadata": {},
   "outputs": [],
   "source": [
    "loaded_model.load_weights(\"model_weights.h5\")"
   ]
  },
  {
   "cell_type": "code",
   "execution_count": 74,
   "metadata": {},
   "outputs": [
    {
     "data": {
      "text/plain": [
       "<matplotlib.image.AxesImage at 0x7f20bb88aad0>"
      ]
     },
     "execution_count": 74,
     "metadata": {},
     "output_type": "execute_result"
    },
    {
     "data": {
      "image/png": "[encoded data removed]",
      "text/plain": [
       "<Figure size 432x288 with 1 Axes>"
      ]
     },
     "metadata": {
      "needs_background": "light"
     },
     "output_type": "display_data"
    }
   ],
   "source": [
    "plt.imshow(test_img[0])"
   ]
  }
 ],
 "metadata": {
  "kernelspec": {
   "display_name": "Python 3",
   "language": "python",
   "name": "python3"
  },
  "language_info": {
   "codemirror_mode": {
    "name": "ipython",
    "version": 3
   },
   "file_extension": ".py",
   "mimetype": "text/x-python",
   "name": "python",
   "nbconvert_exporter": "python",
   "pygments_lexer": "ipython3",
   "version": "3.7.6"
  }
 },
 "nbformat": 4,
 "nbformat_minor": 4
}
